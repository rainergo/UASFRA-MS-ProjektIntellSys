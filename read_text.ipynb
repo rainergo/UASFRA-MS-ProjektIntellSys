{
 "cells": [
  {
   "cell_type": "code",
   "execution_count": 1,
   "metadata": {
    "collapsed": true
   },
   "outputs": [],
   "source": [
    "import pdfplumber"
   ]
  },
  {
   "cell_type": "code",
   "execution_count": 2,
   "outputs": [],
   "source": [
    "from config import *\n",
    "path = siemens_pdf\n",
    "page = 26"
   ],
   "metadata": {
    "collapsed": false,
    "pycharm": {
     "name": "#%%\n"
    }
   }
  },
  {
   "cell_type": "code",
   "execution_count": 3,
   "outputs": [
    {
     "name": "stdout",
     "output_type": "stream",
     "text": [
      "Decarbonizing our business 27\n",
      "Energy consumption and greenhouse  Scope 1 and 2 emissions  FY 2020\n",
      "gas emissions 1000 metric tons of CO2 equivalent\n",
      "We monitor energy consumption at our office locations \n",
      "Scope 1 221\n",
      "and manufacturing facilities. It is calculated by adding \n",
      "266\n",
      "the primary and secondary consumption of fuels and \n",
      "electricity and enables us to track the success of our \n",
      "Thereof SF₆  66\n",
      "climate neutral program. emissions\n",
      "73\n",
      "Siemens Energy’s total energy consumption during the  Scope 2 1  71\n",
      "reporting period was 5.8 million gigajoules. Compared  175\n",
      "with fiscal year 2019, this is a reduction of 16.6%. This \n",
      "is mainly related to COVID-19 impacts on our global  Total 292\n",
      "operations but also related to the implementation of  440\n",
      "some energy efficiency projects.\n",
      "FY 2020 FY 2019\n",
      "1   We calculate our emissions resulting from electrical consumption based on carbon \n",
      "Fiscal year emission factors of our local sites according to the market-based approach.\n",
      "Primary Energy\n",
      "(1,000 gigajoules) 2020 2019\n",
      "Natural gas/liquid petroleum gas 1,920 2,377 Atmospheric Pollutant Emissions 020\n",
      "2\n",
      "Fuel oil, coal, gasoline/diesel 263 352 Other atmospheric pollutant emissions also have  ort \n",
      " negative impacts on the environment. These include  ep\n",
      "R\n",
      "Other 5 5 Volatile Organic Compounds (VOC) and Ozone Depleting  bility \n",
      "Total 2,188 2,734 Substances (ODS). VOC contribute to the formation of  na\n",
      "ai\n",
      "ozone close to the earth’s surface. The types of sub- ust\n",
      "S\n",
      "stances and materials that are in use and contain  ―  \n",
      "Fiscal year  organic compounds include: solvents, paints and     y\n",
      "Secondary Energy g\n",
      "(1,000 gigajoules) 2020 2019  adhesives. ODS are monitored to comply with the  ner\n",
      "E\n",
      " Montreal Protocol, the international convention on the  ns \n",
      "e\n",
      "Electricity 2,902 3,383 m\n",
      "protection of the ozone layer, as well as with coun- e\n",
      "Si\n",
      "Thereof electricity from renewable sources 2,256 2,007 try-specific regulation. The volume of emissions from \n",
      "the use of volatile organic compounds during the \n",
      "District Heating 713 843\n",
      " reporting period equates to 434 metric tons. The \n",
      "Total 3,615 4,226\n",
      "volume of emissions from the use of ozone depleting \n",
      "substances during the reporting period equates to \n",
      "Over the reporting period, Siemens Energy collected  0.013 metric tons.\n",
      "the following data regarding the level of scope 1 and \n",
      "2 emissions related to its business activities. In calculating nitrogen oxides, we have assumed typical \n",
      "combustion conditions in the relevant thermal pro-\n",
      "Scope 1 (direct) emissions cesses, resulting in a figure of 74 metric tons for envi-\n",
      "Direct greenhouse gas emissions arise from sources in  ronmentally relevant locations in the year under \n",
      "the company’s ownership or under its control. review. The figure includes nitrogen oxides released \n",
      "during the incineration of fuels reported in the section \n",
      "Scope 2 (indirect) emissions on primary energy.\n",
      "Indirect greenhouse gas emissions refer to the consump-\n",
      "tion of purchased electrical energy and district heating.\n",
      "In fiscal year 2020 we achieved to reduce our scope 1 \n",
      "and 2 emissions by around one third or 148,000 metric \n",
      "tons. The main levers were the increase of renewable \n",
      "electricity share, some energy efficiency projects as \n",
      "well as COVID-19 related impacts on our global oper-\n",
      "ations. \n"
     ]
    }
   ],
   "source": [
    "pdf = pdfplumber.open(path)\n",
    "page = pdf.pages[page]\n",
    "text = page.extract_text()\n",
    "print(text)\n",
    "pdf.close()"
   ],
   "metadata": {
    "collapsed": false,
    "pycharm": {
     "name": "#%%\n"
    }
   }
  }
 ],
 "metadata": {
  "kernelspec": {
   "display_name": "Python 3",
   "language": "python",
   "name": "python3"
  },
  "language_info": {
   "codemirror_mode": {
    "name": "ipython",
    "version": 2
   },
   "file_extension": ".py",
   "mimetype": "text/x-python",
   "name": "python",
   "nbconvert_exporter": "python",
   "pygments_lexer": "ipython2",
   "version": "2.7.6"
  }
 },
 "nbformat": 4,
 "nbformat_minor": 0
}