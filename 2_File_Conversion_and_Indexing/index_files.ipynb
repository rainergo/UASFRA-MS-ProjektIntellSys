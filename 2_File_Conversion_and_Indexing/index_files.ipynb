{
 "cells": [
  {
   "cell_type": "code",
   "execution_count": 2,
   "metadata": {
    "collapsed": true,
    "pycharm": {
     "name": "#%%\n"
    }
   },
   "outputs": [
    {
     "data": {
      "text/plain": "'D:\\\\A_STUDIUM\\\\PYTHON\\\\UASFRA-MS-ProjektIntellSys\\\\1_Reports\\\\Annual_Reports_Converted'"
     },
     "execution_count": 2,
     "metadata": {},
     "output_type": "execute_result"
    }
   ],
   "source": [
    "import os\n",
    "\n",
    "# Provide RELATIVE (from here) path to the folder containing the reports\n",
    "path_to_original_reports_directory = '../1_Reports/Sample_Reports'\n",
    "rel_path_to_converted_reports_directory = '../1_Reports/Annual_Reports_Converted'\n",
    "path_to_converted_reports_directory = os.path.abspath(rel_path_to_converted_reports_directory)\n",
    "ls = list()\n",
    "\n",
    "# for entry in os.scandir(path_to_original_reports_directory):\n",
    "#     filename = os.fsdecode(entry)\n",
    "#     if filename.endswith(\".pdf\"):\n",
    "#         # You could provide full path:\n",
    "#         # ls.append(os.path.abspath(entry))\n",
    "#         # Or just the name of the PDF filename\n",
    "#         ls.append(os.path.basename(entry))\n",
    "\n",
    "\n",
    "\n",
    "path_to_converted_reports_directory"
   ]
  }
 ],
 "metadata": {
  "kernelspec": {
   "display_name": "Python 3",
   "language": "python",
   "name": "python3"
  },
  "language_info": {
   "codemirror_mode": {
    "name": "ipython",
    "version": 2
   },
   "file_extension": ".py",
   "mimetype": "text/x-python",
   "name": "python",
   "nbconvert_exporter": "python",
   "pygments_lexer": "ipython2",
   "version": "2.7.6"
  }
 },
 "nbformat": 4,
 "nbformat_minor": 0
}