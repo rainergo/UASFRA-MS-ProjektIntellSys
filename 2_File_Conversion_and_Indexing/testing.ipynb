{
 "cells": [
  {
   "cell_type": "code",
   "execution_count": null,
   "metadata": {
    "collapsed": true,
    "pycharm": {
     "name": "#%%\n"
    }
   },
   "outputs": [],
   "source": [
    "%%time\n",
    "\n",
    "import os\n",
    "import subprocess\n",
    "\n",
    "# PDF24 settings\n",
    "pdf24_tool = 'pdf24-DocTool'\n",
    "pdf24_function = '-convertToPDF'\n",
    "profile = 'default/best'\n",
    "\n",
    "# Provide RELATIVE (from here) path to the folder containing the original reports\n",
    "path_to_input_directory = '../1_Reports/Annual_Reports'\n",
    "# Provide RELATIVE (from here) path to the folder where the converted PDFs shall be stored\n",
    "rel_path_to_output_directory = '../1_Reports/Annual_Reports_Converted'\n",
    "\n",
    "# Absolute path will be calculated\n",
    "path_to_output_directory = os.path.abspath(rel_path_to_output_directory)\n",
    "\n",
    "for orig_pdf in os.scandir(path_to_input_directory):\n",
    "    filename = os.fsdecode(orig_pdf)\n",
    "    if filename.endswith(\".pdf\"):\n",
    "        input_file_path_and_name_plus_suffix = os.path.abspath(orig_pdf)\n",
    "        output_file_name_plus_suffix = os.path.basename(orig_pdf)\n",
    "        subprocess.run([pdf24_tool, pdf24_function, '-noProgress', '-outputDir', path_to_output_directory, '-profile', profile, input_file_path_and_name_plus_suffix])\n"
   ]
  }
 ],
 "metadata": {
  "kernelspec": {
   "display_name": "Python 3",
   "language": "python",
   "name": "python3"
  },
  "language_info": {
   "codemirror_mode": {
    "name": "ipython",
    "version": 2
   },
   "file_extension": ".py",
   "mimetype": "text/x-python",
   "name": "python",
   "nbconvert_exporter": "python",
   "pygments_lexer": "ipython2",
   "version": "2.7.6"
  }
 },
 "nbformat": 4,
 "nbformat_minor": 0
}