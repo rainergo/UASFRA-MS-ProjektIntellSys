{
 "cells": [
  {
   "cell_type": "code",
   "execution_count": null,
   "metadata": {
    "collapsed": true
   },
   "outputs": [],
   "source": [
    "\n",
    "\n",
    "command = 'pdf24-DocTool -convertToPDF -noProgress -outputDir . -outputfile \"test3.pdf\" -profile \"default/best\" \"GNS - Annual Report for period end 30Jun2021 English PDF - 15-Oct-21.pdf\"'\n",
    "\n",
    "\n",
    "import subprocess\n",
    "\n",
    "# PDF24 settings\n",
    "pdf24_function = 'pdf24-DocTool'\n",
    "profile = 'default/best'\n",
    "\n",
    "# File specific information\n",
    "input_file_path_and_name_plus_suffix = 'ggg.pdf'\n",
    "\n",
    "output_dir = '.'\n",
    "output_file_name_plus_suffix = 'C:/nnn'\n",
    "\n",
    "\n",
    "subprocess.run([pdf24_function, '-convertToPDF', '-noProgress', '-outputDir', output_dir,\n",
    "                '-outputfile', output_file_name_plus_suffix, '-profile', profile, input_file_path_and_name_plus_suffix])\n",
    "\n"
   ]
  }
 ],
 "metadata": {
  "kernelspec": {
   "display_name": "Python 3",
   "language": "python",
   "name": "python3"
  },
  "language_info": {
   "codemirror_mode": {
    "name": "ipython",
    "version": 2
   },
   "file_extension": ".py",
   "mimetype": "text/x-python",
   "name": "python",
   "nbconvert_exporter": "python",
   "pygments_lexer": "ipython2",
   "version": "2.7.6"
  }
 },
 "nbformat": 4,
 "nbformat_minor": 0
}