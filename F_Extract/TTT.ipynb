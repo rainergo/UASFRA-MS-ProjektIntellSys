{
 "cells": [
  {
   "cell_type": "code",
   "execution_count": null,
   "outputs": [],
   "source": [
    "import pandas as pd\n",
    "\n",
    "res = {'Scope 1': ['28714', '28714', '203352'],\n",
    "        'Scope 1 and 2': [],\n",
    "        'AbsSeiten': [[107, 124], []]}\n",
    "\n",
    "\n",
    "pdf = 'name_des_pdf.pdf'\n",
    "jahr = '2020'\n",
    "vorname = 'Rainer'\n",
    "\n",
    "def add_descriptive_data(number_and_pages_dict: dict, year:str, name_of_pdf:str, weight_unit: str = 'Tonnen', first_name: str='Rainer') -> dict:\n",
    "    result_dict = {'Vorname': first_name}\n",
    "    result_dict.update(number_and_pages_dict)\n",
    "    result_dict['Jahr'] = year\n",
    "    result_dict['Gewichtseinheit'] = weight_unit\n",
    "    result_dict['NamePDF'] = name_of_pdf\n",
    "    return result_dict\n",
    "\n",
    "\n",
    "\n",
    "result = add_descriptive_data(number_and_pages_dict=res, year=jahr, name_of_pdf=pdf)\n",
    "result"
   ],
   "metadata": {
    "collapsed": false,
    "pycharm": {
     "name": "#%%\n"
    }
   }
  },
  {
   "cell_type": "code",
   "execution_count": null,
   "outputs": [],
   "source": [
    "\n",
    "\n",
    "def create_result_dataframe(result_dict: dict, result_dataframe: pd.DataFrame=None):\n",
    "    if result_dataframe is None or result_dataframe.empty:\n",
    "        result_dataframe = pd.DataFrame([result_dict])\n",
    "    else:\n",
    "        result_dataframe = result_dataframe.append(result_dict, ignore_index=True)\n",
    "    return result_dataframe\n",
    "\n",
    "\n",
    "df = pd.DataFrame()\n",
    "rrr = create_result_dataframe(result_dict=result, result_dataframe=df)\n",
    "rrr"
   ],
   "metadata": {
    "collapsed": false,
    "pycharm": {
     "name": "#%%\n"
    }
   }
  },
  {
   "cell_type": "code",
   "execution_count": null,
   "outputs": [],
   "source": [
    "sss = create_result_dataframe(result_dict=result, result_dataframe=rrr)\n",
    "sss\n",
    "\n",
    "\n"
   ],
   "metadata": {
    "collapsed": false,
    "pycharm": {
     "name": "#%%\n"
    }
   }
  }
 ],
 "metadata": {
  "kernelspec": {
   "display_name": "Python 3",
   "language": "python",
   "name": "python3"
  },
  "language_info": {
   "codemirror_mode": {
    "name": "ipython",
    "version": 2
   },
   "file_extension": ".py",
   "mimetype": "text/x-python",
   "name": "python",
   "nbconvert_exporter": "python",
   "pygments_lexer": "ipython2",
   "version": "2.7.6"
  }
 },
 "nbformat": 4,
 "nbformat_minor": 0
}