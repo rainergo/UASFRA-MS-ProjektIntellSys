{
 "cells": [
  {
   "cell_type": "code",
   "execution_count": null,
   "metadata": {
    "collapsed": true
   },
   "outputs": [],
   "source": [
    "import os\n",
    "from D_Search.PDFMiner import PDFMiner\n",
    "from A_Configuration_and_Logs.conf_and_log import ConfLog\n",
    "from E_Collect.Collect import get_values_and_page_numbers\n",
    "\n",
    "keyword_dict_of_lists = {'Scope 1': ['Scope 1', 'scope 1'], 'Scope 1 and 2': ['Scope 1 and 2', 'scope 1 and 2']}\n",
    "search_word_list = ['tCO2e', '(t) CO2e', 't CO2', 't CO₂', 'tons CO2', 'tons CO₂', 't CO₂e', 'CO₂e', 'CO2e',  'CO2 equivalent', 'CO₂ equivalent']\n",
    "\n",
    "\n",
    "conf_log = ConfLog()\n",
    "for orig_pdf in os.scandir(conf_log.path_to_reports_for_analysis_directory):\n",
    "    filename = os.fsdecode(orig_pdf)\n",
    "    if filename.endswith(\".pdf\"):\n",
    "        try:\n",
    "            miner = PDFMiner(path=filename)\n",
    "            table_keywords = miner.get_year_and_fy()\n",
    "            search_result = miner.find_word(keywords_dict_of_list=keyword_dict_of_lists,\n",
    "                                            search_word_list=search_word_list,\n",
    "                      table_keywords=table_keywords,neighbour_tolerance=1.50)\n",
    "            table_numbers_and_pages = get_values_and_page_numbers(search_result_list=search_result, keyword_dict_of_lists=keyword_dict_of_lists,\n",
    "                                table_keywords=table_keywords, search_result_dict_key_name='table_values')\n",
    "            text_numbers_and_pages = get_values_and_page_numbers(search_result_list=search_result, keyword_dict_of_lists=keyword_dict_of_lists,\n",
    "                                table_keywords=table_keywords, search_result_dict_key_name='short_text_and_number')\n",
    "            print('filename:', filename)\n",
    "            print('table_numbers_and_pages:', table_numbers_and_pages)\n",
    "            print('text_numbers_and_pages:', text_numbers_and_pages)\n",
    "            print('----------------------------------------')\n",
    "\n",
    "            miner.stream.close()\n",
    "        except Exception as e:\n",
    "            conf_log.logging.error(e, exc_info=True)\n"
   ]
  }
 ],
 "metadata": {
  "kernelspec": {
   "display_name": "Python 3",
   "language": "python",
   "name": "python3"
  },
  "language_info": {
   "codemirror_mode": {
    "name": "ipython",
    "version": 2
   },
   "file_extension": ".py",
   "mimetype": "text/x-python",
   "name": "python",
   "nbconvert_exporter": "python",
   "pygments_lexer": "ipython2",
   "version": "2.7.6"
  }
 },
 "nbformat": 4,
 "nbformat_minor": 0
}