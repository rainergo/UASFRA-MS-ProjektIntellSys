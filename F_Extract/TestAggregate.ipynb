{
 "cells": [
  {
   "cell_type": "code",
   "execution_count": null,
   "metadata": {
    "collapsed": true,
    "pycharm": {
     "name": "#%%\n"
    }
   },
   "outputs": [],
   "source": [
    "import pandas as pd\n",
    "\n",
    "table_numbers_and_pages = {'Scope 1': {'values': ['28714', '203352', '334033', '42011', '28714'], 'pages': [107, 124]}, 'Scope 1 and 2': {'values': [], 'pages': []}}\n",
    "text_numbers_and_pages = {'Scope 1': {'values': [], 'pages': []}, 'Scope 1 and 2': {'values': [], 'pages': []}}\n",
    "\n",
    "all = table_numbers_and_pages.copy()\n",
    "for first_key, dictionary in all.items():\n",
    "    for second_key, values_or_pages in dictionary.items():\n",
    "        values_or_pages.extend(text_numbers_and_pages[first_key][second_key])\n",
    "\n",
    "all\n",
    "\n",
    "df = pd.DataFrame([all])\n",
    "df"
   ]
  },
  {
   "cell_type": "code",
   "execution_count": null,
   "outputs": [],
   "source": [
    "s1_table_vals = table_numbers_and_pages['Scope 1']['values']\n",
    "s1_table_vals"
   ],
   "metadata": {
    "collapsed": false,
    "pycharm": {
     "name": "#%%\n"
    }
   }
  },
  {
   "cell_type": "code",
   "execution_count": null,
   "outputs": [],
   "source": [
    "s1_text_vals = text_numbers_and_pages['Scope 1']['values']\n",
    "s1_text_vals"
   ],
   "metadata": {
    "collapsed": false,
    "pycharm": {
     "name": "#%%\n"
    }
   }
  },
  {
   "cell_type": "code",
   "execution_count": null,
   "outputs": [],
   "source": [
    "s1_vals = s1_table_vals + s1_text_vals\n",
    "s1_vals"
   ],
   "metadata": {
    "collapsed": false,
    "pycharm": {
     "name": "#%%\n"
    }
   }
  },
  {
   "cell_type": "code",
   "execution_count": null,
   "outputs": [],
   "source": [
    "s1_table_pages = table_numbers_and_pages['Scope 1']['pages']\n",
    "s1_table_pages"
   ],
   "metadata": {
    "collapsed": false,
    "pycharm": {
     "name": "#%%\n"
    }
   }
  },
  {
   "cell_type": "code",
   "execution_count": null,
   "outputs": [],
   "source": [
    "s1_text_pages = text_numbers_and_pages['Scope 1']['pages']\n",
    "s1_text_pages"
   ],
   "metadata": {
    "collapsed": false,
    "pycharm": {
     "name": "#%%\n"
    }
   }
  },
  {
   "cell_type": "code",
   "execution_count": null,
   "outputs": [],
   "source": [
    "s1_pages= s1_table_pages + s1_text_pages\n",
    "s1_pages"
   ],
   "metadata": {
    "collapsed": false,
    "pycharm": {
     "name": "#%%\n"
    }
   }
  },
  {
   "cell_type": "code",
   "execution_count": null,
   "outputs": [],
   "source": [
    "s12_table_vals = table_numbers_and_pages['Scope 1 and 2']['values']\n",
    "s12_table_vals"
   ],
   "metadata": {
    "collapsed": false,
    "pycharm": {
     "name": "#%%\n"
    }
   }
  },
  {
   "cell_type": "code",
   "execution_count": null,
   "outputs": [],
   "source": [
    "s12_text_vals = text_numbers_and_pages['Scope 1 and 2']['values']\n",
    "s12_text_vals"
   ],
   "metadata": {
    "collapsed": false,
    "pycharm": {
     "name": "#%%\n"
    }
   }
  },
  {
   "cell_type": "code",
   "execution_count": null,
   "outputs": [],
   "source": [
    "s12_vals = s12_table_vals + s12_text_vals\n",
    "s12_vals\n"
   ],
   "metadata": {
    "collapsed": false,
    "pycharm": {
     "name": "#%%\n"
    }
   }
  },
  {
   "cell_type": "code",
   "execution_count": null,
   "outputs": [],
   "source": [
    "df = pd.DataFrame()\n",
    "df"
   ],
   "metadata": {
    "collapsed": false,
    "pycharm": {
     "name": "#%%\n"
    }
   }
  },
  {
   "cell_type": "code",
   "execution_count": null,
   "outputs": [],
   "source": [
    "dc1 = {'Scope 1': [1,2,3]}\n",
    "df['Scope 1'] = pd.Series(dc1.values())\n",
    "df"
   ],
   "metadata": {
    "collapsed": false,
    "pycharm": {
     "name": "#%%\n"
    }
   }
  },
  {
   "cell_type": "code",
   "execution_count": null,
   "outputs": [],
   "source": [
    "dc2 = {'Scope 1 and 2': [4,5,6,7]}\n",
    "\n",
    "df['Scope 1 and 2'] = pd.Series(dc2.values())\n",
    "df"
   ],
   "metadata": {
    "collapsed": false,
    "pycharm": {
     "name": "#%%\n"
    }
   }
  },
  {
   "cell_type": "code",
   "execution_count": null,
   "outputs": [],
   "source": [
    "df2 = pd.DataFrame()\n",
    "test1 = {'Scope 1': [1,2,3], 'Scope 1 and 2': [1,142], 'pages': [33,44]}\n",
    "\n",
    "df2.append(test1, ignore_index=True)"
   ],
   "metadata": {
    "collapsed": false,
    "pycharm": {
     "name": "#%%\n"
    }
   }
  },
  {
   "cell_type": "code",
   "execution_count": null,
   "outputs": [],
   "source": [
    "test2 = {'Scope 1': [7,8,9,10], 'Scope 1 and 2': [11,12], 'pages': [55,66,77]}"
   ],
   "metadata": {
    "collapsed": false,
    "pycharm": {
     "name": "#%%\n"
    }
   }
  },
  {
   "cell_type": "code",
   "execution_count": null,
   "outputs": [],
   "source": [
    "for scope_text, scope_table in zip(text_numbers_and_pages.keys(), table_numbers_and_pages.keys()):\n",
    "    if scope_text != scope_table:\n",
    "        print('Error')\n",
    "    else:\n",
    "        print('OK')"
   ],
   "metadata": {
    "collapsed": false,
    "pycharm": {
     "name": "#%%\n"
    }
   }
  },
  {
   "cell_type": "code",
   "execution_count": null,
   "outputs": [],
   "source": [
    "l = [1,2,3,4,5,6,7]\n",
    "l[:3]"
   ],
   "metadata": {
    "collapsed": false,
    "pycharm": {
     "name": "#%%\n"
    }
   }
  }
 ],
 "metadata": {
  "kernelspec": {
   "display_name": "Python 3",
   "language": "python",
   "name": "python3"
  },
  "language_info": {
   "codemirror_mode": {
    "name": "ipython",
    "version": 2
   },
   "file_extension": ".py",
   "mimetype": "text/x-python",
   "name": "python",
   "nbconvert_exporter": "python",
   "pygments_lexer": "ipython2",
   "version": "2.7.6"
  }
 },
 "nbformat": 4,
 "nbformat_minor": 0
}