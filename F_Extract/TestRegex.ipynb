{
 "cells": [
  {
   "cell_type": "code",
   "execution_count": null,
   "metadata": {
    "collapsed": true
   },
   "outputs": [],
   "source": [
    "import re\n",
    "\n",
    "s = 'SCHW - Annual Report for period end 31Dec2019 English PDF - 02-Apr-21.pdf'\n",
    "year = '2020'\n",
    "\n",
    "# if any(word in s and len(word) == 4 and word.isdigit() and word.startswith('20')):\n",
    "#     print(word)\n",
    "\n",
    "\n",
    "ll = [word for word in s.split() if len(word) == 4 and word.isdigit() and word.startswith('20')]\n",
    "ll\n",
    "\n",
    "year_found = re.match(r'.*([2][0][1-2][0-9])', s)\n",
    "if year_found:\n",
    "    print(year_found.group(1))"
   ]
  },
  {
   "cell_type": "code",
   "execution_count": null,
   "outputs": [],
   "source": [
    "regexp = re.compile(r'.*([2][0][1-2][0-9])')\n",
    "if regexp.search(s):\n",
    "  print('matched:', regexp)"
   ],
   "metadata": {
    "collapsed": false,
    "pycharm": {
     "name": "#%%\n"
    }
   }
  }
 ],
 "metadata": {
  "kernelspec": {
   "display_name": "Python 3",
   "language": "python",
   "name": "python3"
  },
  "language_info": {
   "codemirror_mode": {
    "name": "ipython",
    "version": 2
   },
   "file_extension": ".py",
   "mimetype": "text/x-python",
   "name": "python",
   "nbconvert_exporter": "python",
   "pygments_lexer": "ipython2",
   "version": "2.7.6"
  }
 },
 "nbformat": 4,
 "nbformat_minor": 0
}