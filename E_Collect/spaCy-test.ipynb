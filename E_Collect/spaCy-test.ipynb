{
 "cells": [
  {
   "cell_type": "code",
   "execution_count": 17,
   "metadata": {
    "collapsed": true
   },
   "outputs": [],
   "source": [
    "import spacy\n",
    "nlp = spacy.load('en_core_web_sm')\n"
   ]
  },
  {
   "cell_type": "code",
   "execution_count": 18,
   "outputs": [
    {
     "name": "stdout",
     "output_type": "stream",
     "text": [
      "['This', 'tutorial', 'is', 'about', 'Natural', 'Language', 'Processing', 'in', 'Spacy', '.']\n"
     ]
    }
   ],
   "source": [
    "intro_text = ('This tutorial is about Natural'\n",
    "    ' Language Processing in Spacy.')\n",
    "introduction_doc = nlp(intro_text)\n",
    "# Extract tokens for the given doc\n",
    "print ([token.text for token in introduction_doc])"
   ],
   "metadata": {
    "collapsed": false,
    "pycharm": {
     "name": "#%%\n"
    }
   }
  },
  {
   "cell_type": "code",
   "execution_count": null,
   "outputs": [],
   "source": [
    "file_name = 'SiemensP23.txt'\n",
    "text_file = open(file_name).read()\n",
    "doc = nlp(text_file)\n",
    "print('Number of tokens:', len(doc))\n",
    "\n",
    "# Extract tokens for the given doc\n",
    "print ([token.text for token in doc])"
   ],
   "metadata": {
    "collapsed": false,
    "pycharm": {
     "name": "#%%\n"
    }
   }
  },
  {
   "cell_type": "code",
   "execution_count": 20,
   "outputs": [
    {
     "name": "stdout",
     "output_type": "stream",
     "text": [
      "Anzahl sentences: 28\n",
      "Satz 1: Our goals\n",
      "Our status\n",
      "Climate neutral in\n",
      "own operations until\n",
      "2030\n",
      "292,000 t\n",
      "CO2 emissions\n",
      "(Scope 1 and 2) 78%\n",
      "green electricity\n",
      "100%\n",
      "green electricity\n",
      "consumption\n",
      "by 2023\n",
      "Three questions toâ€¦\n",
      "23\n",
      "Siemens Energy â€• Sustainability Report 2020\n",
      "Decarbonizing our business\n",
      "Sentence is of type:  <class 'spacy.tokens.span.Span'>\n",
      "Size of \"sentences\": 28\n"
     ]
    }
   ],
   "source": [
    "# the sents property is used to extract sentences\n",
    "sentences = list(doc.sents)\n",
    "print('Anzahl sentences:', len(sentences))\n",
    "print('Satz 1:', sentences[27])\n",
    "print('Sentence is of type: ', type(sentences[27]))\n",
    "print('Size of \"sentences\":', len(sentences))"
   ],
   "metadata": {
    "collapsed": false,
    "pycharm": {
     "name": "#%%\n"
    }
   }
  },
  {
   "cell_type": "code",
   "execution_count": 21,
   "outputs": [
    {
     "name": "stdout",
     "output_type": "stream",
     "text": [
      "The token: is\n",
      "Token (word) starts at character position: 15\n",
      "token text with trailing space (if present): is \n",
      "if the token consists of alphabetic characters or not: True\n",
      "if the token is a punctuation symbol or not: False\n",
      "if the token is a space or not: False\n",
      "prints out the shape of the word xx\n",
      "if the token is a stop word or not: True\n"
     ]
    }
   ],
   "source": [
    "token = doc[2]\n",
    "print('The token:',token)\n",
    "print('Token (word) starts at character position:',token.idx)\n",
    "print('token text with trailing space (if present):',token.text_with_ws)\n",
    "print('if the token consists of alphabetic characters or not:',token.is_alpha)\n",
    "print('if the token is a punctuation symbol or not:',token.is_punct)\n",
    "print('if the token is a space or not:',token.is_space)\n",
    "print('prints out the shape of the word',token.shape_)\n",
    "print('if the token is a stop word or not:',token.is_stop)"
   ],
   "metadata": {
    "collapsed": false,
    "pycharm": {
     "name": "#%%\n"
    }
   }
  },
  {
   "cell_type": "code",
   "execution_count": 22,
   "outputs": [
    {
     "name": "stdout",
     "output_type": "stream",
     "text": [
      "[Siemens, Energy, partner, choice, decarbonization, journey, \n",
      ", committed, accompanying, customers, way, sustainable, energy, future, ., \n",
      ", driving, decarbonization, entire, value, chain, :, supply, chain, \n",
      ", operations, ,, especially, portfolio, ., ,, aim, partner, choice, \n",
      ", customers, support, transition, sustainable, energy, world, ., \n",
      ", Siemens, Energy, support, EUâ€, ™, s, 2050, climate, neutrality, goal, business, strategy, ?, \n",
      ", walk, talk, :, Siemens, Energy, committed, climate, neutral, 2030, ., ,, ,, \n",
      ", support, customers, individual, journeys, decarbonization, ., products, ,, solutions, \n",
      ", services, ,, push, transition, sustainable, energy, world, ., covering, \n",
      ", entire, value, chain, innovative, technologies, ,, able, turn, ideas, reality, ., \n",
      ", priority, solutions, comes, decarbonization, ?, \n",
      ", critical, drive, future, technologies, ,, \n",
      ", time, ,, courage, choose, interim, \n",
      ", solutions, ., shift, coal, natural, gas, \n",
      ", interim, solution, way, climate, -, neutral, \n",
      ", economy, ., Combining, conventional, renewable, \n",
      ", energy, systems, key, meeting, worldâ€, ™, s, need, \n",
      ", sustainable, ,, reliable, affordable, energy, ., Green, \n",
      ", hydrogen, play, major, role, future, \n",
      ", energy, \n",
      ", mix, ., need, scale, volumes, green, \n",
      ", hydrogen, bring, costs, ., policy, task, \n",
      ", define, implement, right, boundary, conditions, ., \n",
      ", envision, Siemens, Energyâ€, ™, s, future, \n",
      ", positioning, regard, decarbonization, ?, \n",
      ", convinced, Siemens, Energy, right, \n",
      ", track, ,, reason, confident, ., \n",
      ", Siemens, Energy, company, \n",
      ", immediately, thinks, comes, decarbonization, ., \n",
      ", energize, society, â€, “, thatâ€, ™, s, purpose, ., \n",
      ", customers, partners, ,, real, \n",
      ", difference, shaping, energy, world, tomorrow, ., \n",
      ", Christian, Bruch, \n",
      ", CEO, CSO, \n",
      ", Siemens, Energy, \n",
      ", goals, \n",
      ", status, \n",
      ", Climate, neutral, \n",
      ", operations, \n",
      ", 2030, \n",
      ", 292,000, t, \n",
      ", CO2, emissions, \n",
      ", (, Scope, 1, 2, ), 78, %, \n",
      ", green, electricity, \n",
      ", 100, %, \n",
      ", green, electricity, \n",
      ", consumption, \n",
      ", 2023, \n",
      ", questions, toâ€, ¦, \n",
      ", 23, \n",
      ", Siemens, Energy, â€•, Sustainability, Report, 2020, \n",
      ", Decarbonizing, business]\n"
     ]
    }
   ],
   "source": [
    "# Get rid of stop words\n",
    "no_stopword_doc = [token for token in doc if not token.is_stop]\n",
    "print (no_stopword_doc)"
   ],
   "metadata": {
    "collapsed": false,
    "pycharm": {
     "name": "#%%\n"
    }
   }
  },
  {
   "cell_type": "code",
   "execution_count": 23,
   "outputs": [
    {
     "name": "stdout",
     "output_type": "stream",
     "text": [
      "Siemens Siemens\n",
      "Energy Energy\n",
      "partner partner\n",
      "choice choice\n",
      "decarbonization decarbonization\n",
      "journey journey\n",
      "\n",
      " \n",
      "\n",
      "committed committed\n",
      "accompanying accompany\n",
      "customers customer\n",
      "way way\n",
      "sustainable sustainable\n",
      "energy energy\n",
      "future future\n",
      ". .\n",
      "\n",
      " \n",
      "\n",
      "driving drive\n",
      "decarbonization decarbonization\n",
      "entire entire\n",
      "value value\n",
      "chain chain\n",
      ": :\n",
      "supply supply\n",
      "chain chain\n",
      "\n",
      " \n",
      "\n",
      "operations operation\n",
      ", ,\n",
      "especially especially\n",
      "portfolio portfolio\n",
      ". .\n"
     ]
    }
   ],
   "source": [
    "# Lemmatization: organizes, organized and organizing are all forms of organize. Here, organize is the lemma.\n",
    "for token in no_stopword_doc[:30]:\n",
    "    print (token, token.lemma_)"
   ],
   "metadata": {
    "collapsed": false,
    "pycharm": {
     "name": "#%%\n"
    }
   }
  },
  {
   "cell_type": "code",
   "execution_count": 24,
   "outputs": [
    {
     "name": "stdout",
     "output_type": "stream",
     "text": [
      "Counter({Siemens: 1, Energy: 1, is: 1, the: 1, partner: 1, of: 1, choice: 1, for: 1, the: 1, decarbonization: 1, journey: 1, \n",
      ": 1, We: 1, are: 1, committed: 1, to: 1, accompanying: 1, our: 1, customers: 1, on: 1, their: 1, way: 1, to: 1, a: 1, more: 1, sustainable: 1, energy: 1, future: 1, .: 1, \n",
      ": 1, We: 1, are: 1, driving: 1, decarbonization: 1, along: 1, the: 1, entire: 1, value: 1, chain: 1, :: 1, from: 1, the: 1, supply: 1, chain: 1, to: 1, our: 1, own: 1, \n",
      ": 1, operations: 1, ,: 1, and: 1, especially: 1, in: 1, our: 1, portfolio: 1, .: 1, In: 1, doing: 1, so: 1, ,: 1, we: 1, aim: 1, to: 1, be: 1, the: 1, partner: 1, of: 1, choice: 1, for: 1, our: 1, \n",
      ": 1, customers: 1, and: 1, to: 1, support: 1, them: 1, in: 1, their: 1, transition: 1, to: 1, a: 1, sustainable: 1, energy: 1, world: 1, .: 1, \n",
      ": 1, How: 1, does: 1, Siemens: 1, Energy: 1, support: 1, the: 1, EUâ€: 1, ™: 1, s: 1, 2050: 1, climate: 1, neutrality: 1, goal: 1, through: 1, its: 1, business: 1, strategy: 1, ?: 1, \n",
      ": 1, We: 1, walk: 1, the: 1, talk: 1, :: 1, Siemens: 1, Energy: 1, has: 1, committed: 1, to: 1, becoming: 1, climate: 1, neutral: 1, by: 1, 2030: 1, .: 1, And: 1, ,: 1, moreover: 1, ,: 1, we: 1, \n",
      ": 1, support: 1, our: 1, customers: 1, on: 1, their: 1, individual: 1, journeys: 1, toward: 1, decarbonization: 1, .: 1, With: 1, our: 1, products: 1, ,: 1, solutions: 1, \n",
      ": 1, and: 1, services: 1, ,: 1, we: 1, can: 1, push: 1, the: 1, transition: 1, to: 1, a: 1, more: 1, sustainable: 1, energy: 1, world: 1, .: 1, By: 1, covering: 1, almost: 1, the: 1, \n",
      ": 1, entire: 1, value: 1, chain: 1, with: 1, our: 1, innovative: 1, technologies: 1, ,: 1, we: 1, are: 1, able: 1, to: 1, turn: 1, ideas: 1, into: 1, reality: 1, .: 1, \n",
      ": 1, What: 1, are: 1, your: 1, top: 1, priority: 1, solutions: 1, when: 1, it: 1, comes: 1, to: 1, decarbonization: 1, ?: 1, \n",
      ": 1, It: 1, is: 1, critical: 1, that: 1, we: 1, drive: 1, future: 1, technologies: 1, and: 1, ,: 1, at: 1, \n",
      ": 1, the: 1, same: 1, time: 1, ,: 1, have: 1, the: 1, courage: 1, to: 1, choose: 1, interim: 1, \n",
      ": 1, solutions: 1, .: 1, The: 1, shift: 1, from: 1, coal: 1, to: 1, natural: 1, gas: 1, could: 1, be: 1, \n",
      ": 1, one: 1, such: 1, interim: 1, solution: 1, on: 1, the: 1, way: 1, to: 1, a: 1, climate: 1, -: 1, neutral: 1, \n",
      ": 1, economy: 1, .: 1, Combining: 1, conventional: 1, and: 1, renewable: 1, \n",
      ": 1, energy: 1, systems: 1, is: 1, key: 1, to: 1, meeting: 1, the: 1, worldâ€: 1, ™: 1, s: 1, need: 1, \n",
      ": 1, for: 1, sustainable: 1, ,: 1, reliable: 1, and: 1, affordable: 1, energy: 1, .: 1, Green: 1, \n",
      ": 1, hydrogen: 1, will: 1, also: 1, play: 1, a: 1, major: 1, role: 1, in: 1, our: 1, future: 1, \n",
      ": 1, energy: 1, \n",
      ": 1, mix: 1, .: 1, We: 1, now: 1, need: 1, to: 1, scale: 1, up: 1, volumes: 1, of: 1, green: 1, \n",
      ": 1, hydrogen: 1, and: 1, bring: 1, down: 1, the: 1, costs: 1, .: 1, The: 1, policy: 1, task: 1, is: 1, \n",
      ": 1, to: 1, define: 1, and: 1, implement: 1, the: 1, right: 1, boundary: 1, conditions: 1, .: 1, \n",
      ": 1, How: 1, do: 1, you: 1, envision: 1, Siemens: 1, Energyâ€: 1, ™: 1, s: 1, future: 1, \n",
      ": 1, positioning: 1, with: 1, regard: 1, to: 1, decarbonization: 1, ?: 1, \n",
      ": 1, I: 1, am: 1, convinced: 1, that: 1, Siemens: 1, Energy: 1, is: 1, on: 1, the: 1, right: 1, \n",
      ": 1, track: 1, ,: 1, and: 1, we: 1, have: 1, every: 1, reason: 1, to: 1, be: 1, confident: 1, .: 1, \n",
      ": 1, Siemens: 1, Energy: 1, should: 1, be: 1, the: 1, company: 1, that: 1, everyone: 1, \n",
      ": 1, immediately: 1, thinks: 1, of: 1, when: 1, it: 1, comes: 1, to: 1, decarbonization: 1, .: 1, \n",
      ": 1, We: 1, energize: 1, society: 1, â€: 1, “: 1, thatâ€: 1, ™: 1, s: 1, our: 1, purpose: 1, .: 1, Together: 1, \n",
      ": 1, with: 1, our: 1, customers: 1, and: 1, partners: 1, ,: 1, we: 1, can: 1, make: 1, a: 1, real: 1, \n",
      ": 1, difference: 1, in: 1, shaping: 1, the: 1, energy: 1, world: 1, of: 1, tomorrow: 1, .: 1, \n",
      ": 1, Christian: 1, Bruch: 1, \n",
      ": 1, CEO: 1, and: 1, CSO: 1, \n",
      ": 1, of: 1, Siemens: 1, Energy: 1, \n",
      ": 1, Our: 1, goals: 1, \n",
      ": 1, Our: 1, status: 1, \n",
      ": 1, Climate: 1, neutral: 1, in: 1, \n",
      ": 1, own: 1, operations: 1, until: 1, \n",
      ": 1, 2030: 1, \n",
      ": 1, 292,000: 1, t: 1, \n",
      ": 1, CO2: 1, emissions: 1, \n",
      ": 1, (: 1, Scope: 1, 1: 1, and: 1, 2: 1, ): 1, 78: 1, %: 1, \n",
      ": 1, green: 1, electricity: 1, \n",
      ": 1, 100: 1, %: 1, \n",
      ": 1, green: 1, electricity: 1, \n",
      ": 1, consumption: 1, \n",
      ": 1, by: 1, 2023: 1, \n",
      ": 1, Three: 1, questions: 1, toâ€: 1, ¦: 1, \n",
      ": 1, 23: 1, \n",
      ": 1, Siemens: 1, Energy: 1, â€•: 1, Sustainability: 1, Report: 1, 2020: 1, \n",
      ": 1, Decarbonizing: 1, our: 1, business: 1})\n"
     ]
    }
   ],
   "source": [
    "from collections import Counter\n",
    "word_freq = Counter(doc)\n",
    "print(word_freq)"
   ],
   "metadata": {
    "collapsed": false,
    "pycharm": {
     "name": "#%%\n"
    }
   }
  },
  {
   "cell_type": "code",
   "execution_count": 25,
   "outputs": [
    {
     "name": "stdout",
     "output_type": "stream",
     "text": [
      "10  most common words: [(Siemens, 1), (Energy, 1), (is, 1), (the, 1), (partner, 1), (of, 1), (choice, 1), (for, 1), (the, 1), (decarbonization, 1)]\n",
      "Unique words: [Siemens, Energy, is, the, partner, of, choice, for, the, decarbonization, journey, \n",
      ", We, are, committed, to, accompanying, our, customers, on, their, way, to, a, more, sustainable, energy, future, ., \n",
      ", We, are, driving, decarbonization, along, the, entire, value, chain, :, from, the, supply, chain, to, our, own, \n",
      ", operations, ,, and, especially, in, our, portfolio, ., In, doing, so, ,, we, aim, to, be, the, partner, of, choice, for, our, \n",
      ", customers, and, to, support, them, in, their, transition, to, a, sustainable, energy, world, ., \n",
      ", How, does, Siemens, Energy, support, the, EUâ€, ™, s, 2050, climate, neutrality, goal, through, its, business, strategy, ?, \n",
      ", We, walk, the, talk, :, Siemens, Energy, has, committed, to, becoming, climate, neutral, by, 2030, ., And, ,, moreover, ,, we, \n",
      ", support, our, customers, on, their, individual, journeys, toward, decarbonization, ., With, our, products, ,, solutions, \n",
      ", and, services, ,, we, can, push, the, transition, to, a, more, sustainable, energy, world, ., By, covering, almost, the, \n",
      ", entire, value, chain, with, our, innovative, technologies, ,, we, are, able, to, turn, ideas, into, reality, ., \n",
      ", What, are, your, top, priority, solutions, when, it, comes, to, decarbonization, ?, \n",
      ", It, is, critical, that, we, drive, future, technologies, and, ,, at, \n",
      ", the, same, time, ,, have, the, courage, to, choose, interim, \n",
      ", solutions, ., The, shift, from, coal, to, natural, gas, could, be, \n",
      ", one, such, interim, solution, on, the, way, to, a, climate, -, neutral, \n",
      ", economy, ., Combining, conventional, and, renewable, \n",
      ", energy, systems, is, key, to, meeting, the, worldâ€, ™, s, need, \n",
      ", for, sustainable, ,, reliable, and, affordable, energy, ., Green, \n",
      ", hydrogen, will, also, play, a, major, role, in, our, future, \n",
      ", energy, \n",
      ", mix, ., We, now, need, to, scale, up, volumes, of, green, \n",
      ", hydrogen, and, bring, down, the, costs, ., The, policy, task, is, \n",
      ", to, define, and, implement, the, right, boundary, conditions, ., \n",
      ", How, do, you, envision, Siemens, Energyâ€, ™, s, future, \n",
      ", positioning, with, regard, to, decarbonization, ?, \n",
      ", I, am, convinced, that, Siemens, Energy, is, on, the, right, \n",
      ", track, ,, and, we, have, every, reason, to, be, confident, ., \n",
      ", Siemens, Energy, should, be, the, company, that, everyone, \n",
      ", immediately, thinks, of, when, it, comes, to, decarbonization, ., \n",
      ", We, energize, society, â€, “, thatâ€, ™, s, our, purpose, ., Together, \n",
      ", with, our, customers, and, partners, ,, we, can, make, a, real, \n",
      ", difference, in, shaping, the, energy, world, of, tomorrow, ., \n",
      ", Christian, Bruch, \n",
      ", CEO, and, CSO, \n",
      ", of, Siemens, Energy, \n",
      ", Our, goals, \n",
      ", Our, status, \n",
      ", Climate, neutral, in, \n",
      ", own, operations, until, \n",
      ", 2030, \n",
      ", 292,000, t, \n",
      ", CO2, emissions, \n",
      ", (, Scope, 1, and, 2, ), 78, %, \n",
      ", green, electricity, \n",
      ", 100, %, \n",
      ", green, electricity, \n",
      ", consumption, \n",
      ", by, 2023, \n",
      ", Three, questions, toâ€, ¦, \n",
      ", 23, \n",
      ", Siemens, Energy, â€•, Sustainability, Report, 2020, \n",
      ", Decarbonizing, our, business]\n"
     ]
    }
   ],
   "source": [
    "# commonly occurring words with their frequencies\n",
    "num = 10\n",
    "common_words = word_freq.most_common(num)\n",
    "print (num, ' most common words:', common_words)\n",
    "\n",
    "# Unique words\n",
    "unique_words = [word for (word, freq) in word_freq.items() if freq == 1]\n",
    "print ('Unique words:', unique_words)"
   ],
   "metadata": {
    "collapsed": false,
    "pycharm": {
     "name": "#%%\n"
    }
   }
  },
  {
   "cell_type": "code",
   "execution_count": 26,
   "outputs": [
    {
     "name": "stdout",
     "output_type": "stream",
     "text": [
      "[('\\n', 51), ('Siemens', 8), ('Energy', 7), ('energy', 7), ('decarbonization', 6)]\n",
      "['journey', 'accompanying', 'driving', 'supply', 'especially', 'portfolio', 'aim', 'EUâ€', '2050', 'neutrality', 'goal', 'strategy', 'walk', 'talk', 'individual', 'journeys', 'products', 'services', 'push', 'covering', 'innovative', 'able', 'turn', 'ideas', 'reality', 'priority', 'critical', 'drive', 'time', 'courage', 'choose', 'shift', 'coal', 'natural', 'gas', 'solution', 'economy', 'Combining', 'conventional', 'renewable', 'systems', 'key', 'meeting', 'worldâ€', 'reliable', 'affordable', 'Green', 'play', 'major', 'role', 'mix', 'scale', 'volumes', 'bring', 'costs', 'policy', 'task', 'define', 'implement', 'boundary', 'conditions', 'envision', 'Energyâ€', 'positioning', 'regard', 'convinced', 'track', 'reason', 'confident', 'company', 'immediately', 'thinks', 'energize', 'society', 'â€', 'thatâ€', 'purpose', 'partners', 'real', 'difference', 'shaping', 'tomorrow', 'Christian', 'Bruch', 'CEO', 'CSO', 'goals', 'status', 'Climate', '292,000', 't', 'CO2', 'emissions', 'Scope', '1', '2', '78', '100', 'consumption', '2023', 'questions', 'toâ€', '¦', '23', 'â€•', 'Sustainability', 'Report', '2020', 'Decarbonizing']\n"
     ]
    }
   ],
   "source": [
    "# Statistics\n",
    "from collections import Counter\n",
    "\n",
    "# Remove stop words and punctuation symbols\n",
    "words = [token.text for token in doc\n",
    "         if not token.is_stop and not token.is_punct]\n",
    "word_freq = Counter(words)\n",
    "\n",
    "# 5 commonly occurring words with their frequencies\n",
    "common_words = word_freq.most_common(5)\n",
    "print (common_words)\n",
    "\n",
    "# Unique words\n",
    "unique_words = [word for (word, freq) in word_freq.items() if freq == 1]\n",
    "print (unique_words)\n"
   ],
   "metadata": {
    "collapsed": false,
    "pycharm": {
     "name": "#%%\n"
    }
   }
  },
  {
   "cell_type": "code",
   "execution_count": 27,
   "outputs": [
    {
     "name": "stdout",
     "output_type": "stream",
     "text": [
      "Siemens NNP PROPN noun, proper singular\n",
      "Energy NNP PROPN noun, proper singular\n",
      "is VBZ AUX verb, 3rd person singular present\n",
      "the DT DET determiner\n",
      "partner NN NOUN noun, singular or mass\n",
      "of IN ADP conjunction, subordinating or preposition\n",
      "choice NN NOUN noun, singular or mass\n",
      "for IN ADP conjunction, subordinating or preposition\n",
      "the DT DET determiner\n",
      "decarbonization NN NOUN noun, singular or mass\n",
      "journey NNP PROPN noun, proper singular\n",
      "\n",
      " _SP SPACE whitespace\n",
      "We PRP PRON pronoun, personal\n",
      "are VBP AUX verb, non-3rd person singular present\n",
      "committed JJ ADJ adjective (English), other noun-modifier (Chinese)\n",
      "to IN ADP conjunction, subordinating or preposition\n",
      "accompanying VBG VERB verb, gerund or present participle\n",
      "our PRP$ PRON pronoun, possessive\n",
      "customers NNS NOUN noun, plural\n",
      "on IN ADP conjunction, subordinating or preposition\n"
     ]
    }
   ],
   "source": [
    "# Part of speech tagging is the process of assigning a POS tag to each token depending on its usage in the sentence.\n",
    "# POS tags are useful for assigning a syntactic category like noun or verb to each word.\n",
    "for token in doc[:20]:\n",
    "    print (token, token.tag_, token.pos_, spacy.explain(token.tag_))"
   ],
   "metadata": {
    "collapsed": false,
    "pycharm": {
     "name": "#%%\n"
    }
   }
  },
  {
   "cell_type": "code",
   "execution_count": 28,
   "outputs": [],
   "source": [
    "# # Visualization: Using displaCy\n",
    "# from spacy import displacy\n",
    "# displacy.serve(sentences[27], style='dep')"
   ],
   "metadata": {
    "collapsed": false,
    "pycharm": {
     "name": "#%%\n"
    }
   }
  },
  {
   "cell_type": "code",
   "execution_count": 29,
   "outputs": [],
   "source": [
    "# # Matching\n",
    "# from spacy.matcher import Matcher\n",
    "# matcher = Matcher(nlp.vocab)\n",
    "# conference_org_text = str('There is a developer conference'\n",
    "#     'happening on 21 July 2019 in London. It is titled'\n",
    "#     ' \"Applications of Natural Language Processing\".'\n",
    "#     ' There is a helpline number available'\n",
    "#     ' at (123) 456-789')\n",
    "#\n",
    "# def extract_phone_number(nlp_doc):\n",
    "#     pattern = [{'ORTH': '('}, {'SHAPE': 'ddd'},\n",
    "#                {'ORTH': ')'}, {'SHAPE': 'ddd'},\n",
    "#                {'ORTH': '-', 'OP': '?'},\n",
    "#                {'SHAPE': 'ddd'}]\n",
    "#     matcher.add(key='PHONE_NUMBER', patterns=pattern)\n",
    "#     matches = matcher(nlp_doc)\n",
    "#     for match_id, start, end in matches:\n",
    "#         span = nlp_doc[start:end]\n",
    "#         return span.text\n",
    "#\n",
    "# conference_org_doc = nlp(conference_org_text)\n",
    "# extract_phone_number(conference_org_doc)"
   ],
   "metadata": {
    "collapsed": false,
    "pycharm": {
     "name": "#%%\n"
    }
   }
  },
  {
   "cell_type": "code",
   "execution_count": 30,
   "outputs": [
    {
     "name": "stdout",
     "output_type": "stream",
     "text": [
      "Siemens Energy 0 14 ORG Companies, agencies, institutions, etc.\n",
      "Siemens Energy 454 468 ORG Companies, agencies, institutions, etc.\n",
      "2050 488 492 DATE Absolute or relative dates or periods\n",
      "Siemens Energy 566 580 ORG Companies, agencies, institutions, etc.\n",
      "2030 626 630 DATE Absolute or relative dates or periods\n",
      "one 1180 1183 CARDINAL Numerals that do not fall under another type\n",
      "Siemens 1624 1631 ORG Companies, agencies, institutions, etc.\n",
      "Siemens Energy 1714 1728 ORG Companies, agencies, institutions, etc.\n",
      "Siemens Energy 1794 1808 ORG Companies, agencies, institutions, etc.\n",
      "thatâ€ 1925 1931 PERSON People, including fictional\n",
      "tomorrow 2050 2058 DATE Absolute or relative dates or periods\n",
      "Christian Bruch 2060 2075 PERSON People, including fictional\n",
      "CSO 2084 2087 ORG Companies, agencies, institutions, etc.\n",
      "Siemens Energy 2091 2105 ORG Companies, agencies, institutions, etc.\n",
      "2030 2167 2171 CARDINAL Numerals that do not fall under another type\n",
      "292,000 2172 2179 CARDINAL Numerals that do not fall under another type\n",
      "1 2203 2204 CARDINAL Numerals that do not fall under another type\n",
      "78% 2212 2215 PERCENT Percentage, including \"%\"\n",
      "100% 2234 2238 PERCENT Percentage, including \"%\"\n",
      "2023 2272 2276 CARDINAL Numerals that do not fall under another type\n",
      "Three 2277 2282 CARDINAL Numerals that do not fall under another type\n",
      "23 2299 2301 CARDINAL Numerals that do not fall under another type\n",
      "Siemens Energy 2302 2316 ORG Companies, agencies, institutions, etc.\n",
      "2020 2343 2347 DATE Absolute or relative dates or periods\n"
     ]
    }
   ],
   "source": [
    "# Named Entity Recognition (NER) is the process of locating named entities in unstructured text and\n",
    "# then classifying them into pre-defined categories\n",
    "for ent in doc.ents:\n",
    "    print(ent.text, ent.start_char, ent.end_char,\n",
    "          ent.label_, spacy.explain(ent.label_))"
   ],
   "metadata": {
    "collapsed": false,
    "pycharm": {
     "name": "#%%\n"
    }
   }
  },
  {
   "cell_type": "code",
   "execution_count": 15,
   "outputs": [
    {
     "name": "stdout",
     "output_type": "stream",
     "text": [
      "Shutting down server on port 5000.\n"
     ]
    },
    {
     "data": {
      "text/plain": "<IPython.core.display.HTML object>",
      "text/html": "<span class=\"tex2jax_ignore\"><!DOCTYPE html>\n<html lang=\"en\">\n    <head>\n        <title>displaCy</title>\n    </head>\n\n    <body style=\"font-size: 16px; font-family: -apple-system, BlinkMacSystemFont, 'Segoe UI', Helvetica, Arial, sans-serif, 'Apple Color Emoji', 'Segoe UI Emoji', 'Segoe UI Symbol'; padding: 4rem 2rem; direction: ltr\">\n<figure style=\"margin-bottom: 6rem\">\n<div class=\"entities\" style=\"line-height: 2.5; direction: ltr\">\n<mark class=\"entity\" style=\"background: #7aecec; padding: 0.45em 0.6em; margin: 0 0.25em; line-height: 1; border-radius: 0.35em;\">\n    Siemens Energy\n    <span style=\"font-size: 0.8em; font-weight: bold; line-height: 1; border-radius: 0.35em; vertical-align: middle; margin-left: 0.5rem\">ORG</span>\n</mark>\n is the partner of choice for the decarbonization journey</br>We are committed to accompanying our customers on their way to a more sustainable energy future.</br>We are driving decarbonization along the entire value chain: from the supply chain to our own</br>operations, and especially in our portfolio. In doing so, we aim to be the partner of choice for our</br>customers and to support them in their transition to a sustainable energy world.</br>How does \n<mark class=\"entity\" style=\"background: #7aecec; padding: 0.45em 0.6em; margin: 0 0.25em; line-height: 1; border-radius: 0.35em;\">\n    Siemens Energy\n    <span style=\"font-size: 0.8em; font-weight: bold; line-height: 1; border-radius: 0.35em; vertical-align: middle; margin-left: 0.5rem\">ORG</span>\n</mark>\n support the EUâ€™s \n<mark class=\"entity\" style=\"background: #bfe1d9; padding: 0.45em 0.6em; margin: 0 0.25em; line-height: 1; border-radius: 0.35em;\">\n    2050\n    <span style=\"font-size: 0.8em; font-weight: bold; line-height: 1; border-radius: 0.35em; vertical-align: middle; margin-left: 0.5rem\">DATE</span>\n</mark>\n climate neutrality goal through its business strategy?</br>We walk the talk: \n<mark class=\"entity\" style=\"background: #7aecec; padding: 0.45em 0.6em; margin: 0 0.25em; line-height: 1; border-radius: 0.35em;\">\n    Siemens Energy\n    <span style=\"font-size: 0.8em; font-weight: bold; line-height: 1; border-radius: 0.35em; vertical-align: middle; margin-left: 0.5rem\">ORG</span>\n</mark>\n has committed to becoming climate neutral by \n<mark class=\"entity\" style=\"background: #bfe1d9; padding: 0.45em 0.6em; margin: 0 0.25em; line-height: 1; border-radius: 0.35em;\">\n    2030\n    <span style=\"font-size: 0.8em; font-weight: bold; line-height: 1; border-radius: 0.35em; vertical-align: middle; margin-left: 0.5rem\">DATE</span>\n</mark>\n. And, moreover, we</br>support our customers on their individual journeys toward decarbonization. With our products, solutions</br>and services, we can push the transition to a more sustainable energy world. By covering almost the</br>entire value chain with our innovative technologies, we are able to turn ideas into reality.</br>What are your top priority solutions when it comes to decarbonization?</br>It is critical that we drive future technologies and, at</br>the same time, have the courage to choose interim</br>solutions. The shift from coal to natural gas could be</br>\n<mark class=\"entity\" style=\"background: #e4e7d2; padding: 0.45em 0.6em; margin: 0 0.25em; line-height: 1; border-radius: 0.35em;\">\n    one\n    <span style=\"font-size: 0.8em; font-weight: bold; line-height: 1; border-radius: 0.35em; vertical-align: middle; margin-left: 0.5rem\">CARDINAL</span>\n</mark>\n such interim solution on the way to a climate-neutral</br>economy. Combining conventional and renewable</br>energy systems is key to meeting the worldâ€™s need</br>for sustainable, reliable and affordable energy. Green</br>hydrogen will also play a major role in our future</br>energy</br>mix. We now need to scale up volumes of green</br>hydrogen and bring down the costs. The policy task is</br>to define and implement the right boundary conditions.</br>How do you envision \n<mark class=\"entity\" style=\"background: #7aecec; padding: 0.45em 0.6em; margin: 0 0.25em; line-height: 1; border-radius: 0.35em;\">\n    Siemens\n    <span style=\"font-size: 0.8em; font-weight: bold; line-height: 1; border-radius: 0.35em; vertical-align: middle; margin-left: 0.5rem\">ORG</span>\n</mark>\n Energyâ€™s future</br>positioning with regard to decarbonization?</br>I am convinced that \n<mark class=\"entity\" style=\"background: #7aecec; padding: 0.45em 0.6em; margin: 0 0.25em; line-height: 1; border-radius: 0.35em;\">\n    Siemens Energy\n    <span style=\"font-size: 0.8em; font-weight: bold; line-height: 1; border-radius: 0.35em; vertical-align: middle; margin-left: 0.5rem\">ORG</span>\n</mark>\n is on the right</br>track, and we have every reason to be confident.</br>\n<mark class=\"entity\" style=\"background: #7aecec; padding: 0.45em 0.6em; margin: 0 0.25em; line-height: 1; border-radius: 0.35em;\">\n    Siemens Energy\n    <span style=\"font-size: 0.8em; font-weight: bold; line-height: 1; border-radius: 0.35em; vertical-align: middle; margin-left: 0.5rem\">ORG</span>\n</mark>\n should be the company that everyone</br>immediately thinks of when it comes to decarbonization.</br>We energize society â€“ \n<mark class=\"entity\" style=\"background: #aa9cfc; padding: 0.45em 0.6em; margin: 0 0.25em; line-height: 1; border-radius: 0.35em;\">\n    thatâ€\n    <span style=\"font-size: 0.8em; font-weight: bold; line-height: 1; border-radius: 0.35em; vertical-align: middle; margin-left: 0.5rem\">PERSON</span>\n</mark>\n™s our purpose. Together</br>with our customers and partners, we can make a real</br>difference in shaping the energy world of \n<mark class=\"entity\" style=\"background: #bfe1d9; padding: 0.45em 0.6em; margin: 0 0.25em; line-height: 1; border-radius: 0.35em;\">\n    tomorrow\n    <span style=\"font-size: 0.8em; font-weight: bold; line-height: 1; border-radius: 0.35em; vertical-align: middle; margin-left: 0.5rem\">DATE</span>\n</mark>\n.</br>\n<mark class=\"entity\" style=\"background: #aa9cfc; padding: 0.45em 0.6em; margin: 0 0.25em; line-height: 1; border-radius: 0.35em;\">\n    Christian Bruch\n    <span style=\"font-size: 0.8em; font-weight: bold; line-height: 1; border-radius: 0.35em; vertical-align: middle; margin-left: 0.5rem\">PERSON</span>\n</mark>\n</br>CEO and \n<mark class=\"entity\" style=\"background: #7aecec; padding: 0.45em 0.6em; margin: 0 0.25em; line-height: 1; border-radius: 0.35em;\">\n    CSO\n    <span style=\"font-size: 0.8em; font-weight: bold; line-height: 1; border-radius: 0.35em; vertical-align: middle; margin-left: 0.5rem\">ORG</span>\n</mark>\n</br>of \n<mark class=\"entity\" style=\"background: #7aecec; padding: 0.45em 0.6em; margin: 0 0.25em; line-height: 1; border-radius: 0.35em;\">\n    Siemens Energy\n    <span style=\"font-size: 0.8em; font-weight: bold; line-height: 1; border-radius: 0.35em; vertical-align: middle; margin-left: 0.5rem\">ORG</span>\n</mark>\n</br>Our goals</br>Our status</br>Climate neutral in</br>own operations until</br>\n<mark class=\"entity\" style=\"background: #e4e7d2; padding: 0.45em 0.6em; margin: 0 0.25em; line-height: 1; border-radius: 0.35em;\">\n    2030\n    <span style=\"font-size: 0.8em; font-weight: bold; line-height: 1; border-radius: 0.35em; vertical-align: middle; margin-left: 0.5rem\">CARDINAL</span>\n</mark>\n</br>\n<mark class=\"entity\" style=\"background: #e4e7d2; padding: 0.45em 0.6em; margin: 0 0.25em; line-height: 1; border-radius: 0.35em;\">\n    292,000\n    <span style=\"font-size: 0.8em; font-weight: bold; line-height: 1; border-radius: 0.35em; vertical-align: middle; margin-left: 0.5rem\">CARDINAL</span>\n</mark>\n t</br>CO2 emissions</br>(Scope \n<mark class=\"entity\" style=\"background: #e4e7d2; padding: 0.45em 0.6em; margin: 0 0.25em; line-height: 1; border-radius: 0.35em;\">\n    1\n    <span style=\"font-size: 0.8em; font-weight: bold; line-height: 1; border-radius: 0.35em; vertical-align: middle; margin-left: 0.5rem\">CARDINAL</span>\n</mark>\n and 2) \n<mark class=\"entity\" style=\"background: #e4e7d2; padding: 0.45em 0.6em; margin: 0 0.25em; line-height: 1; border-radius: 0.35em;\">\n    78%\n    <span style=\"font-size: 0.8em; font-weight: bold; line-height: 1; border-radius: 0.35em; vertical-align: middle; margin-left: 0.5rem\">PERCENT</span>\n</mark>\n</br>green electricity</br>\n<mark class=\"entity\" style=\"background: #e4e7d2; padding: 0.45em 0.6em; margin: 0 0.25em; line-height: 1; border-radius: 0.35em;\">\n    100%\n    <span style=\"font-size: 0.8em; font-weight: bold; line-height: 1; border-radius: 0.35em; vertical-align: middle; margin-left: 0.5rem\">PERCENT</span>\n</mark>\n</br>green electricity</br>consumption</br>by \n<mark class=\"entity\" style=\"background: #e4e7d2; padding: 0.45em 0.6em; margin: 0 0.25em; line-height: 1; border-radius: 0.35em;\">\n    2023\n    <span style=\"font-size: 0.8em; font-weight: bold; line-height: 1; border-radius: 0.35em; vertical-align: middle; margin-left: 0.5rem\">CARDINAL</span>\n</mark>\n</br>\n<mark class=\"entity\" style=\"background: #e4e7d2; padding: 0.45em 0.6em; margin: 0 0.25em; line-height: 1; border-radius: 0.35em;\">\n    Three\n    <span style=\"font-size: 0.8em; font-weight: bold; line-height: 1; border-radius: 0.35em; vertical-align: middle; margin-left: 0.5rem\">CARDINAL</span>\n</mark>\n questions toâ€¦</br>\n<mark class=\"entity\" style=\"background: #e4e7d2; padding: 0.45em 0.6em; margin: 0 0.25em; line-height: 1; border-radius: 0.35em;\">\n    23\n    <span style=\"font-size: 0.8em; font-weight: bold; line-height: 1; border-radius: 0.35em; vertical-align: middle; margin-left: 0.5rem\">CARDINAL</span>\n</mark>\n</br>\n<mark class=\"entity\" style=\"background: #7aecec; padding: 0.45em 0.6em; margin: 0 0.25em; line-height: 1; border-radius: 0.35em;\">\n    Siemens Energy\n    <span style=\"font-size: 0.8em; font-weight: bold; line-height: 1; border-radius: 0.35em; vertical-align: middle; margin-left: 0.5rem\">ORG</span>\n</mark>\n â€• Sustainability Report \n<mark class=\"entity\" style=\"background: #bfe1d9; padding: 0.45em 0.6em; margin: 0 0.25em; line-height: 1; border-radius: 0.35em;\">\n    2020\n    <span style=\"font-size: 0.8em; font-weight: bold; line-height: 1; border-radius: 0.35em; vertical-align: middle; margin-left: 0.5rem\">DATE</span>\n</mark>\n</br>Decarbonizing our business</div>\n</figure>\n</body>\n</html></span>"
     },
     "metadata": {},
     "output_type": "display_data"
    },
    {
     "name": "stdout",
     "output_type": "stream",
     "text": [
      "\n",
      "Using the 'ent' visualizer\n",
      "Serving on http://0.0.0.0:5000 ...\n",
      "\n"
     ]
    }
   ],
   "source": [
    "from spacy import displacy\n",
    "displacy.serve(doc[:1000], style='ent')\n",
    "\n"
   ],
   "metadata": {
    "collapsed": false,
    "pycharm": {
     "name": "#%%\n"
    }
   }
  }
 ],
 "metadata": {
  "kernelspec": {
   "display_name": "Python 3",
   "language": "python",
   "name": "python3"
  },
  "language_info": {
   "codemirror_mode": {
    "name": "ipython",
    "version": 2
   },
   "file_extension": ".py",
   "mimetype": "text/x-python",
   "name": "python",
   "nbconvert_exporter": "python",
   "pygments_lexer": "ipython2",
   "version": "2.7.6"
  }
 },
 "nbformat": 4,
 "nbformat_minor": 0
}