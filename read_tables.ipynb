{
 "cells": [
  {
   "cell_type": "code",
   "execution_count": 4,
   "metadata": {
    "collapsed": true
   },
   "outputs": [],
   "source": [
    "import camelot as cam\n",
    "import tabula as tab"
   ]
  },
  {
   "cell_type": "code",
   "execution_count": 5,
   "outputs": [],
   "source": [
    "from config import *\n",
    "path = allianz_pdf"
   ],
   "metadata": {
    "collapsed": false,
    "pycharm": {
     "name": "#%%\n"
    }
   }
  },
  {
   "cell_type": "code",
   "execution_count": 6,
   "outputs": [
    {
     "name": "stdout",
     "output_type": "stream",
     "text": [
      "Found tables with Camelot: 0\n"
     ]
    }
   ],
   "source": [
    "tab_camelot = cam.read_pdf(filepath=path, flavor=\"lattice\", pages=\"105, 106\")\n",
    "print(\"Found tables with Camelot:\", tab_camelot.n)\n",
    "if tab_camelot.n > 0:\n",
    "    print(\"Parsing Report:\", tab_camelot[0].parsing_report)"
   ],
   "metadata": {
    "collapsed": false,
    "pycharm": {
     "name": "#%%\n"
    }
   }
  },
  {
   "cell_type": "code",
   "execution_count": 7,
   "outputs": [
    {
     "data": {
      "text/plain": "[                                        01  \\\n 0                             Introduction   \n 1                                       02   \n 2                  Sustainability strategy   \n 3                           and governance   \n 4                                       03   \n 5               Sustainability in our core   \n 6                      business activities   \n 7                                      NaN   \n 8                                       04   \n 9       Sustainability in our organization   \n 10                                      05   \n 11               Allianz’s climate-related   \n 12                    financial disclosure   \n 13                                     NaN   \n 14                         05.1 Highlights   \n 15                                     NaN   \n 16                         05.2 Governance   \n 17  Overarching and board-level governance   \n 18                Business and management-   \n 19                        level governance   \n 20                  Board remuneration and   \n \n                                            Unnamed: 0  \\\n 0                                           Indicator   \n 1   Electricity, gas, steam and air conditioning s...   \n 2                                                 NaN   \n 3                                                 NaN   \n 4                                                 NaN   \n 5                                                 NaN   \n 6                                                 NaN   \n 7                          Transportation and storage   \n 8                                                 NaN   \n 9                                                 NaN   \n 10                                                NaN   \n 11                                                NaN   \n 12                                                NaN   \n 13                               Mining and quarrying   \n 14                                                NaN   \n 15                                                NaN   \n 16                                                NaN   \n 17                                                NaN   \n 18                                                NaN   \n 19                                                NaN   \n 20                                                NaN   \n \n                            Unnamed: 1            Unnamed: 2  Unnamed: 3  \\\n 0                                 NaN                  Unit     2020.00   \n 1                          Sector AuM                  € bn       15.66   \n 2        Share of corporate bonds AuM                     %        8.50   \n 3                  Absolute emissions             mn t CO2e        6.20   \n 4                  Relative emissions  t CO2e/€ mn invested      396.21   \n 5   Weighted average carbon intensity     t CO2e/€ mn sales       88.95   \n 6                                 NaN                   NaN         NaN   \n 7                          Sector AuM                  € bn       13.16   \n 8        Share of corporate bonds AuM                     %        7.10   \n 9                  Absolute emissions             mn t CO2e        1.84   \n 10                 Relative emissions  t CO2e/€ mn invested      139.80   \n 11  Weighted average carbon intensity     t CO2e/€ mn sales       27.83   \n 12                                NaN                   NaN         NaN   \n 13                         Sector AuM                  € bn        3.68   \n 14                                NaN                   NaN         NaN   \n 15       Share of corporate bonds AuM                     %        2.00   \n 16                                NaN                   NaN         NaN   \n 17                 Absolute emissions             mn t CO2e        1.17   \n 18                 Relative emissions  t CO2e/€ mn invested      318.05   \n 19                                NaN                   NaN         NaN   \n 20  Weighted average carbon intensity     t CO2e/€ mn sales       13.10   \n \n    Unnamed: 4  Unnamed: 5  \n 0     Δ y-o-y     2019.00  \n 1       1.2 %       15.48  \n 2     -0.1 %p        8.50  \n 3     -19.4 %        7.70  \n 4     -20.3 %      497.30  \n 5     -12.7 %      101.87  \n 6         NaN         NaN  \n 7      -7.4 %       14.21  \n 8     -0.7 %p        7.80  \n 9     -12.2 %        2.10  \n 10     -5.2 %      147.48  \n 11     13.3 %       24.57  \n 12        NaN         NaN  \n 13    -17.7 %        4.47  \n 14        NaN         NaN  \n 15    -0.5 %p        2.50  \n 16        NaN         NaN  \n 17      1.5 %        1.15  \n 18     23.4 %      257.82  \n 19        NaN         NaN  \n 20     -2.9 %       13.49  ]"
     },
     "execution_count": 7,
     "metadata": {},
     "output_type": "execute_result"
    }
   ],
   "source": [
    "tab_tabula = tab.read_pdf(path, pages=106, multiple_tables=True)\n",
    "tab_tabula"
   ],
   "metadata": {
    "collapsed": false,
    "pycharm": {
     "name": "#%%\n"
    }
   }
  }
 ],
 "metadata": {
  "kernelspec": {
   "display_name": "Python 3",
   "language": "python",
   "name": "python3"
  },
  "language_info": {
   "codemirror_mode": {
    "name": "ipython",
    "version": 2
   },
   "file_extension": ".py",
   "mimetype": "text/x-python",
   "name": "python",
   "nbconvert_exporter": "python",
   "pygments_lexer": "ipython2",
   "version": "2.7.6"
  }
 },
 "nbformat": 4,
 "nbformat_minor": 0
}