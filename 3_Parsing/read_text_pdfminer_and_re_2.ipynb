{
 "cells": [
  {
   "cell_type": "code",
   "execution_count": 9,
   "metadata": {
    "collapsed": true
   },
   "outputs": [],
   "source": [
    "import pdfminer"
   ]
  },
  {
   "cell_type": "code",
   "execution_count": 10,
   "outputs": [],
   "source": [
    "from config import *\n",
    "path = siemens_pdf"
   ],
   "metadata": {
    "collapsed": false,
    "pycharm": {
     "name": "#%%\n"
    }
   }
  },
  {
   "cell_type": "code",
   "execution_count": 11,
   "outputs": [
    {
     "name": "stdout",
     "output_type": "stream",
     "text": [
      "Decarbonizing our business\n",
      "\n",
      "27\n",
      "\n",
      "Scope 1 and 2 emissions \n",
      "1000 metric tons of CO2 equivalent\n",
      "\n",
      "FY 2020\n",
      "\n",
      "Energy consumption and greenhouse \n",
      "gas emissions\n",
      "We monitor energy consumption at our office locations \n",
      "and manufacturing facilities. It is calculated by adding \n",
      "the primary and secondary consumption of fuels and \n",
      "electricity and enables us to track the success of our \n",
      "climate neutral program.\n",
      "\n",
      "Siemens Energy’s total energy consumption during the \n",
      "reporting period was 5.8 million gigajoules. Compared \n",
      "with fiscal year 2019, this is a reduction of 16.6%. This \n",
      "is mainly related to COVID-19 impacts on our global \n",
      "operations but also related to the implementation of \n",
      "some energy efficiency projects.\n",
      "\n",
      "Scope 1\n",
      "\n",
      "Thereof SF₆ \n",
      "emissions\n",
      "\n",
      "Scope 2 1 \n",
      "\n",
      "Total\n",
      "\n",
      "221\n",
      "\n",
      "266\n",
      "\n",
      "66\n",
      "\n",
      "73\n",
      "\n",
      "71\n",
      "\n",
      "175\n",
      "\n",
      "FY 2020\n",
      "\n",
      "FY 2019\n",
      "\n",
      "Fiscal year\n",
      "\n",
      "1 \n",
      "\n",
      " We calculate our emissions resulting from electrical consumption based on carbon \n",
      "emission factors of our local sites according to the market-based approach.\n",
      "\n",
      "292\n",
      "\n",
      "440\n",
      "\n",
      "Atmospheric Pollutant Emissions\n",
      "Other  atmospheric  pollutant  emissions  also  have \n",
      " negative impacts on the environment. These include \n",
      "Volatile Organic Compounds (VOC) and Ozone Depleting \n",
      "Substances (ODS). VOC contribute to the formation of \n",
      "ozone close to the earth’s surface. The types of sub-\n",
      "stances  and  materials  that  are  in  use  and  contain \n",
      " organic  compounds  include:  solvents,  paints  and \n",
      " adhesives.  ODS  are  monitored  to  comply  with  the \n",
      " Montreal Protocol, the international convention on the \n",
      "protection of the ozone layer, as well as with coun-\n",
      "try-specific regulation. The volume of emissions from \n",
      "the  use  of  volatile  organic  compounds  during  the \n",
      " reporting  period  equates  to  434  metric  tons.  The \n",
      "volume of emissions from the use of ozone depleting \n",
      "substances  during  the  reporting  period  equates  to \n",
      "0.013 metric tons.\n",
      "\n",
      "In calculating nitrogen oxides, we have assumed typical \n",
      "combustion conditions in the relevant thermal pro-\n",
      "cesses, resulting in a figure of 74 metric tons for envi-\n",
      "ronmentally  relevant  locations  in  the  year  under \n",
      "review. The figure includes nitrogen oxides released \n",
      "during the incineration of fuels reported in the section \n",
      "on primary energy.\n",
      "\n",
      "Natural gas/liquid petroleum gas\n",
      "\n",
      "1,920\n",
      "\n",
      "2,377\n",
      "\n",
      "Primary Energy\n",
      "(1,000 gigajoules)\n",
      "\n",
      "Fuel oil, coal, gasoline/diesel\n",
      "\n",
      "Other\n",
      "\n",
      "Total\n",
      "\n",
      "Secondary Energy\n",
      "(1,000 gigajoules)\n",
      "\n",
      "Electricity\n",
      "\n",
      "District Heating\n",
      "\n",
      "Total\n",
      "\n",
      "Thereof electricity from renewable sources\n",
      "\n",
      "2020\n",
      "\n",
      "2019\n",
      "\n",
      "263\n",
      "\n",
      "5\n",
      "\n",
      "352\n",
      "\n",
      "5\n",
      "\n",
      "2,188\n",
      "\n",
      "2,734\n",
      "\n",
      "Fiscal year\n",
      "\n",
      "2020\n",
      "\n",
      "2019\n",
      "\n",
      "2,902\n",
      "\n",
      "2,256\n",
      "\n",
      "713\n",
      "\n",
      "3,383\n",
      "\n",
      "2,007\n",
      "\n",
      "843\n",
      "\n",
      "3,615\n",
      "\n",
      "4,226\n",
      "\n",
      "Over the reporting period, Siemens Energy collected \n",
      "the following data regarding the level of scope 1 and \n",
      "2 emissions related to its business activities.\n",
      "\n",
      "Scope 1 (direct) emissions\n",
      "Direct greenhouse gas emissions arise from sources in \n",
      "the company’s ownership or under its control.\n",
      "\n",
      "Scope 2 (indirect) emissions\n",
      "Indirect greenhouse gas emissions refer to the consump-\n",
      "tion of purchased electrical energy and district heating.\n",
      "\n",
      "In fiscal year 2020 we achieved to reduce our scope 1 \n",
      "and 2 emissions by around one third or 148,000 metric \n",
      "tons. The main levers were the increase of renewable \n",
      "electricity share, some energy efficiency projects as \n",
      "well as COVID-19 related impacts on our global oper-\n",
      "ations. \n",
      "\n",
      "Siemens Energy   ―  Sustainability Report 2020\f\n"
     ]
    }
   ],
   "source": [
    "from pdfminer.high_level import extract_text\n",
    "from io import StringIO\n",
    "import re\n",
    "\n",
    "#doc_content = extract_text(path)\n",
    "doc_content = extract_text(path,page_numbers=[26])\n",
    "# print(repr(doc_content))\n",
    "print(doc_content)"
   ],
   "metadata": {
    "collapsed": false,
    "pycharm": {
     "name": "#%%\n"
    }
   }
  },
  {
   "cell_type": "code",
   "execution_count": 12,
   "outputs": [],
   "source": [
    "# doc_content = doc_content.replace('\\n\\n.', ' ')\n",
    "# doc_content = doc_content.replace('\\n', ' ')\n",
    "# doc_content = doc_content.replace('  ', ' ')\n",
    "# doc_content\n"
   ],
   "metadata": {
    "collapsed": false,
    "pycharm": {
     "name": "#%%\n"
    }
   }
  },
  {
   "cell_type": "code",
   "execution_count": 13,
   "outputs": [],
   "source": [
    "#doc_content = re.sub(r'[\\\\][n][\\\\][n]', ' ', doc_content)\n"
   ],
   "metadata": {
    "collapsed": false,
    "pycharm": {
     "name": "#%%\n"
    }
   }
  },
  {
   "cell_type": "code",
   "execution_count": 14,
   "outputs": [
    {
     "name": "stdout",
     "output_type": "stream",
     "text": [
      "Anzahl geparster Sätze: 43\n"
     ]
    }
   ],
   "source": [
    "re1 = r'(?<!\\w\\.\\w.)(?<![A-Z][a-z]\\.)(?<=\\.|\\?|\\!|\\:)\\s'\n",
    "re11 = r'((?<!\\w\\.\\w.)(?<![A-Z][a-z]\\.)(?<=\\.|\\?|\\!|\\:)\\s)|[\\\\][n][\\\\][n]'\n",
    "re2 = r'(?<![A-Z][a-z])([!?.\\n])(?=\\s*[A-Z])\\s*'\n",
    "sentences = re.split(re11, doc_content)\n",
    "print('Anzahl geparster Sätze:', len(sentences))"
   ],
   "metadata": {
    "collapsed": false,
    "pycharm": {
     "name": "#%%\n"
    }
   }
  },
  {
   "cell_type": "code",
   "execution_count": 15,
   "outputs": [],
   "source": [
    "def contains_word(s, w):\n",
    "    return f' {w} ' in f' {s} '\n",
    "\n",
    "sentences_with_scope = list()\n",
    "\n",
    "for sentence in sentences:\n",
    "    if contains_word(sentence.lower(),'scope 1'):\n",
    "        sentences_with_scope.append(sentence)"
   ],
   "metadata": {
    "collapsed": false,
    "pycharm": {
     "name": "#%%\n"
    }
   }
  },
  {
   "cell_type": "code",
   "execution_count": 16,
   "outputs": [
    {
     "data": {
      "text/plain": "['\\nNatural gas/liquid petroleum gas\\n\\n1,920\\n\\n2,377\\n\\nPrimary Energy\\n(1,000 gigajoules)\\n\\nFuel oil, coal, gasoline/diesel\\n\\nOther\\n\\nTotal\\n\\nSecondary Energy\\n(1,000 gigajoules)\\n\\nElectricity\\n\\nDistrict Heating\\n\\nTotal\\n\\nThereof electricity from renewable sources\\n\\n2020\\n\\n2019\\n\\n263\\n\\n5\\n\\n352\\n\\n5\\n\\n2,188\\n\\n2,734\\n\\nFiscal year\\n\\n2020\\n\\n2019\\n\\n2,902\\n\\n2,256\\n\\n713\\n\\n3,383\\n\\n2,007\\n\\n843\\n\\n3,615\\n\\n4,226\\n\\nOver the reporting period, Siemens Energy collected \\nthe following data regarding the level of scope 1 and \\n2 emissions related to its business activities.',\n '\\nIn fiscal year 2020 we achieved to reduce our scope 1 \\nand 2 emissions by around one third or 148,000 metric \\ntons.']"
     },
     "execution_count": 16,
     "metadata": {},
     "output_type": "execute_result"
    }
   ],
   "source": [
    "sentences_with_scope"
   ],
   "metadata": {
    "collapsed": false,
    "pycharm": {
     "name": "#%%\n"
    }
   }
  }
 ],
 "metadata": {
  "kernelspec": {
   "display_name": "Python 3",
   "language": "python",
   "name": "python3"
  },
  "language_info": {
   "codemirror_mode": {
    "name": "ipython",
    "version": 2
   },
   "file_extension": ".py",
   "mimetype": "text/x-python",
   "name": "python",
   "nbconvert_exporter": "python",
   "pygments_lexer": "ipython2",
   "version": "2.7.6"
  }
 },
 "nbformat": 4,
 "nbformat_minor": 0
}