{
 "cells": [
  {
   "cell_type": "code",
   "execution_count": 1,
   "metadata": {
    "collapsed": true
   },
   "outputs": [],
   "source": [
    "import pdfminer"
   ]
  },
  {
   "cell_type": "code",
   "execution_count": 2,
   "outputs": [],
   "source": [
    "from config import *\n",
    "path = siemens_page_27"
   ],
   "metadata": {
    "collapsed": false,
    "pycharm": {
     "name": "#%%\n"
    }
   }
  },
  {
   "cell_type": "code",
   "execution_count": 3,
   "outputs": [
    {
     "data": {
      "text/plain": "'Energy consumption and greenhouse gas emissionsWe monitor energy consumption at our office locations and manufacturing facilities. It is calculated by adding the primary and secondary consumption of fuels and electricity and enables us to track the success of our climate neutral program.Siemens Energy’s total energy consumption during the reporting period was 5.8 million gigajoules. Compared with fiscal year 2019, this is a reduction of 16.6%. This is mainly related to COVID-19 impacts on our global operations but also related to the implementation of some energy efficiency projects.Primary Energy(1,000 gigajoules)Fiscal year20202019Natural gas/liquid petroleum gas1,9202,377Fuel oil, coal, gasoline/diesel263352Other55Total2,1882,734Secondary Energy(1,000 gigajoules)Fiscal year20202019Electricity2,9023,383Thereof electricity from renewable sources2,2562,007District Heating713843Total3,6154,226Over the reporting period, Siemens Energy collected the following data regarding the level of scope 1 and 2 emissions related to its business activities.Scope 1 (direct) emissionsDirect greenhouse gas emissions arise from sources in the company’s ownership or under its control.Scope 2 (indirect) emissionsIndirect greenhouse gas emissions refer to the consump-tion of purchased electrical energy and district heating.In fiscal year 2020 we achieved to reduce our scope 1 and 2 emissions by around one third or 148,000 metric tons. The main levers were the increase of renewable electricity share, some energy efficiency projects as well as COVID-19 related impacts on our global oper-ations. Atmospheric Pollutant EmissionsOther atmospheric pollutant emissions also have  negative impacts on the environment. These include Volatile Organic Compounds (VOC) and Ozone Depleting Substances (ODS). VOC contribute to the formation of ozone close to the earth’s surface. The types of sub-stances and materials that are in use and contain  organic compounds include: solvents, paints and  adhesives. ODS are monitored to comply with the  Montreal Protocol, the international convention on the protection of the ozone layer, as well as with coun-try-specific regulation. The volume of emissions from the use of volatile organic compounds during the  reporting period equates to 434 metric tons. The volume of emissions from the use of ozone depleting substances during the reporting period equates to 0.013 metric tons.In calculating nitrogen oxides, we have assumed typical combustion conditions in the relevant thermal pro-cesses, resulting in a figure of 74 metric tons for envi-ronmentally relevant locations in the year under review. The figure includes nitrogen oxides released during the incineration of fuels reported in the section on primary energy.1  We calculate our emissions resulting from electrical consumption based on carbon emission factors of our local sites according to the market-based approach.Scope 1 and 2 emissions FY 20201000 metric tons of CO2 equivalentScope 2 1 Scope 1Thereof SF₆ emissionsTotal221716629226673175440FY 2019FY 202027Siemens Energy   ―  Sustainability Report 2020Decarbonizing our business\\x0c'"
     },
     "execution_count": 3,
     "metadata": {},
     "output_type": "execute_result"
    }
   ],
   "source": [
    "from pdfminer.high_level import extract_text_to_fp\n",
    "from io import StringIO\n",
    "import re\n",
    "\n",
    "out_string = StringIO()\n",
    "with open(path, 'rb') as my_pdf:\n",
    "    extract_text_to_fp(my_pdf, out_string)\n",
    "\n",
    "doc_content = out_string.getvalue()\n",
    "doc_content"
   ],
   "metadata": {
    "collapsed": false,
    "pycharm": {
     "name": "#%%\n"
    }
   }
  },
  {
   "cell_type": "code",
   "execution_count": 4,
   "outputs": [
    {
     "name": "stdout",
     "output_type": "stream",
     "text": [
      "Anzahl geparster Sätze: 13\n"
     ]
    }
   ],
   "source": [
    "re1 = r'(?<!\\w\\.\\w.)(?<![A-Z][a-z]\\.)(?<=\\.|\\?)\\s'\n",
    "re2 = r'(\\b[^\\s]+\\b)'\n",
    "sentences = re.split(re1, doc_content)\n",
    "print('Anzahl geparster Sätze:', len(sentences))"
   ],
   "metadata": {
    "collapsed": false,
    "pycharm": {
     "name": "#%%\n"
    }
   }
  },
  {
   "cell_type": "code",
   "execution_count": 5,
   "outputs": [],
   "source": [
    "def contains_word(s, w):\n",
    "    return f' {w} ' in f' {s} '\n",
    "\n",
    "sentences_with_scope = list()\n",
    "\n",
    "for sentence in sentences:\n",
    "    if contains_word(sentence.lower(),'scope 1'):\n",
    "        sentences_with_scope.append(sentence)"
   ],
   "metadata": {
    "collapsed": false,
    "pycharm": {
     "name": "#%%\n"
    }
   }
  },
  {
   "cell_type": "code",
   "execution_count": 6,
   "outputs": [
    {
     "data": {
      "text/plain": "['This is mainly related to COVID-19 impacts on our global operations but also related to the implementation of some energy efficiency projects.Primary Energy(1,000 gigajoules)Fiscal year20202019Natural gas/liquid petroleum gas1,9202,377Fuel oil, coal, gasoline/diesel263352Other55Total2,1882,734Secondary Energy(1,000 gigajoules)Fiscal year20202019Electricity2,9023,383Thereof electricity from renewable sources2,2562,007District Heating713843Total3,6154,226Over the reporting period, Siemens Energy collected the following data regarding the level of scope 1 and 2 emissions related to its business activities.Scope 1 (direct) emissionsDirect greenhouse gas emissions arise from sources in the company’s ownership or under its control.Scope 2 (indirect) emissionsIndirect greenhouse gas emissions refer to the consump-tion of purchased electrical energy and district heating.In fiscal year 2020 we achieved to reduce our scope 1 and 2 emissions by around one third or 148,000 metric tons.']"
     },
     "execution_count": 6,
     "metadata": {},
     "output_type": "execute_result"
    }
   ],
   "source": [
    "sentences_with_scope"
   ],
   "metadata": {
    "collapsed": false,
    "pycharm": {
     "name": "#%%\n"
    }
   }
  }
 ],
 "metadata": {
  "kernelspec": {
   "display_name": "Python 3",
   "language": "python",
   "name": "python3"
  },
  "language_info": {
   "codemirror_mode": {
    "name": "ipython",
    "version": 2
   },
   "file_extension": ".py",
   "mimetype": "text/x-python",
   "name": "python",
   "nbconvert_exporter": "python",
   "pygments_lexer": "ipython2",
   "version": "2.7.6"
  }
 },
 "nbformat": 4,
 "nbformat_minor": 0
}