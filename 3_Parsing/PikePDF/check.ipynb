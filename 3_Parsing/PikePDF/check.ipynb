{
 "cells": [
  {
   "cell_type": "code",
   "execution_count": 30,
   "metadata": {
    "collapsed": true
   },
   "outputs": [],
   "source": [
    "from pikepdf import Pdf\n",
    "\n",
    "path_orig = '../PikePDF/pdfs/GNSOriginal.pdf'\n",
    "path_conv = '../PikePDF/pdfs/GNSConverted.pdf'\n",
    "\n",
    "pdf_orig = Pdf.open(path_orig)\n",
    "pdf_conv = Pdf.open(path_conv)"
   ]
  },
  {
   "cell_type": "code",
   "execution_count": 31,
   "outputs": [],
   "source": [
    "# pdf_orig = pdf_orig.Root.Metadata\n",
    "# pdf_conv = pdf_conv.Root.Metadata\n",
    "#\n",
    "# method = 'read_bytes'\n",
    "# args = 'decode'\n",
    "#\n",
    "# res_orig = getattr(pdf_orig, method)(args)\n",
    "# res_conv = getattr(pdf_conv, method)(args)\n",
    "#\n",
    "# print('Orig: ', res_orig)\n",
    "# print('Conv: ', res_conv)\n"
   ],
   "metadata": {
    "collapsed": false,
    "pycharm": {
     "name": "#%%\n"
    }
   }
  },
  {
   "cell_type": "code",
   "execution_count": 40,
   "outputs": [
    {
     "data": {
      "text/plain": "pikepdf.Array([ {\n  \"/Count\": 100,\n  \"/Kids\": [ {\n    \"/Count\": 10,\n    \"/Kids\": [ <Pdf.pages.from_objgen(1704, 0)>, <Pdf.pages.from_objgen(1, 0)>, <Pdf.pages.from_objgen(9, 0)>, <Pdf.pages.from_objgen(35, 0)>, <Pdf.pages.from_objgen(51, 0)>, <Pdf.pages.from_objgen(77, 0)>, <Pdf.pages.from_objgen(87, 0)>, <Pdf.pages.from_objgen(109, 0)>, <Pdf.pages.from_objgen(120, 0)>, <Pdf.pages.from_objgen(126, 0)> ],\n    \"/Parent\": <reference to /Pages>,\n    \"/Type\": \"/Pages\"\n  }, {\n    \"/Count\": 10,\n    \"/Kids\": [ <Pdf.pages.from_objgen(137, 0)>, <Pdf.pages.from_objgen(143, 0)>, <Pdf.pages.from_objgen(149, 0)>, <Pdf.pages.from_objgen(155, 0)>, <Pdf.pages.from_objgen(163, 0)>, <Pdf.pages.from_objgen(175, 0)>, <Pdf.pages.from_objgen(185, 0)>, <Pdf.pages.from_objgen(209, 0)>, <Pdf.pages.from_objgen(215, 0)>, <Pdf.pages.from_objgen(277, 0)> ],\n    \"/Parent\": <reference to /Pages>,\n    \"/Type\": \"/Pages\"\n  }, {\n    \"/Count\": 10,\n    \"/Kids\": [ <Pdf.pages.from_objgen(288, 0)>, <Pdf.pages.from_objgen(296, 0)>, <Pdf.pages.from_objgen(306, 0)>, <Pdf.pages.from_objgen(314, 0)>, <Pdf.pages.from_objgen(329, 0)>, <Pdf.pages.from_objgen(337, 0)>, <Pdf.pages.from_objgen(357, 0)>, <Pdf.pages.from_objgen(365, 0)>, <Pdf.pages.from_objgen(376, 0)>, <Pdf.pages.from_objgen(384, 0)> ],\n    \"/Parent\": <reference to /Pages>,\n    \"/Type\": \"/Pages\"\n  }, {\n    \"/Count\": 10,\n    \"/Kids\": [ <Pdf.pages.from_objgen(394, 0)>, <Pdf.pages.from_objgen(402, 0)>, <Pdf.pages.from_objgen(413, 0)>, <Pdf.pages.from_objgen(425, 0)>, <Pdf.pages.from_objgen(431, 0)>, <Pdf.pages.from_objgen(437, 0)>, <Pdf.pages.from_objgen(448, 0)>, <Pdf.pages.from_objgen(476, 0)>, <Pdf.pages.from_objgen(491, 0)>, <Pdf.pages.from_objgen(506, 0)> ],\n    \"/Parent\": <reference to /Pages>,\n    \"/Type\": \"/Pages\"\n  }, {\n    \"/Count\": 10,\n    \"/Kids\": [ <Pdf.pages.from_objgen(516, 0)>, <Pdf.pages.from_objgen(532, 0)>, <Pdf.pages.from_objgen(538, 0)>, <Pdf.pages.from_objgen(560, 0)>, <Pdf.pages.from_objgen(566, 0)>, <Pdf.pages.from_objgen(572, 0)>, <Pdf.pages.from_objgen(578, 0)>, <Pdf.pages.from_objgen(584, 0)>, <Pdf.pages.from_objgen(590, 0)>, <Pdf.pages.from_objgen(596, 0)> ],\n    \"/Parent\": <reference to /Pages>,\n    \"/Type\": \"/Pages\"\n  }, {\n    \"/Count\": 10,\n    \"/Kids\": [ <Pdf.pages.from_objgen(602, 0)>, <Pdf.pages.from_objgen(608, 0)>, <Pdf.pages.from_objgen(619, 0)>, <Pdf.pages.from_objgen(625, 0)>, <Pdf.pages.from_objgen(644, 0)>, <Pdf.pages.from_objgen(672, 0)>, <Pdf.pages.from_objgen(687, 0)>, <Pdf.pages.from_objgen(719, 0)>, <Pdf.pages.from_objgen(729, 0)>, <Pdf.pages.from_objgen(735, 0)> ],\n    \"/Parent\": <reference to /Pages>,\n    \"/Type\": \"/Pages\"\n  }, {\n    \"/Count\": 10,\n    \"/Kids\": [ <Pdf.pages.from_objgen(741, 0)>, <Pdf.pages.from_objgen(747, 0)>, <Pdf.pages.from_objgen(755, 0)>, <Pdf.pages.from_objgen(761, 0)>, <Pdf.pages.from_objgen(772, 0)>, <Pdf.pages.from_objgen(778, 0)>, <Pdf.pages.from_objgen(784, 0)>, <Pdf.pages.from_objgen(795, 0)>, <Pdf.pages.from_objgen(801, 0)>, <Pdf.pages.from_objgen(807, 0)> ],\n    \"/Parent\": <reference to /Pages>,\n    \"/Type\": \"/Pages\"\n  }, {\n    \"/Count\": 10,\n    \"/Kids\": [ <Pdf.pages.from_objgen(813, 0)>, <Pdf.pages.from_objgen(819, 0)>, <Pdf.pages.from_objgen(830, 0)>, <Pdf.pages.from_objgen(836, 0)>, <Pdf.pages.from_objgen(842, 0)>, <Pdf.pages.from_objgen(848, 0)>, <Pdf.pages.from_objgen(880, 0)>, <Pdf.pages.from_objgen(898, 0)>, <Pdf.pages.from_objgen(904, 0)>, <Pdf.pages.from_objgen(916, 0)> ],\n    \"/Parent\": <reference to /Pages>,\n    \"/Type\": \"/Pages\"\n  }, {\n    \"/Count\": 10,\n    \"/Kids\": [ <Pdf.pages.from_objgen(922, 0)>, <Pdf.pages.from_objgen(928, 0)>, <Pdf.pages.from_objgen(934, 0)>, <Pdf.pages.from_objgen(944, 0)>, <Pdf.pages.from_objgen(950, 0)>, <Pdf.pages.from_objgen(956, 0)>, <Pdf.pages.from_objgen(962, 0)>, <Pdf.pages.from_objgen(974, 0)>, <Pdf.pages.from_objgen(980, 0)>, <Pdf.pages.from_objgen(986, 0)> ],\n    \"/Parent\": <reference to /Pages>,\n    \"/Type\": \"/Pages\"\n  }, {\n    \"/Count\": 10,\n    \"/Kids\": [ <Pdf.pages.from_objgen(992, 0)>, <Pdf.pages.from_objgen(998, 0)>, <Pdf.pages.from_objgen(1004, 0)>, <Pdf.pages.from_objgen(1010, 0)>, <Pdf.pages.from_objgen(1016, 0)>, <Pdf.pages.from_objgen(1022, 0)>, <Pdf.pages.from_objgen(1033, 0)>, <Pdf.pages.from_objgen(1039, 0)>, <Pdf.pages.from_objgen(1045, 0)>, <Pdf.pages.from_objgen(1051, 0)> ],\n    \"/Parent\": <reference to /Pages>,\n    \"/Type\": \"/Pages\"\n  } ],\n  \"/Parent\": <reference to /Pages>,\n  \"/Type\": \"/Pages\"\n}, {\n  \"/Count\": 92,\n  \"/Kids\": [ {\n    \"/Count\": 10,\n    \"/Kids\": [ <Pdf.pages.from_objgen(1057, 0)>, <Pdf.pages.from_objgen(1067, 0)>, <Pdf.pages.from_objgen(1079, 0)>, <Pdf.pages.from_objgen(1085, 0)>, <Pdf.pages.from_objgen(1091, 0)>, <Pdf.pages.from_objgen(1097, 0)>, <Pdf.pages.from_objgen(1103, 0)>, <Pdf.pages.from_objgen(1109, 0)>, <Pdf.pages.from_objgen(1115, 0)>, <Pdf.pages.from_objgen(1121, 0)> ],\n    \"/Parent\": <reference to /Pages>,\n    \"/Type\": \"/Pages\"\n  }, {\n    \"/Count\": 10,\n    \"/Kids\": [ <Pdf.pages.from_objgen(1127, 0)>, <Pdf.pages.from_objgen(1133, 0)>, <Pdf.pages.from_objgen(1139, 0)>, <Pdf.pages.from_objgen(1145, 0)>, <Pdf.pages.from_objgen(1151, 0)>, <Pdf.pages.from_objgen(1157, 0)>, <Pdf.pages.from_objgen(1163, 0)>, <Pdf.pages.from_objgen(1169, 0)>, <Pdf.pages.from_objgen(1175, 0)>, <Pdf.pages.from_objgen(1181, 0)> ],\n    \"/Parent\": <reference to /Pages>,\n    \"/Type\": \"/Pages\"\n  }, {\n    \"/Count\": 10,\n    \"/Kids\": [ <Pdf.pages.from_objgen(1187, 0)>, <Pdf.pages.from_objgen(1193, 0)>, <Pdf.pages.from_objgen(1199, 0)>, <Pdf.pages.from_objgen(1205, 0)>, <Pdf.pages.from_objgen(1211, 0)>, <Pdf.pages.from_objgen(1217, 0)>, <Pdf.pages.from_objgen(1223, 0)>, <Pdf.pages.from_objgen(1229, 0)>, <Pdf.pages.from_objgen(1235, 0)>, <Pdf.pages.from_objgen(1241, 0)> ],\n    \"/Parent\": <reference to /Pages>,\n    \"/Type\": \"/Pages\"\n  }, {\n    \"/Count\": 10,\n    \"/Kids\": [ <Pdf.pages.from_objgen(1247, 0)>, <Pdf.pages.from_objgen(1253, 0)>, <Pdf.pages.from_objgen(1259, 0)>, <Pdf.pages.from_objgen(1265, 0)>, <Pdf.pages.from_objgen(1271, 0)>, <Pdf.pages.from_objgen(1277, 0)>, <Pdf.pages.from_objgen(1283, 0)>, <Pdf.pages.from_objgen(1289, 0)>, <Pdf.pages.from_objgen(1295, 0)>, <Pdf.pages.from_objgen(1301, 0)> ],\n    \"/Parent\": <reference to /Pages>,\n    \"/Type\": \"/Pages\"\n  }, {\n    \"/Count\": 10,\n    \"/Kids\": [ <Pdf.pages.from_objgen(1307, 0)>, <Pdf.pages.from_objgen(1313, 0)>, <Pdf.pages.from_objgen(1319, 0)>, <Pdf.pages.from_objgen(1325, 0)>, <Pdf.pages.from_objgen(1331, 0)>, <Pdf.pages.from_objgen(1337, 0)>, <Pdf.pages.from_objgen(1343, 0)>, <Pdf.pages.from_objgen(1349, 0)>, <Pdf.pages.from_objgen(1355, 0)>, <Pdf.pages.from_objgen(1361, 0)> ],\n    \"/Parent\": <reference to /Pages>,\n    \"/Type\": \"/Pages\"\n  }, {\n    \"/Count\": 10,\n    \"/Kids\": [ <Pdf.pages.from_objgen(1367, 0)>, <Pdf.pages.from_objgen(1373, 0)>, <Pdf.pages.from_objgen(1379, 0)>, <Pdf.pages.from_objgen(1385, 0)>, <Pdf.pages.from_objgen(1391, 0)>, <Pdf.pages.from_objgen(1397, 0)>, <Pdf.pages.from_objgen(1403, 0)>, <Pdf.pages.from_objgen(1409, 0)>, <Pdf.pages.from_objgen(1415, 0)>, <Pdf.pages.from_objgen(1421, 0)> ],\n    \"/Parent\": <reference to /Pages>,\n    \"/Type\": \"/Pages\"\n  }, {\n    \"/Count\": 10,\n    \"/Kids\": [ <Pdf.pages.from_objgen(1427, 0)>, <Pdf.pages.from_objgen(1433, 0)>, <Pdf.pages.from_objgen(1439, 0)>, <Pdf.pages.from_objgen(1445, 0)>, <Pdf.pages.from_objgen(1451, 0)>, <Pdf.pages.from_objgen(1457, 0)>, <Pdf.pages.from_objgen(1463, 0)>, <Pdf.pages.from_objgen(1469, 0)>, <Pdf.pages.from_objgen(1475, 0)>, <Pdf.pages.from_objgen(1481, 0)> ],\n    \"/Parent\": <reference to /Pages>,\n    \"/Type\": \"/Pages\"\n  }, {\n    \"/Count\": 10,\n    \"/Kids\": [ <Pdf.pages.from_objgen(1487, 0)>, <Pdf.pages.from_objgen(1493, 0)>, <Pdf.pages.from_objgen(1499, 0)>, <Pdf.pages.from_objgen(1505, 0)>, <Pdf.pages.from_objgen(1511, 0)>, <Pdf.pages.from_objgen(1517, 0)>, <Pdf.pages.from_objgen(1523, 0)>, <Pdf.pages.from_objgen(1529, 0)>, <Pdf.pages.from_objgen(1535, 0)>, <Pdf.pages.from_objgen(1541, 0)> ],\n    \"/Parent\": <reference to /Pages>,\n    \"/Type\": \"/Pages\"\n  }, {\n    \"/Count\": 10,\n    \"/Kids\": [ <Pdf.pages.from_objgen(1547, 0)>, <Pdf.pages.from_objgen(1553, 0)>, <Pdf.pages.from_objgen(1559, 0)>, <Pdf.pages.from_objgen(1565, 0)>, <Pdf.pages.from_objgen(1571, 0)>, <Pdf.pages.from_objgen(1577, 0)>, <Pdf.pages.from_objgen(1583, 0)>, <Pdf.pages.from_objgen(1589, 0)>, <Pdf.pages.from_objgen(1595, 0)>, <Pdf.pages.from_objgen(1601, 0)> ],\n    \"/Parent\": <reference to /Pages>,\n    \"/Type\": \"/Pages\"\n  }, {\n    \"/Count\": 2,\n    \"/Kids\": [ <Pdf.pages.from_objgen(1607, 0)>, <Pdf.pages.from_objgen(1613, 0)> ],\n    \"/Parent\": <reference to /Pages>,\n    \"/Type\": \"/Pages\"\n  } ],\n  \"/Parent\": <reference to /Pages>,\n  \"/Type\": \"/Pages\"\n} ])"
     },
     "execution_count": 40,
     "metadata": {},
     "output_type": "execute_result"
    }
   ],
   "source": [
    "meta = pdf_orig.Root['/Pages']['/Kids']\n",
    "# for key, value in meta.items():\n",
    "#     print(key, value)\n",
    "# meta['/Metadata']\n",
    "meta"
   ],
   "metadata": {
    "collapsed": false,
    "pycharm": {
     "name": "#%%\n"
    }
   }
  },
  {
   "cell_type": "code",
   "execution_count": 33,
   "outputs": [],
   "source": [
    "# pdf_conv.Root"
   ],
   "metadata": {
    "collapsed": false,
    "pycharm": {
     "name": "#%%\n"
    }
   }
  },
  {
   "cell_type": "code",
   "execution_count": 34,
   "outputs": [],
   "source": [
    "# cata = pdf_conv.Root\n",
    "# cata.keys()\n",
    "\n",
    "#docinfo = pdf_orig.Root\n",
    "# for key, value in docinfo.items():\n",
    "#     print(key, \":\", value)\n",
    "\n",
    "\n"
   ],
   "metadata": {
    "collapsed": false,
    "pycharm": {
     "name": "#%%\n"
    }
   }
  }
 ],
 "metadata": {
  "kernelspec": {
   "display_name": "Python 3",
   "language": "python",
   "name": "python3"
  },
  "language_info": {
   "codemirror_mode": {
    "name": "ipython",
    "version": 2
   },
   "file_extension": ".py",
   "mimetype": "text/x-python",
   "name": "python",
   "nbconvert_exporter": "python",
   "pygments_lexer": "ipython2",
   "version": "2.7.6"
  }
 },
 "nbformat": 4,
 "nbformat_minor": 0
}