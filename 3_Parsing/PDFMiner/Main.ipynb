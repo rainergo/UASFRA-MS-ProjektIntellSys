{
 "cells": [
  {
   "cell_type": "code",
   "execution_count": 1,
   "metadata": {
    "collapsed": true
   },
   "outputs": [],
   "source": [
    "from PDFMiner import PDFMiner\n",
    "from config import *\n",
    "\n",
    "path = allianz_pdf\n",
    "# path = acroform\n",
    "# pages = extract_pages(path)\n",
    "# show_ltitem_hierarchy(pages)"
   ]
  },
  {
   "cell_type": "code",
   "execution_count": 2,
   "outputs": [],
   "source": [
    "# miner = PDFMiner(path=path)\n",
    "# res = miner.find_word(word='scope 1', line_tolerance=0.20)\n",
    "# res\n"
   ],
   "metadata": {
    "collapsed": false,
    "pycharm": {
     "name": "#%%\n"
    }
   }
  },
  {
   "cell_type": "code",
   "execution_count": 3,
   "outputs": [],
   "source": [
    "# miner = PDFMiner(path=path)\n",
    "#\n",
    "# # miner.process_pages()\n",
    "# # miner.extract_text()\n",
    "# res = miner.find_word_2(word='scope', search_word_list=['Scope 1', 'Scope 2', 'Scope 3', 'Scope 1 and 2','CO2', 'CO₂', 'CO₂e'], line_tolerance=0.20)\n",
    "# # res = miner.find_word(word='scope 1', line_tolerance=0.20)\n",
    "# res\n",
    "\n",
    "#miner.resolve_acroforms()"
   ],
   "metadata": {
    "collapsed": false,
    "pycharm": {
     "name": "#%%\n"
    }
   }
  },
  {
   "cell_type": "code",
   "execution_count": 4,
   "outputs": [
    {
     "data": {
      "text/plain": "[{'page_number': 22,\n  'short_text_and_number': set(),\n  'text_for_word2vec': {'•  Develop operative implementation plan to reach minus  25 percent CO2 emissions (scope 1 & 2 of investee  companies according to GHG Protocol) absolute reduction  on public equity and listed corporate debt by 2025 from  a\\xa02019 baseline'},\n  'table_values': {'25 percent CO2 emissions (scope 1 & 2 of investee'}},\n {'page_number': 41,\n  'short_text_and_number': set(),\n  'text_for_word2vec': set(),\n  'table_values': set()},\n {'page_number': 73,\n  'short_text_and_number': set(),\n  'text_for_word2vec': set(),\n  'table_values': set()},\n {'page_number': 92,\n  'short_text_and_number': set(),\n  'text_for_word2vec': set(),\n  'table_values': set()},\n {'page_number': 93,\n  'short_text_and_number': set(),\n  'text_for_word2vec': set(),\n  'table_values': set()},\n {'page_number': 99,\n  'short_text_and_number': set(),\n  'text_for_word2vec': set(),\n  'table_values': set()},\n {'page_number': 107,\n  'short_text_and_number': {'t CO₂e t CO₂e t CO₂e t CO₂e t CO₂e'},\n  'text_for_word2vec': {'€ bn mn t CO₂e t CO₂e/€ mn invested t CO₂e/€ mn sales € bn mn t CO₂e t CO₂e/€ mn invested t CO₂e/€ mn sales € bn mn t CO₂e t CO₂e/€ mn invested t CO₂e/€ mn sales € bn mn t CO₂e t CO₂e/€ mn invested t CO₂e/€ mn sales'},\n  'table_values': {'-31.7 %', '28,714', 't CO₂e'}},\n {'page_number': 118,\n  'short_text_and_number': set(),\n  'text_for_word2vec': set(),\n  'table_values': set()},\n {'page_number': 124,\n  'short_text_and_number': {'t CO₂ t CO₂ t CO₂ t CO₂ t CO₂ t/empl %'},\n  'text_for_word2vec': set(),\n  'table_values': {'203,352', '28,714', '334,033', '42,011', 't CO₂'}}]"
     },
     "execution_count": 4,
     "metadata": {},
     "output_type": "execute_result"
    }
   ],
   "source": [
    "miner = PDFMiner(path=path)\n",
    "res = miner.find_word(keywords=['Scope 1', 'scope 1'], search_word_list=['t CO2', 't CO₂', 'tons CO2', 'tons CO₂', 't CO₂e', 'CO₂e', 'CO2 equivalent', 'CO₂ equivalent'],\n",
    "                      table_keywords=['2020'],neighbour_tolerance=1.50)\n",
    "res"
   ],
   "metadata": {
    "collapsed": false,
    "pycharm": {
     "name": "#%%\n"
    }
   }
  }
 ],
 "metadata": {
  "kernelspec": {
   "display_name": "Python 3",
   "language": "python",
   "name": "python3"
  },
  "language_info": {
   "codemirror_mode": {
    "name": "ipython",
    "version": 2
   },
   "file_extension": ".py",
   "mimetype": "text/x-python",
   "name": "python",
   "nbconvert_exporter": "python",
   "pygments_lexer": "ipython2",
   "version": "2.7.6"
  }
 },
 "nbformat": 4,
 "nbformat_minor": 0
}