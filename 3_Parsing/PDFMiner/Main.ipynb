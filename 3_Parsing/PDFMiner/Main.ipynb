{
 "cells": [
  {
   "cell_type": "code",
   "execution_count": 1,
   "metadata": {
    "collapsed": true
   },
   "outputs": [],
   "source": [
    "from PDFMiner import *\n",
    "from config import *\n",
    "\n",
    "path = siemens_pdf\n",
    "# path = acroform\n",
    "# pages = extract_pages(path)\n",
    "# show_ltitem_hierarchy(pages)"
   ]
  },
  {
   "cell_type": "code",
   "execution_count": 2,
   "outputs": [
    {
     "data": {
      "text/plain": "[{'page_number': 23, 'text': ['292,000 t CO2 emissions  (Scope 1 and 2) ']},\n {'page_number': 27,\n  'text': ['Scope 1 and 2 emissions 1000 metric tons of CO2 equivalent ',\n   'FY 2020 ',\n   'Scope 1 ',\n   '221 ',\n   'Scope 1 (direct) emissions Direct greenhouse gas emissions arise from sources in the company’s ownership or under its control. ']},\n {'page_number': 28,\n  'text': ['SGRE plans to engage more with key suppliers to en- courage them to reduce their Scope 1 and Scope 2 emissions related to products and services they supply to SGRE. It has sharpened its focus on sustainable business practices in supplier selection and perfor- mance management, for example urging logistics companies, in particular marine and terrestrial com- panies, to move away from fossil fuels in their activities. ',\n   'Effects of COVID-19 on climate change ']},\n {'page_number': 76,\n  'text': ['SGRE also has an Inclusion & Diversity policy in place. ',\n   'SGRE established the “Culture of Trust program” to ensure and support the develop- ment of a shared company culture across the group. It is based on three pillars: continuous learning, empowerment and diversity. \\ue645 Working at Siemens Energy ',\n   'The Siemens AG program “Serve the Environment” (StE) is still relevant to Siemens Energy throughout FY2020 and provides a foundation to on which to meet the growing number of environmental protection requirements of our customers and strengthen our position as a sustain- able company. The Siemens AG’s “Product Eco Excellence” (PrEE) program serves as a basis for our future approach and added value to our business, our customers and the environment with the aim of producing products with less environmental impact. We report direct greenhouse gas emissions (Scope 1) and indirect greenhouse gas emissions (Scope 2). We aim to be climate neutral in own operations by 2030. ',\n   'SGRE drives environmental improvements at its production sites and projects and has defined goals for the conservation of resourc- es. These include a 10% increase in energy efficiency and waste efficiency, as well as a 10% reduction in waste to landfill and a 10% reduction of hazardous waste by 2025. \\ue645 Product stewardship \\ue645 Conservation of resources \\ue645 Decarbonization ',\n   'Principle 7 Precautionary approach to environmental  protection ',\n   'Siemens Energy has an EHS management System in place to manage its environmen- tal performance. All relevant production and office sites are obliged to implement an environmental management system which fulfills the requirements of the internation- ally recognized ISO 14001 standard. ',\n   'SGRE has implemented an Environmental Management System, which covers 100% of relevant sites. ',\n   'In both reporting segments, Gas and Power and SGRE, environmental management standards are applicable on an internation- al and local basis and are founded upon the International Organisation for Stan- dardization (ISO) 14001 and 50001 standards. \\ue645 Conservation of resources \\ue645 Decarbonization ',\n   'In fiscal year 2020 we achieved to reduce our scope 1 and 2 emissions by around one third or 148,000 metric tons of CO2 equivalents. The total scope 1 and 2 emissions amounted to 292,000 metric tons of CO2 equivalents. Our share of green electricity was 78% and we aim to achieve 100% by 2023. ',\n   'Siemens Energy’s total energy consumption during the reporting period was 5.8 million gigajoules. Compared to fiscal year 2019, this is a reduction of 16.6%. ',\n   'In 2020, we initiated a Carbon Reduction @ Suppliers pilot project, cooperating with an external service provider to develop an eco- nomic model that identifies the CO2 footprint of all suppliers. ',\n   'SGRE achieved carbon neutrality back in 2019. \\ue645 Conservation of resources \\ue645 Decarbonization ']}]"
     },
     "execution_count": 2,
     "metadata": {},
     "output_type": "execute_result"
    }
   ],
   "source": [
    "miner = PDFMiner(path=path)\n",
    "\n",
    "#miner.process_pages()\n",
    "findings = miner.find_word(word='Scope 1', line_tolerance=0.75)\n",
    "findings\n",
    "#miner.extract_text()\n",
    "\n",
    "#miner.resolve_acroforms()"
   ],
   "metadata": {
    "collapsed": false,
    "pycharm": {
     "name": "#%%\n"
    }
   }
  },
  {
   "cell_type": "code",
   "execution_count": 3,
   "outputs": [],
   "source": [
    "# from Test import *\n",
    "#\n",
    "# hand = PDFPositionHandling()\n",
    "# hand.parsepdf(path,0,0)"
   ],
   "metadata": {
    "collapsed": false,
    "pycharm": {
     "name": "#%%\n"
    }
   }
  }
 ],
 "metadata": {
  "kernelspec": {
   "display_name": "Python 3",
   "language": "python",
   "name": "python3"
  },
  "language_info": {
   "codemirror_mode": {
    "name": "ipython",
    "version": 2
   },
   "file_extension": ".py",
   "mimetype": "text/x-python",
   "name": "python",
   "nbconvert_exporter": "python",
   "pygments_lexer": "ipython2",
   "version": "2.7.6"
  }
 },
 "nbformat": 4,
 "nbformat_minor": 0
}