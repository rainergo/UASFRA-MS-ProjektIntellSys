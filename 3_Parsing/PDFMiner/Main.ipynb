{
 "cells": [
  {
   "cell_type": "code",
   "execution_count": 25,
   "metadata": {
    "collapsed": true
   },
   "outputs": [],
   "source": [
    "from PDFMiner import PDFMiner\n",
    "from config import *\n",
    "\n",
    "path = allianz_pdf\n",
    "# path = acroform\n",
    "# pages = extract_pages(path)\n",
    "# show_ltitem_hierarchy(pages)"
   ]
  },
  {
   "cell_type": "code",
   "execution_count": 26,
   "outputs": [],
   "source": [
    "# miner = PDFMiner(path=path)\n",
    "# res = miner.find_word(word='scope 1', line_tolerance=0.20)\n",
    "# res\n"
   ],
   "metadata": {
    "collapsed": false,
    "pycharm": {
     "name": "#%%\n"
    }
   }
  },
  {
   "cell_type": "code",
   "execution_count": 27,
   "outputs": [],
   "source": [
    "# miner = PDFMiner(path=path)\n",
    "#\n",
    "# # miner.process_pages()\n",
    "# # miner.extract_text()\n",
    "# res = miner.find_word_2(word='scope', search_word_list=['Scope 1', 'Scope 2', 'Scope 3', 'Scope 1 and 2','CO2', 'CO₂', 'CO₂e'], line_tolerance=0.20)\n",
    "# # res = miner.find_word(word='scope 1', line_tolerance=0.20)\n",
    "# res\n",
    "\n",
    "#miner.resolve_acroforms()"
   ],
   "metadata": {
    "collapsed": false,
    "pycharm": {
     "name": "#%%\n"
    }
   }
  },
  {
   "cell_type": "code",
   "execution_count": 28,
   "outputs": [
    {
     "data": {
      "text/plain": "[{'page_number': 22,\n  'short_text_and_number': {'•  Develop operative implementation plan to reach minus  25 percent CO2 emissions (scope 1 & 2 of investee  companies according to GHG Protocol) absolute reduction  on public equity and listed corporate debt by 2025 from  a\\xa02019 baseline'},\n  'text_for_word2vec': set(),\n  'table_values': {'25 percent CO2 emissions (scope 1 & 2 of investee'}},\n {'page_number': 41,\n  'short_text_and_number': {'Oil & Gas: •  Supporting the commitment set out by the Oil and Gas Climate  Initiative (OGCI) to limit the upstream intensity for Scope 1 and  2 emissions of O&G companies to less than 20 kg CO2e/barrel  and aligning our O&G exposure on average listed equity and  corporate bonds portfolio level to this intensity level',\n   '•  Engage with O&G companies to set net-zero 2050 targets  on Scope 1 and 2 emissions'},\n  'text_for_word2vec': set(),\n  'table_values': set()},\n {'page_number': 73,\n  'short_text_and_number': {'    Full details of our GHG emission disclosure, including by Scope 1, 2, and 3  emissions, are provided in   Table ENV-2'},\n  'text_for_word2vec': set(),\n  'table_values': {'Full details of our GHG emission disclosure, including by Scope 1, 2, and 3'}},\n {'page_number': 92,\n  'short_text_and_number': set(),\n  'text_for_word2vec': {' Carbon prices projected for 2030  range from € 45 to 115 per tonne CO2e in 2°C-aligned scenarios,  and increase to € 95 to 374 per tonne CO2e in 1',\n   '6, using scope 1 and 2 emission  figures'},\n  'table_values': set()},\n {'page_number': 93,\n  'short_text_and_number': {' It also does not yet differentiate between  scope 1 and 2 emissions and, importantly, it assumes companies  do not respond to climate policy trends, e'},\n  'text_for_word2vec': set(),\n  'table_values': set()},\n {'page_number': 99,\n  'short_text_and_number': {'-25% absolute owned GHG emissions, Scope 1 and 2',\n   '85 % per year (IRENA2 global pathway) •  Scope 1&2 <20kg CO2e / barrel •  50% of AuM to set net-zero 2050 targets for Scope 1+2 emissions •  Engagement with Top 30 (non-aligned) emitters in\\xa0portfolio •  Full participation in all available AOA organized sector and asset manager engagements •  Blended finance: 4-5 new vehicles •  Climate-positive solutions: Start investing into e'},\n  'text_for_word2vec': set(),\n  'table_values': set()},\n {'page_number': 107,\n  'short_text_and_number': {'Scope 1 – direct GHG emissions Scope 2 – indirect GHG emissions (market-based) Scope 2 – indirect GHG emissions (location-based) Scope 3 – other indirect GHG emissions excl',\n   't CO₂e t CO₂e t CO₂e t CO₂e t CO₂e',\n   '€ bn mn t CO₂e t CO₂e/€ mn invested t CO₂e/€ mn sales € bn mn t CO₂e t CO₂e/€ mn invested t CO₂e/€ mn sales € bn mn t CO₂e t CO₂e/€ mn invested t CO₂e/€ mn sales € bn mn t CO₂e t CO₂e/€ mn invested t CO₂e/€ mn sales'},\n  'text_for_word2vec': set(),\n  'table_values': {'28,714'}},\n {'page_number': 118,\n  'short_text_and_number': {'), report in metric tonnes of carbon dioxide equivalent (tCO2e)  GHG Protocol Scope 1 and Scope 2 emissions'},\n  'text_for_word2vec': set(),\n  'table_values': set()},\n {'page_number': 124,\n  'short_text_and_number': {'Table ENV–2 Greenhouse gas emissions As of December 31 Scope 1 – Direct GHG emissions Scope 2 – Indirect GHG emissions (market based) Scope 2 – Indirect GHG emissions (location based) Scope 3 – Other indirect GHG emissions Scope 1-3 GHG emissions total Total GHG Emissions per employee Overall GHG reduction per employee since 2010  Target -30% by 2020',\n   't CO₂ t CO₂ t CO₂ t CO₂ t CO₂ t/empl %'},\n  'text_for_word2vec': set(),\n  'table_values': {'203,352',\n   '28,714',\n   '46,734',\n   'Scope 1 – Direct GHG emissions',\n   'Scope 1-3 GHG emissions total'}}]"
     },
     "execution_count": 28,
     "metadata": {},
     "output_type": "execute_result"
    }
   ],
   "source": [
    "miner = PDFMiner(path=path)\n",
    "res = miner.find_word(keywords=['Scope 1', 'scope 1'], search_word_list=['Scope 1', 'scope 1', 'CO2', 'CO₂', 'CO₂e', 't CO2', 't CO₂ equivalent'],\n",
    "                      table_keywords=['2020'],neighbour_tolerance=1.50, table_x_tolerance=0.95, table_y_tolerance=0.00, short_text_max_len=1000, decimals=1)\n",
    "res"
   ],
   "metadata": {
    "collapsed": false,
    "pycharm": {
     "name": "#%%\n"
    }
   }
  }
 ],
 "metadata": {
  "kernelspec": {
   "display_name": "Python 3",
   "language": "python",
   "name": "python3"
  },
  "language_info": {
   "codemirror_mode": {
    "name": "ipython",
    "version": 2
   },
   "file_extension": ".py",
   "mimetype": "text/x-python",
   "name": "python",
   "nbconvert_exporter": "python",
   "pygments_lexer": "ipython2",
   "version": "2.7.6"
  }
 },
 "nbformat": 4,
 "nbformat_minor": 0
}