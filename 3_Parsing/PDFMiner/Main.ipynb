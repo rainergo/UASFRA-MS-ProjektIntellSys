{
 "cells": [
  {
   "cell_type": "code",
   "execution_count": 1,
   "metadata": {
    "collapsed": true
   },
   "outputs": [],
   "source": [
    "from PDFMiner import PDFMiner\n",
    "from config import *\n",
    "\n",
    "path = siemens_pdf\n",
    "# path = acroform\n",
    "# pages = extract_pages(path)\n",
    "# show_ltitem_hierarchy(pages)"
   ]
  },
  {
   "cell_type": "code",
   "execution_count": 2,
   "outputs": [],
   "source": [
    "# miner = PDFMiner(path=path)\n",
    "# res = miner.find_word(word='scope 1', line_tolerance=0.20)\n",
    "# res\n"
   ],
   "metadata": {
    "collapsed": false,
    "pycharm": {
     "name": "#%%\n"
    }
   }
  },
  {
   "cell_type": "code",
   "execution_count": 3,
   "outputs": [],
   "source": [
    "# miner = PDFMiner(path=path)\n",
    "#\n",
    "# # miner.process_pages()\n",
    "# # miner.extract_text()\n",
    "# res = miner.find_word_2(word='scope', search_word_list=['Scope 1', 'Scope 2', 'Scope 3', 'Scope 1 and 2','CO2', 'CO₂', 'CO₂e'], line_tolerance=0.20)\n",
    "# # res = miner.find_word(word='scope 1', line_tolerance=0.20)\n",
    "# res\n",
    "\n",
    "#miner.resolve_acroforms()"
   ],
   "metadata": {
    "collapsed": false,
    "pycharm": {
     "name": "#%%\n"
    }
   }
  },
  {
   "cell_type": "code",
   "execution_count": 4,
   "outputs": [
    {
     "name": "stdout",
     "output_type": "stream",
     "text": [
      "Page: 23, text with search word: 292,000 t CO2 emissions   (Scope 1 and 2)\n",
      "Page: 27, text with search word: In fiscal year 2020 we achieved to reduce our scope 1  and 2 emissions by around one third or 148,000 metric  tons. The main levers were the increase of renewable  electricity share, some energy efficiency projects as  well as COVID-19 related impacts on our global oper- ations.\n",
      "Page: 27, text with search word: Over the reporting period, Siemens Energy collected  the following data regarding the level of scope 1 and  2 emissions related to its business activities.\n",
      "Page: 27, text with search word: Scope 1 (direct) emissions Direct greenhouse gas emissions arise from sources in  the company’s ownership or under its control.\n",
      "Page: 27, text with search word: Scope 1\n",
      "Page: 27, text with search word: Scope 1 and 2 emissions  1000 metric tons of CO2 equivalent\n",
      "Page: 28, text with search word: SGRE plans to engage more with key suppliers to en- courage them to reduce their Scope 1 and Scope 2  emissions related to products and services they supply  to SGRE. It has sharpened its focus on sustainable  business  practices  in  supplier  selection  and  perfor- mance  management,  for  example  urging  logistics  companies, in particular marine and terrestrial com- panies, to move away from fossil fuels in their activities.\n",
      "Page: 76, text with search word: In fiscal year 2020 we achieved to reduce our  scope 1 and 2 emissions by around one third or  148,000 metric tons of CO2 equivalents. The  total scope 1 and 2 emissions amounted to  292,000 metric tons of CO2 equivalents. Our  share of green electricity was 78% and we aim  to achieve 100% by 2023.\n",
      "Page: 76, text with search word: The Siemens AG program “Serve the  Environment” (StE) is still relevant to  Siemens Energy throughout FY2020 and  provides a foundation to on which to meet  the growing number of environmental  protection requirements of our customers  and strengthen our position as a sustain- able company. The Siemens AG’s “Product  Eco Excellence” (PrEE) program serves as a  basis for our future approach and added  value to our business, our customers and  the environment with the aim of producing  products with less environmental impact.  We report direct greenhouse gas emissions  (Scope 1) and indirect greenhouse gas  emissions (Scope 2). We aim to be climate  neutral in own operations by 2030.\n"
     ]
    },
    {
     "data": {
      "text/plain": "[{'page_number': 23,\n  'short_text_and_number': [],\n  'text_for_word2vec': [{'292,000 t CO2 emissions   (Scope 1 and 2)'}],\n  'table_values': []},\n {'page_number': 27,\n  'short_text_and_number': [{'1',\n    '221',\n    '5',\n    'FY 2020',\n    'Scope 1',\n    'Scope 2 1'}],\n  'text_for_word2vec': [{'In fiscal year 2020 we achieved to reduce our scope 1  and 2 emissions by around one third or 148,000 metric  tons',\n    'Scope 1',\n    'Scope 1 (direct) emissions Direct greenhouse gas emissions arise from sources in  the company’s ownership or under its control',\n    'Scope 1 and 2 emissions  1000 metric tons of CO2 equivalent'},\n   {'In fiscal year 2020 we achieved to reduce our scope 1  and 2 emissions by around one third or 148,000 metric  tons',\n    'Scope 1',\n    'Scope 1 (direct) emissions Direct greenhouse gas emissions arise from sources in  the company’s ownership or under its control',\n    'Scope 1 and 2 emissions  1000 metric tons of CO2 equivalent'},\n   {'In calculating nitrogen oxides, we have assumed typical  combustion conditions in the relevant thermal pro- cesses, resulting in a figure of 74 metric tons for envi- ronmentally  relevant  locations  in  the  year  under  review',\n    'In fiscal year 2020 we achieved to reduce our scope 1  and 2 emissions by around one third or 148,000 metric  tons',\n    'Scope 1',\n    'Scope 1 (direct) emissions Direct greenhouse gas emissions arise from sources in  the company’s ownership or under its control',\n    'Scope 1 and 2 emissions  1000 metric tons of CO2 equivalent'},\n   {' The volume of emissions from  the  use  of  volatile  organic  compounds  during  the   reporting  period  equates  to  434  metric  tons',\n    '013 metric tons',\n    'In calculating nitrogen oxides, we have assumed typical  combustion conditions in the relevant thermal pro- cesses, resulting in a figure of 74 metric tons for envi- ronmentally  relevant  locations  in  the  year  under  review',\n    'Scope 1',\n    'Scope 1 and 2 emissions  1000 metric tons of CO2 equivalent'}],\n  'table_values': []},\n {'page_number': 28,\n  'short_text_and_number': [],\n  'text_for_word2vec': [{'Lighthouse project for responsible   CO2 offsetting',\n    'SGRE plans to engage more with key suppliers to en- courage them to reduce their Scope 1 and Scope 2  emissions related to products and services they supply  to SGRE'}],\n  'table_values': []},\n {'page_number': 76,\n  'short_text_and_number': [],\n  'text_for_word2vec': [{' The  total scope 1 and 2 emissions amounted to  292,000 metric tons of CO2 equivalents',\n    'In 2020, we initiated a Carbon Reduction @  Suppliers pilot project, cooperating with an  external service provider to develop an eco- nomic model that identifies the CO2 footprint  of all suppliers',\n    'In fiscal year 2020 we achieved to reduce our  scope 1 and 2 emissions by around one third or  148,000 metric tons of CO2 equivalents'},\n   {'  We report direct greenhouse gas emissions  (Scope 1) and indirect greenhouse gas  emissions (Scope 2)',\n    ' The  total scope 1 and 2 emissions amounted to  292,000 metric tons of CO2 equivalents',\n    'In 2020, we initiated a Carbon Reduction @  Suppliers pilot project, cooperating with an  external service provider to develop an eco- nomic model that identifies the CO2 footprint  of all suppliers',\n    'In fiscal year 2020 we achieved to reduce our  scope 1 and 2 emissions by around one third or  148,000 metric tons of CO2 equivalents'}],\n  'table_values': []}]"
     },
     "execution_count": 4,
     "metadata": {},
     "output_type": "execute_result"
    }
   ],
   "source": [
    "miner = PDFMiner(path=path)\n",
    "res = miner.find_word_3(keywords=['Scope 1', 'scope 1'], search_word_list=['Scope 1', 'CO2', 'CO₂', 'CO₂e', 'tons'], neighbour_tolerance=1.00, table_tolerance=4.00)\n",
    "res"
   ],
   "metadata": {
    "collapsed": false,
    "pycharm": {
     "name": "#%%\n"
    }
   }
  }
 ],
 "metadata": {
  "kernelspec": {
   "display_name": "Python 3",
   "language": "python",
   "name": "python3"
  },
  "language_info": {
   "codemirror_mode": {
    "name": "ipython",
    "version": 2
   },
   "file_extension": ".py",
   "mimetype": "text/x-python",
   "name": "python",
   "nbconvert_exporter": "python",
   "pygments_lexer": "ipython2",
   "version": "2.7.6"
  }
 },
 "nbformat": 4,
 "nbformat_minor": 0
}