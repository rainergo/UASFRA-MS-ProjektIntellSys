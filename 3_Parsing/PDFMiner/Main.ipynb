{
 "cells": [
  {
   "cell_type": "code",
   "execution_count": 9,
   "metadata": {
    "collapsed": true
   },
   "outputs": [],
   "source": [
    "from PDFMiner import PDFMiner\n",
    "from config import *\n",
    "\n",
    "path = pets_converted_pdf\n",
    "# path = acroform\n",
    "# pages = extract_pages(path)\n",
    "# show_ltitem_hierarchy(pages)"
   ]
  },
  {
   "cell_type": "code",
   "execution_count": 10,
   "outputs": [],
   "source": [
    "# miner = PDFMiner(path=path)\n",
    "# res = miner.find_word(word='scope 1', line_tolerance=0.20)\n",
    "# res\n"
   ],
   "metadata": {
    "collapsed": false,
    "pycharm": {
     "name": "#%%\n"
    }
   }
  },
  {
   "cell_type": "code",
   "execution_count": 11,
   "outputs": [],
   "source": [
    "# miner = PDFMiner(path=path)\n",
    "#\n",
    "# # miner.process_pages()\n",
    "# # miner.extract_text()\n",
    "# res = miner.find_word_2(word='scope', search_word_list=['Scope 1', 'Scope 2', 'Scope 3', 'Scope 1 and 2','CO2', 'CO₂', 'CO₂e'], line_tolerance=0.20)\n",
    "# # res = miner.find_word(word='scope 1', line_tolerance=0.20)\n",
    "# res\n",
    "\n",
    "#miner.resolve_acroforms()"
   ],
   "metadata": {
    "collapsed": false,
    "pycharm": {
     "name": "#%%\n"
    }
   }
  },
  {
   "cell_type": "code",
   "execution_count": 12,
   "outputs": [
    {
     "data": {
      "text/plain": "[{'page_number': 74,\n  'short_text_and_number': set(),\n  'text_for_word2vec': {'-39%  Reduction in absolute CO2e  emissions ( scope 1 &2) vs FY16',\n   '1% reduction  in CO2e FY21 vs FY20 while  growing sales by 7',\n   '6% In market based scope 1 and  scope 2 CO2e emissions vs FY16',\n   'Decoupling growth from  carbon impact FY21 24,953 tonnes CO2e vs  41,178 in FY16, while increasing  sales turnover by 47%',\n   'Reducing our net operational  CO2e emissions  FY21 17,064 tonnes CO2e  market-based vs FY16 41,178'},\n  'table_values': set()},\n {'page_number': 86,\n  'short_text_and_number': {'Scope 1 Scope 2 (location based) Total % change',\n   'Scope 1 and 2 carbon emissions 6 year performance'},\n  'text_for_word2vec': {' In the last 6 years since 2015/16 we have  grown our sales by 47% while reducing our scope 1 and 2   emissions by 39%',\n   ' This means that our scope 1 and 2 carbon  intensity has more than halved',\n   'Normalisation: Intensity has been calculated using Group revenue and location based scope 1 and 2 emissions',\n   'This year we have included anaesthetic gas and fugitive emissions   in our scope 1 reporting and we have re stated FY20',\n   'Tonnes CO2e emissions FY19 FY18  8,431   9,649   17,066   21,584   25,497   31,233  -18% -19%'},\n  'table_values': set()},\n {'page_number': 87,\n  'short_text_and_number': {'Scope 1  Scope 2  Scope 3'},\n  'text_for_word2vec': {'  Diesel used by our haulage fleet which represents 54% of Scope 1  emissions and 20',\n   ' Anaesthetic gas will be a significant  emission source at 26% of scope 1 emissions',\n   ' To enable a year on year comparison, we have also  included anaesthetic gas and fugitive gas emissions in Scope 1 for  FY20',\n   ' •  Independent verification: Our 2020/21 Scope 1,2 and 3 emissions are verified to a limited level of assurance by Ernst and Young LLP using the ISAE3000(revised) and ISAE3410 standards, Please refer to page 52 of the  social value report for their assurance statement',\n   ' •  Normalisation: We have chosen to report gross Scope 1, 2 and 3 emissions tonnes of CO2e per £m revenue as this is a common metric used in corporate greenhouse gas reporting',\n   '1% of total scope 1 and 2 emissions and kWh usage was from outside of the UK',\n   'Due to more robust data collection, this year we have included  anaesthetic gas and fugitive emissions in our scope 1 reporting for  the first time',\n   'Eliminating these scope 1 emissions remains the most significant  challenge we face in terms of achieving our aim of becoming a net  zero emissions business by 2030',\n   'Inclusion of 2,600 tonnes of carbon mitigation  Scope 1 and Scope 2 kWh Normalisation of CO2e to £m revenue',\n   'Our scope 1 emissions were 11,337 and have reduced by 6',\n   'Tonnes CO2e 13,616 6,096 3,022 2,985 1,170 831 665 505 456 304',\n   'Tonnes CO2e emissions 2020/21 (scope 2  location-based) 11,337 13,616 4,697'},\n  'table_values': {'% 45.9% 20.6% 10.2% 10.1% 3.9% 2.8% 2.2% 1.7% 1.5% 1.0%',\n   '14,464',\n   '17,064',\n   '2019/20(scope 2  location-based) 12,085 15,133 5,394',\n   '2020/21 (scope 2  market-based) 11,337 1,030 4,697',\n   '27,051 90,422,984 25.96',\n   '29,651',\n   '32,612',\n   '85',\n   '94,638,109  30.82',\n   'Annual Report and Accounts 2021',\n   'Carbon emissions breakdown by source 2020/21',\n   'Carbon emissions summary by Scope 2020/21',\n   'Electricity  Diesel (core fleet) Diesel (3rd party) Anaesthetic gas Electricity T&D losses Fugitive gas Gas Business Travel (3rd party) Business Travel (company fleet) Red Diesel',\n   'F i n a n c i a l   s t a t e m e n t s',\n   'G o v e r n a n c e   r e p o r t',\n   'Inclusion of 2,600 tonnes of carbon mitigation  Scope 1 and Scope 2 kWh Normalisation of CO2e to £m revenue',\n   'Pets at Home Group Plc',\n   'S t r a t e g i c   r e p o r t',\n   'Scope 1  Scope 2  Scope 3',\n   'Scope 2 1 3 1 3 1 1 3 1 1',\n   'Tonnes CO2e 13,616 6,096 3,022 2,985 1,170 831 665 505 456 304',\n   'Tonnes CO2e emissions 2020/21 (scope 2  location-based) 11,337 13,616 4,697',\n   'Total',\n   '•  Methodology: We have applied UK SECR and WBCSD/WRI Greenhouse Gas Protocol Corporate Standard as our methodology. We have used emission factors from UK Government Conversion Factors and   IEA for international sites. •  Methodology: An operational control approach has been used for the organisational boundary. This is the same as last year 2019/20. •  Additional inclusions: We have included the emissions from our stand-alone vet practices and referral centres. The impact of these is de minimis. •  Exclusions: Only anaesthetics sourced from preferred Pets at Home suppliers has been included in the calculation. •  Exclusions: A small number of train and air journeys were not reported, as no carbon intensity data was available, this is de minimis. •  Estimation: Where this year’s data was not available 1.8% of sites used last year’s consumption data. •  Independent verification: Our 2020/21 Scope 1,2 and 3 emissions are verified to a limited level of assurance by Ernst and Young LLP using the ISAE3000(revised) and ISAE3410 standards, Please refer to page 52 of the  social value report for their assurance statement. •  Normalisation: We have chosen to report gross Scope 1, 2 and 3 emissions tonnes of CO2e per £m revenue as this is a common metric used in corporate greenhouse gas reporting. •  Market-based criteria: Since October 2017 we have procured 100% renewable electricity backed by REGOs and assessed for conformance with GHG Protocol Scope 2 Quality Criteria. An emission factor of zero  has therefore been applied since that date to calculate our Scope 2 market-based figure, whilst a location-based factor was used to calculate Scope 3 emissions from transmission and distribution losses.   A small amount of electricity has been purchased outside of the Group renewable energy contract and this is included in the market based calculation. •  Carbon mitigation: Pets at Home Ltd is donating £65,000 to the Woodland Trust (a company limited by guarantee (Company Number: 1982873 and a registered charity, Charity Number England and Wales: No.  294344, Scotland No. SC038885 whose registered office is at Kempton Way, Grantham, Lincolnshire NG31 6LL) to absorb 2,600 tonnes of carbon dioxide (equivalent to our use of fugitive gas, natural gas in our buildings  and electricity procured outside of the Group renewable contract), through the planting of 11,093 trees, helping with our strategy to reduce our business carbon footprint. •  UK proportions: Pets at Home operations are UK based except for a small office in Hong Kong. Therefore less than 0.1% of total scope 1 and 2 emissions and kWh usage was from outside of the UK.'}},\n {'page_number': 88,\n  'short_text_and_number': set(),\n  'text_for_word2vec': {'  • This year we have committed that by 2030 we will achieve net-zero emissions  operationally (scope 1 & 2) and by 2040 achieve net-zero emissions across our  value chain (scope 3), using a science based initiative approved methodology'},\n  'table_values': set()}]"
     },
     "execution_count": 12,
     "metadata": {},
     "output_type": "execute_result"
    }
   ],
   "source": [
    "miner = PDFMiner(path=path)\n",
    "res = miner.find_word_3(keywords=['Scope 1', 'scope 1'], search_word_list=['Scope 1', 'scope 1', 'CO2', 'CO₂', 'CO₂e', 't CO2', 't CO₂ equivalent'], table_keywords=['2020'],neighbour_tolerance=1.50, table_tolerance=20.00)\n",
    "res"
   ],
   "metadata": {
    "collapsed": false,
    "pycharm": {
     "name": "#%%\n"
    }
   }
  }
 ],
 "metadata": {
  "kernelspec": {
   "display_name": "Python 3",
   "language": "python",
   "name": "python3"
  },
  "language_info": {
   "codemirror_mode": {
    "name": "ipython",
    "version": 2
   },
   "file_extension": ".py",
   "mimetype": "text/x-python",
   "name": "python",
   "nbconvert_exporter": "python",
   "pygments_lexer": "ipython2",
   "version": "2.7.6"
  }
 },
 "nbformat": 4,
 "nbformat_minor": 0
}