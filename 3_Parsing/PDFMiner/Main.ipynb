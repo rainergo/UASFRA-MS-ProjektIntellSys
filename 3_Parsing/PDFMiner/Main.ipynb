{
 "cells": [
  {
   "cell_type": "code",
   "execution_count": 4,
   "metadata": {
    "collapsed": true
   },
   "outputs": [],
   "source": [
    "from PDFMiner import *\n",
    "from config import *\n",
    "\n",
    "path = allianz_pdf\n",
    "# path = acroform\n",
    "# pages = extract_pages(path)\n",
    "# show_ltitem_hierarchy(pages)"
   ]
  },
  {
   "cell_type": "code",
   "execution_count": 5,
   "outputs": [
    {
     "data": {
      "text/plain": "[{'page_number': 41, 'text': {'40 '}},\n {'page_number': 73,\n  'text': {'12.2 ', '15.3 ', '16.1 ', '2018 ', '2019 ', '2020 ', '72 '}},\n {'page_number': 99, 'text': {'98 '}},\n {'page_number': 107, 'text': {'106 ', '2019 ', '2020 '}},\n {'page_number': 118, 'text': set()},\n {'page_number': 124,\n  'text': {'1 ', 't CO₂ t CO₂ t CO₂ t CO₂ t CO₂ t/empl % '}}]"
     },
     "execution_count": 5,
     "metadata": {},
     "output_type": "execute_result"
    }
   ],
   "source": [
    "miner = PDFMiner(path=path)\n",
    "\n",
    "#miner.process_pages()\n",
    "findings = miner.find_word_2(word='Scope 1', search_word_list=['Scope 1', 'Scope 1 and 2','CO2', 'CO₂'], line_tolerance=0.75)\n",
    "findings\n",
    "#miner.extract_text()\n",
    "\n",
    "#miner.resolve_acroforms()"
   ],
   "metadata": {
    "collapsed": false,
    "pycharm": {
     "name": "#%%\n"
    }
   }
  },
  {
   "cell_type": "code",
   "execution_count": 6,
   "outputs": [],
   "source": [
    "# from Test import *\n",
    "#\n",
    "# hand = PDFPositionHandling()\n",
    "# hand.parsepdf(path,0,0)"
   ],
   "metadata": {
    "collapsed": false,
    "pycharm": {
     "name": "#%%\n"
    }
   }
  }
 ],
 "metadata": {
  "kernelspec": {
   "display_name": "Python 3",
   "language": "python",
   "name": "python3"
  },
  "language_info": {
   "codemirror_mode": {
    "name": "ipython",
    "version": 2
   },
   "file_extension": ".py",
   "mimetype": "text/x-python",
   "name": "python",
   "nbconvert_exporter": "python",
   "pygments_lexer": "ipython2",
   "version": "2.7.6"
  }
 },
 "nbformat": 4,
 "nbformat_minor": 0
}