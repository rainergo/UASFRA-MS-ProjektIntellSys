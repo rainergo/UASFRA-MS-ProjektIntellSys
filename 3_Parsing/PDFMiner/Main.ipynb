{
 "cells": [
  {
   "cell_type": "code",
   "execution_count": 1,
   "metadata": {
    "collapsed": true
   },
   "outputs": [],
   "source": [
    "from PDFMiner import PDFMiner\n",
    "from config import *\n",
    "\n",
    "path = ing_converted_pdf\n",
    "# path = acroform\n",
    "# pages = extract_pages(path)\n",
    "# show_ltitem_hierarchy(pages)"
   ]
  },
  {
   "cell_type": "code",
   "execution_count": 2,
   "outputs": [],
   "source": [
    "# miner = PDFMiner(path=path)\n",
    "# res = miner.find_word(word='scope 1', line_tolerance=0.20)\n",
    "# res\n"
   ],
   "metadata": {
    "collapsed": false,
    "pycharm": {
     "name": "#%%\n"
    }
   }
  },
  {
   "cell_type": "code",
   "execution_count": 3,
   "outputs": [],
   "source": [
    "# miner = PDFMiner(path=path)\n",
    "#\n",
    "# # miner.process_pages()\n",
    "# # miner.extract_text()\n",
    "# res = miner.find_word_2(word='scope', search_word_list=['Scope 1', 'Scope 2', 'Scope 3', 'Scope 1 and 2','CO2', 'CO₂', 'CO₂e'], line_tolerance=0.20)\n",
    "# # res = miner.find_word(word='scope 1', line_tolerance=0.20)\n",
    "# res\n",
    "\n",
    "#miner.resolve_acroforms()"
   ],
   "metadata": {
    "collapsed": false,
    "pycharm": {
     "name": "#%%\n"
    }
   }
  },
  {
   "cell_type": "code",
   "execution_count": 4,
   "outputs": [
    {
     "data": {
      "text/plain": "[]"
     },
     "execution_count": 4,
     "metadata": {},
     "output_type": "execute_result"
    }
   ],
   "source": [
    "miner = PDFMiner(path=path)\n",
    "res = miner.find_word_3(keywords=['Scope 1', 'scope 1'], search_word_list=['Scope 1', 'CO2', 'CO₂', 'CO₂e', 't CO2', 't CO₂ equivalent'], neighbour_tolerance=1.50, table_tolerance=20.00)\n",
    "res"
   ],
   "metadata": {
    "collapsed": false,
    "pycharm": {
     "name": "#%%\n"
    }
   }
  }
 ],
 "metadata": {
  "kernelspec": {
   "display_name": "Python 3",
   "language": "python",
   "name": "python3"
  },
  "language_info": {
   "codemirror_mode": {
    "name": "ipython",
    "version": 2
   },
   "file_extension": ".py",
   "mimetype": "text/x-python",
   "name": "python",
   "nbconvert_exporter": "python",
   "pygments_lexer": "ipython2",
   "version": "2.7.6"
  }
 },
 "nbformat": 4,
 "nbformat_minor": 0
}