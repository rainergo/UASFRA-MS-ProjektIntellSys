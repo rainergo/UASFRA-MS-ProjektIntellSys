{
 "cells": [
  {
   "cell_type": "code",
   "execution_count": 9,
   "metadata": {
    "collapsed": true
   },
   "outputs": [
    {
     "data": {
      "text/plain": "[(6, 10)]"
     },
     "execution_count": 9,
     "metadata": {},
     "output_type": "execute_result"
    }
   ],
   "source": [
    "y_tolerant = [(0, 4), (6, 10)]\n",
    "y0 = 7\n",
    "y1 = 8\n",
    "\n",
    "#check = [(tol[0], tol[1]) for tol in y_tolerant for real in y_real if (real[0] >= tol[0] and real[1] <= tol[1])]\n",
    "\n",
    "\n",
    "\n",
    "check = [(y_tol[0], y_tol[1]) for y_tol in y_tolerant if (y0 >= y_tol[0] and y1 <= y_tol[1])]\n",
    "check"
   ]
  }
 ],
 "metadata": {
  "kernelspec": {
   "display_name": "Python 3",
   "language": "python",
   "name": "python3"
  },
  "language_info": {
   "codemirror_mode": {
    "name": "ipython",
    "version": 2
   },
   "file_extension": ".py",
   "mimetype": "text/x-python",
   "name": "python",
   "nbconvert_exporter": "python",
   "pygments_lexer": "ipython2",
   "version": "2.7.6"
  }
 },
 "nbformat": 4,
 "nbformat_minor": 0
}