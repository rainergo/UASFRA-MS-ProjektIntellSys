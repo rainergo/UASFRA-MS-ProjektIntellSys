{
 "cells": [
  {
   "cell_type": "code",
   "execution_count": 2,
   "metadata": {
    "collapsed": true
   },
   "outputs": [
    {
     "data": {
      "text/plain": "[]"
     },
     "execution_count": 2,
     "metadata": {},
     "output_type": "execute_result"
    }
   ],
   "source": [
    "y_tolerant = [(0, 4), (6, 10)]\n",
    "y0 = 7\n",
    "y1 = 8\n",
    "\n",
    "#check = [(tol[0], tol[1]) for tol in y_tolerant for real in y_real if (real[0] >= tol[0] and real[1] <= tol[1])]\n",
    "\n",
    "word = ['Scope 1', 'CO']\n",
    "\n",
    "sent = ['Scope 1 – direct GHG emissions in t CO₂ are 78',\n",
    "        'CO2 emiision aal',\n",
    "        'bbb',\n",
    "        'Ist CO bla']\n",
    "\n",
    "\n",
    "res = [ele for ele in sent for e in word if e in sent]\n",
    "res"
   ]
  },
  {
   "cell_type": "code",
   "execution_count": 3,
   "outputs": [
    {
     "data": {
      "text/plain": "{'234,23 ', 'Das Wort ist haesslich'}"
     },
     "execution_count": 3,
     "metadata": {},
     "output_type": "execute_result"
    }
   ],
   "source": [
    "search_word_list = ['Wort', 'schoen']\n",
    "sentence_list = ['Das Boot ist klar', 'Das Wort ist haesslich', 'Alles klar', '234,23 ', '12 mat 5']\n",
    "\n",
    "l = set([sentence for sentence in sentence_list for word in search_word_list if word in sentence.split()\n",
    "         or sentence.replace('.','',1).replace(',','',1).strip().isnumeric()])\n",
    "l"
   ],
   "metadata": {
    "collapsed": false,
    "pycharm": {
     "name": "#%%\n"
    }
   }
  },
  {
   "cell_type": "code",
   "execution_count": 4,
   "outputs": [
    {
     "data": {
      "text/plain": "{'12 mat 5', '234,23 ', 'Das Wort ist haesslich'}"
     },
     "execution_count": 4,
     "metadata": {},
     "output_type": "execute_result"
    }
   ],
   "source": [
    "ll = set([sentence for sentence in sentence_list for word in search_word_list if word in sentence.split()\n",
    "         or any(char.isdigit() for char in sentence)])\n",
    "ll\n",
    "\n",
    "\n",
    "\n",
    "# f = satz if (suche in satz.split())\n",
    "# f\n",
    "\n",
    "# if suche in satz.split():\n",
    "#     print(satz)"
   ],
   "metadata": {
    "collapsed": false,
    "pycharm": {
     "name": "#%%\n"
    }
   }
  },
  {
   "cell_type": "code",
   "execution_count": 5,
   "outputs": [],
   "source": [
    "# ist = ['277 288', '288', 'hallo']\n",
    "# #ist[0].strip().isdigit()\n",
    "#\n",
    "# any(char.isdigit() for char in inputString)"
   ],
   "metadata": {
    "collapsed": false,
    "pycharm": {
     "name": "#%%\n"
    }
   }
  },
  {
   "cell_type": "code",
   "execution_count": 6,
   "outputs": [
    {
     "data": {
      "text/plain": "(3, 4)"
     },
     "execution_count": 6,
     "metadata": {},
     "output_type": "execute_result"
    }
   ],
   "source": [
    "t = tuple()\n",
    "t = (1,2)\n",
    "t = (3,4)\n",
    "t"
   ],
   "metadata": {
    "collapsed": false,
    "pycharm": {
     "name": "#%%\n"
    }
   }
  },
  {
   "cell_type": "code",
   "execution_count": 7,
   "outputs": [
    {
     "data": {
      "text/plain": "True"
     },
     "execution_count": 7,
     "metadata": {},
     "output_type": "execute_result"
    }
   ],
   "source": [
    "search_words = ['scope', 'test']\n",
    "text = 'Es ist schwierig zu untersuchen ob scope 1 im text ist'\n",
    "\n",
    "def contains_digit(text):\n",
    "        return any(word.isdigit() for word in text)\n",
    "\n",
    "\n",
    "contains_digit(text)"
   ],
   "metadata": {
    "collapsed": false,
    "pycharm": {
     "name": "#%%\n"
    }
   }
  },
  {
   "cell_type": "code",
   "execution_count": 8,
   "outputs": [],
   "source": [
    "dic = {'a':[], 'b': None}\n",
    "\n",
    "if dic.values() is None:\n",
    "        print('yes')"
   ],
   "metadata": {
    "collapsed": false,
    "pycharm": {
     "name": "#%%\n"
    }
   }
  },
  {
   "cell_type": "code",
   "execution_count": 9,
   "outputs": [
    {
     "name": "stdout",
     "output_type": "stream",
     "text": [
      "eins:  11\n",
      "zwei:  11\n",
      "zwei:  12\n",
      "zwei:  13\n",
      "zwei:  14\n",
      "zwei:  15\n",
      "eins:  12\n",
      "zwei:  11\n",
      "zwei:  12\n",
      "zwei:  13\n",
      "zwei:  14\n",
      "zwei:  15\n",
      "eins:  21\n",
      "zwei:  21\n",
      "zwei:  22\n",
      "zwei:  23\n",
      "zwei:  24\n",
      "zwei:  25\n",
      "eins:  22\n",
      "zwei:  21\n",
      "zwei:  22\n",
      "zwei:  23\n",
      "zwei:  24\n",
      "zwei:  25\n",
      "eins:  31\n",
      "zwei:  31\n",
      "zwei:  32\n",
      "zwei:  33\n",
      "zwei:  34\n",
      "zwei:  35\n",
      "eins:  32\n",
      "zwei:  31\n",
      "zwei:  32\n",
      "zwei:  33\n",
      "zwei:  34\n",
      "zwei:  35\n"
     ]
    }
   ],
   "source": [
    "\n",
    "ls1 = [11,12,13,14,15]\n",
    "ls2 = [21,22,23,24,25]\n",
    "ls3 = [31,32,33,34,35]\n",
    "ls = [ls1, ls2, ls3]\n",
    "\n",
    "for liste in ls:\n",
    "        for i in range(0,2):\n",
    "                print('eins: ', liste[i])\n",
    "                for j in range(0,5):\n",
    "                        print('zwei: ', liste[j])\n"
   ],
   "metadata": {
    "collapsed": false,
    "pycharm": {
     "name": "#%%\n"
    }
   }
  },
  {
   "cell_type": "code",
   "execution_count": 10,
   "outputs": [
    {
     "data": {
      "text/plain": "['Das Boot ist klar',\n ' Das Wort ist haesslich',\n ' Alles klar',\n ' 234,23',\n ' 12 mat 5']"
     },
     "execution_count": 10,
     "metadata": {},
     "output_type": "execute_result"
    }
   ],
   "source": [
    "import re\n",
    "search_word_list = ['Wort', 'schoen']\n",
    "sentence_list = 'Das Boot ist klar. Das Wort ist haesslich. Alles klar. 234,23. 12 mat 5'\n",
    "\n",
    "lll = sentence_list.split('.')\n",
    "lll"
   ],
   "metadata": {
    "collapsed": false,
    "pycharm": {
     "name": "#%%\n"
    }
   }
  },
  {
   "cell_type": "code",
   "execution_count": 11,
   "outputs": [
    {
     "data": {
      "text/plain": "{' Das Wort ist haesslich'}"
     },
     "execution_count": 11,
     "metadata": {},
     "output_type": "execute_result"
    }
   ],
   "source": [
    "l = set([sentence for sentence in sentence_list.split('.') for word in search_word_list if word in sentence])\n",
    "l"
   ],
   "metadata": {
    "collapsed": false,
    "pycharm": {
     "name": "#%%\n"
    }
   }
  },
  {
   "cell_type": "code",
   "execution_count": 1,
   "outputs": [
    {
     "data": {
      "text/plain": "{1, 2}"
     },
     "execution_count": 1,
     "metadata": {},
     "output_type": "execute_result"
    }
   ],
   "source": [
    "s1 = set()\n",
    "s1.add(1)\n",
    "s1.add(2)\n",
    "s1"
   ],
   "metadata": {
    "collapsed": false,
    "pycharm": {
     "name": "#%%\n"
    }
   }
  },
  {
   "cell_type": "code",
   "execution_count": 1,
   "outputs": [
    {
     "data": {
      "text/plain": "False"
     },
     "execution_count": 1,
     "metadata": {},
     "output_type": "execute_result"
    }
   ],
   "source": [
    "def test():\n",
    "        return True and False\n",
    "\n",
    "test()"
   ],
   "metadata": {
    "collapsed": false,
    "pycharm": {
     "name": "#%%\n"
    }
   }
  }
 ],
 "metadata": {
  "kernelspec": {
   "display_name": "Python 3",
   "language": "python",
   "name": "python3"
  },
  "language_info": {
   "codemirror_mode": {
    "name": "ipython",
    "version": 2
   },
   "file_extension": ".py",
   "mimetype": "text/x-python",
   "name": "python",
   "nbconvert_exporter": "python",
   "pygments_lexer": "ipython2",
   "version": "2.7.6"
  }
 },
 "nbformat": 4,
 "nbformat_minor": 0
}