{
 "cells": [
  {
   "cell_type": "code",
   "execution_count": 29,
   "metadata": {
    "collapsed": true
   },
   "outputs": [],
   "source": [
    "# y_tolerant = [(0, 4), (6, 10)]\n",
    "# y0 = 7\n",
    "# y1 = 8\n",
    "#\n",
    "# #check = [(tol[0], tol[1]) for tol in y_tolerant for real in y_real if (real[0] >= tol[0] and real[1] <= tol[1])]\n",
    "#\n",
    "# word = ['Scope 1', 'CO']\n",
    "#\n",
    "# sent = 'on Scope 1 and 2 emissions. By 2025, we aim for at least 50'\n",
    "#\n",
    "# res = any(w in sent for w in word)\n",
    "# res\n",
    "#\n",
    "# # res = [ele for ele in sent for e in word if e in sent]\n",
    "# # res"
   ]
  },
  {
   "cell_type": "code",
   "execution_count": 30,
   "outputs": [],
   "source": [
    "# search_word_list = ['Wort', 'schoen']\n",
    "# sentence_list = ['Das Boot ist klar', 'Das Wort ist haesslich', 'Alles klar', '234,23 ', '12 mat 5']\n",
    "#\n",
    "# l = set([sentence for sentence in sentence_list for word in search_word_list if word in sentence.split()\n",
    "#          or sentence.replace('.','',1).replace(',','',1).strip().isnumeric()])\n",
    "# l"
   ],
   "metadata": {
    "collapsed": false,
    "pycharm": {
     "name": "#%%\n"
    }
   }
  },
  {
   "cell_type": "code",
   "execution_count": 31,
   "outputs": [],
   "source": [
    "# ll = set([sentence for sentence in sentence_list for word in search_word_list if word in sentence.split()\n",
    "#          or any(char.isdigit() for char in sentence)])\n",
    "# ll\n",
    "\n",
    "\n",
    "\n",
    "# f = satz if (suche in satz.split())\n",
    "# f\n",
    "\n",
    "# if suche in satz.split():\n",
    "#     print(satz)"
   ],
   "metadata": {
    "collapsed": false,
    "pycharm": {
     "name": "#%%\n"
    }
   }
  },
  {
   "cell_type": "code",
   "execution_count": 32,
   "outputs": [],
   "source": [
    "# ist = ['277 288', '288', 'hallo']\n",
    "# #ist[0].strip().isdigit()\n",
    "#\n",
    "# any(char.isdigit() for char in inputString)"
   ],
   "metadata": {
    "collapsed": false,
    "pycharm": {
     "name": "#%%\n"
    }
   }
  },
  {
   "cell_type": "code",
   "execution_count": 33,
   "outputs": [],
   "source": [
    "# t = tuple()\n",
    "# t = (1,2)\n",
    "# t = (3,4)\n",
    "# t"
   ],
   "metadata": {
    "collapsed": false,
    "pycharm": {
     "name": "#%%\n"
    }
   }
  },
  {
   "cell_type": "code",
   "execution_count": 34,
   "outputs": [],
   "source": [
    "# search_words = ['scope', 'test']\n",
    "# text = 'Es ist schwierig zu untersuchen ob scope 1 im text ist'\n",
    "#\n",
    "# def contains_digit(text):\n",
    "#         return any(word.isdigit() for word in text)\n",
    "#\n",
    "#\n",
    "# contains_digit(text)"
   ],
   "metadata": {
    "collapsed": false,
    "pycharm": {
     "name": "#%%\n"
    }
   }
  },
  {
   "cell_type": "code",
   "execution_count": 35,
   "outputs": [],
   "source": [
    "# dic = {'a':[], 'b': None}\n",
    "#\n",
    "# if dic.values() is None:\n",
    "#         print('yes')"
   ],
   "metadata": {
    "collapsed": false,
    "pycharm": {
     "name": "#%%\n"
    }
   }
  },
  {
   "cell_type": "code",
   "execution_count": 36,
   "outputs": [],
   "source": [
    "\n",
    "# ls1 = [11,12,13,14,15]\n",
    "# ls2 = [21,22,23,24,25]\n",
    "# ls3 = [31,32,33,34,35]\n",
    "# ls = [ls1, ls2, ls3]\n",
    "#\n",
    "# for liste in ls:\n",
    "#         for i in range(0,2):\n",
    "#                 print('eins: ', liste[i])\n",
    "#                 for j in range(0,5):\n",
    "#                         print('zwei: ', liste[j])\n"
   ],
   "metadata": {
    "collapsed": false,
    "pycharm": {
     "name": "#%%\n"
    }
   }
  },
  {
   "cell_type": "code",
   "execution_count": 37,
   "outputs": [],
   "source": [
    "# import re\n",
    "# search_word_list = ['Wort', 'schoen']\n",
    "# sentence_list = 'Das Boot ist klar. Das Wort ist haesslich. Alles klar. 234,23. 12 mat 5'\n",
    "#\n",
    "# lll = sentence_list.split('.')\n",
    "# lll"
   ],
   "metadata": {
    "collapsed": false,
    "pycharm": {
     "name": "#%%\n"
    }
   }
  },
  {
   "cell_type": "code",
   "execution_count": 38,
   "outputs": [],
   "source": [
    "# l = set([sentence for sentence in sentence_list.split('.') for word in search_word_list if word in sentence])\n",
    "# l"
   ],
   "metadata": {
    "collapsed": false,
    "pycharm": {
     "name": "#%%\n"
    }
   }
  },
  {
   "cell_type": "code",
   "execution_count": 39,
   "outputs": [],
   "source": [
    "# s1 = set()\n",
    "# s1.add(1)\n",
    "# s1.add(2)\n",
    "# s1"
   ],
   "metadata": {
    "collapsed": false,
    "pycharm": {
     "name": "#%%\n"
    }
   }
  },
  {
   "cell_type": "code",
   "execution_count": 40,
   "outputs": [],
   "source": [
    "# def test():\n",
    "#         return True and False\n",
    "#\n",
    "# test()"
   ],
   "metadata": {
    "collapsed": false,
    "pycharm": {
     "name": "#%%\n"
    }
   }
  },
  {
   "cell_type": "code",
   "execution_count": 41,
   "outputs": [
    {
     "name": "stdout",
     "output_type": "stream",
     "text": [
      "[]\n"
     ]
    },
    {
     "data": {
      "text/plain": "False"
     },
     "execution_count": 41,
     "metadata": {},
     "output_type": "execute_result"
    }
   ],
   "source": [
    "search_word_list = ['Scope 1']\n",
    "sentence = 'Das Boot ist klar. Das Wort ist haesslich Alles klar ist drin Scope 1'\n",
    "\n",
    "l = [word for word in search_word_list if word in sentence]\n",
    "print(l)\n",
    "any(word in sentence for word in search_word_list)"
   ],
   "metadata": {
    "collapsed": false,
    "pycharm": {
     "name": "#%%\n"
    }
   }
  },
  {
   "cell_type": "code",
   "execution_count": 42,
   "outputs": [],
   "source": [
    "# search_word_list = ['Scope 1']\n",
    "# sentence = ['a', 'b', 'S', 'c', 'o', 'p', 'e', ' ', '1', 'r']\n",
    "#\n",
    "# l = [word for word in search_word_list if word in sentence]\n",
    "# print(l)\n",
    "# any(word in sentence for word in search_word_list)\n"
   ],
   "metadata": {
    "collapsed": false,
    "pycharm": {
     "name": "#%%\n"
    }
   }
  }
 ],
 "metadata": {
  "kernelspec": {
   "display_name": "Python 3",
   "language": "python",
   "name": "python3"
  },
  "language_info": {
   "codemirror_mode": {
    "name": "ipython",
    "version": 2
   },
   "file_extension": ".py",
   "mimetype": "text/x-python",
   "name": "python",
   "nbconvert_exporter": "python",
   "pygments_lexer": "ipython2",
   "version": "2.7.6"
  }
 },
 "nbformat": 4,
 "nbformat_minor": 0
}