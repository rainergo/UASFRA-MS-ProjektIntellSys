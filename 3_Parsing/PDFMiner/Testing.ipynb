{
 "cells": [
  {
   "cell_type": "code",
   "execution_count": 117,
   "metadata": {
    "collapsed": true
   },
   "outputs": [
    {
     "data": {
      "text/plain": "[]"
     },
     "execution_count": 117,
     "metadata": {},
     "output_type": "execute_result"
    }
   ],
   "source": [
    "y_tolerant = [(0, 4), (6, 10)]\n",
    "y0 = 7\n",
    "y1 = 8\n",
    "\n",
    "#check = [(tol[0], tol[1]) for tol in y_tolerant for real in y_real if (real[0] >= tol[0] and real[1] <= tol[1])]\n",
    "\n",
    "word = ['Scope 1', 'CO']\n",
    "\n",
    "sent = ['Scope 1 – direct GHG emissions in t CO₂ are 78',\n",
    "        'CO2 emiision aal',\n",
    "        'bbb',\n",
    "        'Ist CO bla']\n",
    "\n",
    "\n",
    "res = [ele for ele in sent for e in word if e in sent]\n",
    "res"
   ]
  },
  {
   "cell_type": "code",
   "execution_count": 118,
   "outputs": [
    {
     "data": {
      "text/plain": "{'234,23 ', 'Das Wort ist haesslich', 'Das Wort ist schoen'}"
     },
     "execution_count": 118,
     "metadata": {},
     "output_type": "execute_result"
    }
   ],
   "source": [
    "search_word_list = ['Wort', 'schoen']\n",
    "sentence_list = ['Das Wort ist schoen', 'Das Wort ist haesslich', 'Alles klar', '234,23 ']\n",
    "\n",
    "l = set([sentence for sentence in sentence_list for word in search_word_list if word in sentence.split() or sentence.replace('.','',1).replace(',','',1).strip().isnumeric()])\n",
    "l\n",
    "\n",
    "\n",
    "# f = satz if (suche in satz.split())\n",
    "# f\n",
    "\n",
    "# if suche in satz.split():\n",
    "#     print(satz)"
   ],
   "metadata": {
    "collapsed": false,
    "pycharm": {
     "name": "#%%\n"
    }
   }
  },
  {
   "cell_type": "code",
   "execution_count": 119,
   "outputs": [
    {
     "data": {
      "text/plain": "True"
     },
     "execution_count": 119,
     "metadata": {},
     "output_type": "execute_result"
    }
   ],
   "source": [
    "ist = ['277 ', '288', 'hallo']\n",
    "ist[0].strip().isdigit()"
   ],
   "metadata": {
    "collapsed": false,
    "pycharm": {
     "name": "#%%\n"
    }
   }
  }
 ],
 "metadata": {
  "kernelspec": {
   "display_name": "Python 3",
   "language": "python",
   "name": "python3"
  },
  "language_info": {
   "codemirror_mode": {
    "name": "ipython",
    "version": 2
   },
   "file_extension": ".py",
   "mimetype": "text/x-python",
   "name": "python",
   "nbconvert_exporter": "python",
   "pygments_lexer": "ipython2",
   "version": "2.7.6"
  }
 },
 "nbformat": 4,
 "nbformat_minor": 0
}