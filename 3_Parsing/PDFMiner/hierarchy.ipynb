{
 "cells": [
  {
   "cell_type": "code",
   "execution_count": null,
   "metadata": {
    "collapsed": true
   },
   "outputs": [],
   "source": [
    "from pathlib import Path\n",
    "from typing import Iterable, Any\n",
    "\n",
    "from pdfminer.high_level import extract_pages\n",
    "\n",
    "\n",
    "def show_ltitem_hierarchy(o: Any, depth=0):\n",
    "    \"\"\"Show location and text of LTItem and all its descendants\"\"\"\n",
    "    if depth == 0:\n",
    "        print('element                        x1  y1  x2  y2   text')\n",
    "        print('------------------------------ --- --- --- ---- -----')\n",
    "\n",
    "    print(\n",
    "        f'{get_indented_name(o, depth):<30.30s} '\n",
    "        f'{get_optional_bbox(o)} '\n",
    "        f'{get_optional_text(o)}'\n",
    "    )\n",
    "\n",
    "    if isinstance(o, Iterable):\n",
    "        for i in o:\n",
    "            show_ltitem_hierarchy(i, depth=depth + 1)\n",
    "\n",
    "\n",
    "def get_indented_name(o: Any, depth: int) -> str:\n",
    "    \"\"\"Indented name of LTItem\"\"\"\n",
    "    return '  ' * depth + o.__class__.__name__\n",
    "\n",
    "\n",
    "def get_optional_bbox(o: Any) -> str:\n",
    "    \"\"\"Bounding box of LTItem if available, otherwise empty string\"\"\"\n",
    "    if hasattr(o, 'bbox'):\n",
    "        return ''.join(f'{i:<4.0f}' for i in o.bbox)\n",
    "    return ''\n",
    "\n",
    "\n",
    "def get_optional_text(o: Any) -> str:\n",
    "    \"\"\"Text of LTItem if available, otherwise empty string\"\"\"\n",
    "    if hasattr(o, 'get_text'):\n",
    "        return o.get_text().strip()\n",
    "    return ''\n",
    "\n",
    "\n",
    "from config import *\n",
    "\n",
    "#path = siemens_pdf\n",
    "path = gns_pdf\n",
    "\n"
   ]
  }
 ],
 "metadata": {
  "kernelspec": {
   "display_name": "Python 3",
   "language": "python",
   "name": "python3"
  },
  "language_info": {
   "codemirror_mode": {
    "name": "ipython",
    "version": 2
   },
   "file_extension": ".py",
   "mimetype": "text/x-python",
   "name": "python",
   "nbconvert_exporter": "python",
   "pygments_lexer": "ipython2",
   "version": "2.7.6"
  }
 },
 "nbformat": 4,
 "nbformat_minor": 0
}