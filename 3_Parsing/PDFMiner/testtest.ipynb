{
 "cells": [
  {
   "cell_type": "code",
   "execution_count": 4,
   "metadata": {
    "collapsed": true,
    "pycharm": {
     "name": "#%%\n"
    }
   },
   "outputs": [
    {
     "data": {
      "text/plain": "{'Type': /'Catalog', 'Pages': <PDFObjRef:1678>}"
     },
     "execution_count": 4,
     "metadata": {},
     "output_type": "execute_result"
    }
   ],
   "source": [
    "from pdfminer.pdfparser import PDFParser\n",
    "from pdfminer.pdfdocument import PDFDocument\n",
    "\n",
    "# Open a PDF document.\n",
    "fp = open('../PDFMiner/pdfs/GNSOriginal.pdf', 'rb')\n",
    "# fp = open('../PDFMiner/pdfs/GNSConverted.pdf', 'rb')\n",
    "# fp = open('../../1_Reports/Sample_Reports/output.pdf', 'rb')\n",
    "\n",
    "\n",
    "\n",
    "parser = PDFParser(fp)\n",
    "pw = ''\n",
    "\n",
    "document = PDFDocument(parser=parser, password=pw)\n",
    "document.catalog\n",
    "\n",
    "# # Get the outlines of the document.\n",
    "# outlines = document.get_outlines()\n",
    "# for (level,title,dest,a,se) in outlines:\n",
    "#     print (level, title)"
   ]
  },
  {
   "cell_type": "code",
   "execution_count": 8,
   "outputs": [
    {
     "data": {
      "text/plain": "{'Type': /'Catalog', 'Pages': <PDFObjRef:1678>}"
     },
     "execution_count": 8,
     "metadata": {},
     "output_type": "execute_result"
    }
   ],
   "source": [
    "document.catalog"
   ],
   "metadata": {
    "collapsed": false,
    "pycharm": {
     "name": "#%%\n"
    }
   }
  },
  {
   "cell_type": "code",
   "execution_count": null,
   "outputs": [],
   "source": [
    "from Test import parsepdf(self, filename, startpage, endpage)"
   ],
   "metadata": {
    "collapsed": false,
    "pycharm": {
     "name": "#%%\n"
    }
   }
  }
 ],
 "metadata": {
  "kernelspec": {
   "display_name": "Python 3",
   "language": "python",
   "name": "python3"
  },
  "language_info": {
   "codemirror_mode": {
    "name": "ipython",
    "version": 2
   },
   "file_extension": ".py",
   "mimetype": "text/x-python",
   "name": "python",
   "nbconvert_exporter": "python",
   "pygments_lexer": "ipython2",
   "version": "2.7.6"
  }
 },
 "nbformat": 4,
 "nbformat_minor": 0
}