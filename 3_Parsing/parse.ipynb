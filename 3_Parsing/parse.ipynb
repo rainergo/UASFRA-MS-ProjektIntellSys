{
 "cells": [
  {
   "cell_type": "code",
   "execution_count": 30,
   "metadata": {
    "collapsed": true,
    "pycharm": {
     "name": "#%%\n"
    }
   },
   "outputs": [],
   "source": [
    "from Functions import *\n",
    "import pdfplumber\n",
    "import re"
   ]
  },
  {
   "cell_type": "code",
   "execution_count": 31,
   "outputs": [],
   "source": [
    "from config import *\n",
    "path = siemens_page_23"
   ],
   "metadata": {
    "collapsed": false,
    "pycharm": {
     "name": "#%%\n"
    }
   }
  },
  {
   "cell_type": "code",
   "execution_count": 41,
   "outputs": [
    {
     "data": {
      "text/plain": "779"
     },
     "execution_count": 41,
     "metadata": {},
     "output_type": "execute_result"
    }
   ],
   "source": [
    "search_terms = ['Scope 1', 'Scope 2']\n",
    "replacements = {'\\n':' ', '  ':' '}\n",
    "\n",
    "match_sentences = list()\n",
    "\n",
    "pages = get_pdftotext_pages(path)\n",
    "text = pages[0]\n",
    "\n",
    "#text.find('How does Siemens Energy')\n",
    "#print(\"\\n\\n\".join(pages))\n",
    "\n",
    "\n",
    "# for page_number, page in enumerate(pages):\n",
    "#     text = get_pdftotext_page_text(page)\n",
    "#     if text is not None:\n",
    "#         print('text:', text)\n",
    "#         print('-----------------------------------')\n",
    "#         text_cleaned = replace_substrings_in_string(replacements, text)\n",
    "#         print('text_cleaned:', text_cleaned)\n",
    "#         sentences_marks = split_text_into_sentences_separate_by_marks(text_cleaned)\n",
    "#         print('sentences_marks:', sentences_marks)\n",
    "#         sentences_newline = split_text_into_sentences_separate_by_new_line(text)\n",
    "#         for sentence_mark in sentences_marks:\n",
    "#             if contains_word(search_terms, sentence_mark):\n",
    "#                 match_sentences.append({'Document': path, 'Page': page_number, 'Sentence': sentence_mark.strip(), 'Method': 'Marks'})\n",
    "#         for sentence_newline in sentences_newline:\n",
    "#             if contains_word(search_terms, sentence_newline):\n",
    "#                 match_sentences.append({'Document': path, 'Page': page_number, 'Sentence': sentence_newline.strip(), 'Method': 'New_Line'})"
   ],
   "metadata": {
    "collapsed": false,
    "pycharm": {
     "name": "#%%\n"
    }
   }
  },
  {
   "cell_type": "code",
   "execution_count": 33,
   "outputs": [],
   "source": [
    "# text = 0\n",
    "#\n",
    "# for page in pages:\n",
    "#     text = get_pdfplumber_page_text(page)\n",
    "#\n",
    "# text\n",
    "# text_cleaned = replace_substrings_in_string(replacements, text)\n",
    "# sentences_newline = split_text_into_sentences_separate_by_new_line(text)\n",
    "# sentences_newline"
   ],
   "metadata": {
    "collapsed": false,
    "pycharm": {
     "name": "#%%\n"
    }
   }
  },
  {
   "cell_type": "code",
   "execution_count": 34,
   "outputs": [
    {
     "data": {
      "text/plain": "[]"
     },
     "execution_count": 34,
     "metadata": {},
     "output_type": "execute_result"
    }
   ],
   "source": [
    "match_sentences"
   ],
   "metadata": {
    "collapsed": false,
    "pycharm": {
     "name": "#%%\n"
    }
   }
  }
 ],
 "metadata": {
  "kernelspec": {
   "display_name": "Python 3",
   "language": "python",
   "name": "python3"
  },
  "language_info": {
   "codemirror_mode": {
    "name": "ipython",
    "version": 2
   },
   "file_extension": ".py",
   "mimetype": "text/x-python",
   "name": "python",
   "nbconvert_exporter": "python",
   "pygments_lexer": "ipython2",
   "version": "2.7.6"
  }
 },
 "nbformat": 4,
 "nbformat_minor": 0
}