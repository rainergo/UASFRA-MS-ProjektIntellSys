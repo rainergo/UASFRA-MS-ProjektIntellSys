{
 "cells": [
  {
   "cell_type": "code",
   "execution_count": 20,
   "outputs": [
    {
     "name": "stdout",
     "output_type": "stream",
     "text": [
      "{'/Creator': 'Factset Research Systems, Inc.', '/CreationDate': \"D:20211029061504-04'00'\", '/Producer': 'PDFlib+PDI 9.0.6 (Perl 5.22.0/Linux-x86_64)'}\n"
     ]
    }
   ],
   "source": [
    "from PyPDF2 import PdfFileReader, PdfFileWriter\n",
    "\n",
    "stream = open('../PyPDF2/pdfs/GNSOriginal.pdf', 'rb')\n",
    "reader = PdfFileReader(stream)\n",
    "writer = PdfFileWriter()\n",
    "\n",
    "writer.appendPagesFromReader(reader)\n",
    "metadata = reader.getDocumentInfo()\n",
    "print(metadata)\n",
    "\n",
    "writer.addMetadata(metadata)\n",
    "\n",
    "file_out = open('../../1_Reports/Sample_Reports/output.pdf', 'wb')\n",
    "writer.write(file_out)\n",
    "\n",
    "stream.close()\n",
    "file_out.close()"
   ],
   "metadata": {
    "collapsed": false,
    "pycharm": {
     "name": "#%%\n"
    }
   }
  },
  {
   "cell_type": "code",
   "execution_count": 21,
   "outputs": [
    {
     "data": {
      "text/plain": "pikepdf.Dictionary(Type=\"/Catalog\")({\n  \"/Pages\": {\n    \"/Count\": 192,\n    \"/Kids\": [ <Pdf.pages.from_objgen(3, 0)>, <Pdf.pages.from_objgen(4, 0)>, <Pdf.pages.from_objgen(5, 0)>, <Pdf.pages.from_objgen(6, 0)>, <Pdf.pages.from_objgen(7, 0)>, <Pdf.pages.from_objgen(8, 0)>, <Pdf.pages.from_objgen(9, 0)>, <Pdf.pages.from_objgen(10, 0)>, <Pdf.pages.from_objgen(11, 0)>, <Pdf.pages.from_objgen(12, 0)>, <Pdf.pages.from_objgen(13, 0)>, <Pdf.pages.from_objgen(14, 0)>, <Pdf.pages.from_objgen(15, 0)>, <Pdf.pages.from_objgen(16, 0)>, <Pdf.pages.from_objgen(17, 0)>, <Pdf.pages.from_objgen(18, 0)>, <Pdf.pages.from_objgen(19, 0)>, <Pdf.pages.from_objgen(20, 0)>, <Pdf.pages.from_objgen(21, 0)>, <Pdf.pages.from_objgen(22, 0)>, <Pdf.pages.from_objgen(23, 0)>, <Pdf.pages.from_objgen(24, 0)>, <Pdf.pages.from_objgen(25, 0)>, <Pdf.pages.from_objgen(26, 0)>, <Pdf.pages.from_objgen(27, 0)>, <Pdf.pages.from_objgen(28, 0)>, <Pdf.pages.from_objgen(29, 0)>, <Pdf.pages.from_objgen(30, 0)>, <Pdf.pages.from_objgen(31, 0)>, <Pdf.pages.from_objgen(32, 0)>, <Pdf.pages.from_objgen(33, 0)>, <Pdf.pages.from_objgen(34, 0)>, <Pdf.pages.from_objgen(35, 0)>, <Pdf.pages.from_objgen(36, 0)>, <Pdf.pages.from_objgen(37, 0)>, <Pdf.pages.from_objgen(38, 0)>, <Pdf.pages.from_objgen(39, 0)>, <Pdf.pages.from_objgen(40, 0)>, <Pdf.pages.from_objgen(41, 0)>, <Pdf.pages.from_objgen(42, 0)>, <Pdf.pages.from_objgen(43, 0)>, <Pdf.pages.from_objgen(44, 0)>, <Pdf.pages.from_objgen(45, 0)>, <Pdf.pages.from_objgen(46, 0)>, <Pdf.pages.from_objgen(47, 0)>, <Pdf.pages.from_objgen(48, 0)>, <Pdf.pages.from_objgen(49, 0)>, <Pdf.pages.from_objgen(50, 0)>, <Pdf.pages.from_objgen(51, 0)>, <Pdf.pages.from_objgen(52, 0)>, <Pdf.pages.from_objgen(53, 0)>, <Pdf.pages.from_objgen(54, 0)>, <Pdf.pages.from_objgen(55, 0)>, <Pdf.pages.from_objgen(56, 0)>, <Pdf.pages.from_objgen(57, 0)>, <Pdf.pages.from_objgen(58, 0)>, <Pdf.pages.from_objgen(59, 0)>, <Pdf.pages.from_objgen(60, 0)>, <Pdf.pages.from_objgen(61, 0)>, <Pdf.pages.from_objgen(62, 0)>, <Pdf.pages.from_objgen(63, 0)>, <Pdf.pages.from_objgen(64, 0)>, <Pdf.pages.from_objgen(65, 0)>, <Pdf.pages.from_objgen(66, 0)>, <Pdf.pages.from_objgen(67, 0)>, <Pdf.pages.from_objgen(68, 0)>, <Pdf.pages.from_objgen(69, 0)>, <Pdf.pages.from_objgen(70, 0)>, <Pdf.pages.from_objgen(71, 0)>, <Pdf.pages.from_objgen(72, 0)>, <Pdf.pages.from_objgen(73, 0)>, <Pdf.pages.from_objgen(74, 0)>, <Pdf.pages.from_objgen(75, 0)>, <Pdf.pages.from_objgen(76, 0)>, <Pdf.pages.from_objgen(77, 0)>, <Pdf.pages.from_objgen(78, 0)>, <Pdf.pages.from_objgen(79, 0)>, <Pdf.pages.from_objgen(80, 0)>, <Pdf.pages.from_objgen(81, 0)>, <Pdf.pages.from_objgen(82, 0)>, <Pdf.pages.from_objgen(83, 0)>, <Pdf.pages.from_objgen(84, 0)>, <Pdf.pages.from_objgen(85, 0)>, <Pdf.pages.from_objgen(86, 0)>, <Pdf.pages.from_objgen(87, 0)>, <Pdf.pages.from_objgen(88, 0)>, <Pdf.pages.from_objgen(89, 0)>, <Pdf.pages.from_objgen(90, 0)>, <Pdf.pages.from_objgen(91, 0)>, <Pdf.pages.from_objgen(92, 0)>, <Pdf.pages.from_objgen(93, 0)>, <Pdf.pages.from_objgen(94, 0)>, <Pdf.pages.from_objgen(95, 0)>, <Pdf.pages.from_objgen(96, 0)>, <Pdf.pages.from_objgen(97, 0)>, <Pdf.pages.from_objgen(98, 0)>, <Pdf.pages.from_objgen(99, 0)>, <Pdf.pages.from_objgen(100, 0)>, <Pdf.pages.from_objgen(101, 0)>, <Pdf.pages.from_objgen(102, 0)>, <Pdf.pages.from_objgen(103, 0)>, <Pdf.pages.from_objgen(104, 0)>, <Pdf.pages.from_objgen(105, 0)>, <Pdf.pages.from_objgen(106, 0)>, <Pdf.pages.from_objgen(107, 0)>, <Pdf.pages.from_objgen(108, 0)>, <Pdf.pages.from_objgen(109, 0)>, <Pdf.pages.from_objgen(110, 0)>, <Pdf.pages.from_objgen(111, 0)>, <Pdf.pages.from_objgen(112, 0)>, <Pdf.pages.from_objgen(113, 0)>, <Pdf.pages.from_objgen(114, 0)>, <Pdf.pages.from_objgen(115, 0)>, <Pdf.pages.from_objgen(116, 0)>, <Pdf.pages.from_objgen(117, 0)>, <Pdf.pages.from_objgen(118, 0)>, <Pdf.pages.from_objgen(119, 0)>, <Pdf.pages.from_objgen(120, 0)>, <Pdf.pages.from_objgen(121, 0)>, <Pdf.pages.from_objgen(122, 0)>, <Pdf.pages.from_objgen(123, 0)>, <Pdf.pages.from_objgen(124, 0)>, <Pdf.pages.from_objgen(125, 0)>, <Pdf.pages.from_objgen(126, 0)>, <Pdf.pages.from_objgen(127, 0)>, <Pdf.pages.from_objgen(128, 0)>, <Pdf.pages.from_objgen(129, 0)>, <Pdf.pages.from_objgen(130, 0)>, <Pdf.pages.from_objgen(131, 0)>, <Pdf.pages.from_objgen(132, 0)>, <Pdf.pages.from_objgen(133, 0)>, <Pdf.pages.from_objgen(134, 0)>, <Pdf.pages.from_objgen(135, 0)>, <Pdf.pages.from_objgen(136, 0)>, <Pdf.pages.from_objgen(137, 0)>, <Pdf.pages.from_objgen(138, 0)>, <Pdf.pages.from_objgen(139, 0)>, <Pdf.pages.from_objgen(140, 0)>, <Pdf.pages.from_objgen(141, 0)>, <Pdf.pages.from_objgen(142, 0)>, <Pdf.pages.from_objgen(143, 0)>, <Pdf.pages.from_objgen(144, 0)>, <Pdf.pages.from_objgen(145, 0)>, <Pdf.pages.from_objgen(146, 0)>, <Pdf.pages.from_objgen(147, 0)>, <Pdf.pages.from_objgen(148, 0)>, <Pdf.pages.from_objgen(149, 0)>, <Pdf.pages.from_objgen(150, 0)>, <Pdf.pages.from_objgen(151, 0)>, <Pdf.pages.from_objgen(152, 0)>, <Pdf.pages.from_objgen(153, 0)>, <Pdf.pages.from_objgen(154, 0)>, <Pdf.pages.from_objgen(155, 0)>, <Pdf.pages.from_objgen(156, 0)>, <Pdf.pages.from_objgen(157, 0)>, <Pdf.pages.from_objgen(158, 0)>, <Pdf.pages.from_objgen(159, 0)>, <Pdf.pages.from_objgen(160, 0)>, <Pdf.pages.from_objgen(161, 0)>, <Pdf.pages.from_objgen(162, 0)>, <Pdf.pages.from_objgen(163, 0)>, <Pdf.pages.from_objgen(164, 0)>, <Pdf.pages.from_objgen(165, 0)>, <Pdf.pages.from_objgen(166, 0)>, <Pdf.pages.from_objgen(167, 0)>, <Pdf.pages.from_objgen(168, 0)>, <Pdf.pages.from_objgen(169, 0)>, <Pdf.pages.from_objgen(170, 0)>, <Pdf.pages.from_objgen(171, 0)>, <Pdf.pages.from_objgen(172, 0)>, <Pdf.pages.from_objgen(173, 0)>, <Pdf.pages.from_objgen(174, 0)>, <Pdf.pages.from_objgen(175, 0)>, <Pdf.pages.from_objgen(176, 0)>, <Pdf.pages.from_objgen(177, 0)>, <Pdf.pages.from_objgen(178, 0)>, <Pdf.pages.from_objgen(179, 0)>, <Pdf.pages.from_objgen(180, 0)>, <Pdf.pages.from_objgen(181, 0)>, <Pdf.pages.from_objgen(182, 0)>, <Pdf.pages.from_objgen(183, 0)>, <Pdf.pages.from_objgen(184, 0)>, <Pdf.pages.from_objgen(185, 0)>, <Pdf.pages.from_objgen(186, 0)>, <Pdf.pages.from_objgen(187, 0)>, <Pdf.pages.from_objgen(188, 0)>, <Pdf.pages.from_objgen(189, 0)>, <Pdf.pages.from_objgen(190, 0)>, <Pdf.pages.from_objgen(191, 0)>, <Pdf.pages.from_objgen(192, 0)>, <Pdf.pages.from_objgen(193, 0)>, <Pdf.pages.from_objgen(194, 0)> ],\n    \"/Type\": \"/Pages\"\n  },\n  \"/Type\": \"/Catalog\"\n})"
     },
     "execution_count": 21,
     "metadata": {},
     "output_type": "execute_result"
    }
   ],
   "source": [
    "from pikepdf import Pdf\n",
    "input_path = '../../1_Reports/Sample_Reports/output.pdf'\n",
    "pdf_output = Pdf.open(input_path)\n",
    "pdf_output.Root"
   ],
   "metadata": {
    "collapsed": false,
    "pycharm": {
     "name": "#%%\n"
    }
   }
  }
 ],
 "metadata": {
  "kernelspec": {
   "display_name": "Python 3",
   "language": "python",
   "name": "python3"
  },
  "language_info": {
   "codemirror_mode": {
    "name": "ipython",
    "version": 2
   },
   "file_extension": ".py",
   "mimetype": "text/x-python",
   "name": "python",
   "nbconvert_exporter": "python",
   "pygments_lexer": "ipython2",
   "version": "2.7.6"
  }
 },
 "nbformat": 4,
 "nbformat_minor": 0
}