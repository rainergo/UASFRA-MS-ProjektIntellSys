{
 "cells": [
  {
   "cell_type": "code",
   "execution_count": 19,
   "metadata": {
    "collapsed": true,
    "pycharm": {
     "name": "#%%\n"
    }
   },
   "outputs": [
    {
     "name": "stdout",
     "output_type": "stream",
     "text": [
      "<LTTextBoxHorizontal(63) 93.307,254.931,292.700,288.437 'Over the reporting period, Siemens Energy collected \\nthe following data regarding the level of scope 1 and \\n2 emissions related to its business activities.\\n'>\n"
     ]
    }
   ],
   "source": [
    "from config import *\n",
    "\n",
    "path = siemens_page_27\n",
    "\n",
    "el_list = list()\n",
    "count = 0\n",
    "\n",
    "from pdfminer.high_level import extract_pages\n",
    "for page_layout in extract_pages(path):\n",
    "    for element in page_layout:\n",
    "        el_list.append(element)\n",
    "        # print(element)\n",
    "        # count += 1\n",
    "        # print(count)\n",
    "\n",
    "# last: 134\n",
    "ltrect = el_list[1]\n",
    "print(el_list[63])\n",
    "\n",
    "\n",
    "\n",
    "# from pdfminer.high_level import extract_pages\n",
    "# from pdfminer.layout import LTTextContainer\n",
    "# for page_layout in extract_pages(path):\n",
    "#     for element in page_layout:\n",
    "#         if isinstance(element, LTTextContainer):\n",
    "#             print(element.get_text())"
   ]
  }
 ],
 "metadata": {
  "kernelspec": {
   "display_name": "Python 3",
   "language": "python",
   "name": "python3"
  },
  "language_info": {
   "codemirror_mode": {
    "name": "ipython",
    "version": 2
   },
   "file_extension": ".py",
   "mimetype": "text/x-python",
   "name": "python",
   "nbconvert_exporter": "python",
   "pygments_lexer": "ipython2",
   "version": "2.7.6"
  }
 },
 "nbformat": 4,
 "nbformat_minor": 0
}