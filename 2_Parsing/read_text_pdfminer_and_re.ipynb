{
 "cells": [
  {
   "cell_type": "code",
   "execution_count": 78,
   "metadata": {
    "collapsed": true
   },
   "outputs": [],
   "source": [
    "import pdfminer"
   ]
  },
  {
   "cell_type": "code",
   "execution_count": 79,
   "outputs": [],
   "source": [
    "from config import *\n",
    "path = siemens_pdf"
   ],
   "metadata": {
    "collapsed": false,
    "pycharm": {
     "name": "#%%\n"
    }
   }
  },
  {
   "cell_type": "code",
   "execution_count": 80,
   "outputs": [],
   "source": [
    "from pdfminer.high_level import extract_text_to_fp\n",
    "from io import StringIO\n",
    "import re\n",
    "\n",
    "out_string = StringIO()\n",
    "with open(path, 'rb') as my_pdf:\n",
    "    extract_text_to_fp(my_pdf, out_string)\n",
    "\n",
    "doc_content = out_string.getvalue()"
   ],
   "metadata": {
    "collapsed": false,
    "pycharm": {
     "name": "#%%\n"
    }
   }
  },
  {
   "cell_type": "code",
   "execution_count": 81,
   "outputs": [
    {
     "name": "stdout",
     "output_type": "stream",
     "text": [
      "Anzahl geparster Sätze: 916\n"
     ]
    }
   ],
   "source": [
    "re1 = r'(?<!\\w\\.\\w.)(?<![A-Z][a-z]\\.)(?<=\\.|\\?)\\s'\n",
    "sentences = re.split(re1, doc_content)\n",
    "print('Anzahl geparster Sätze:', len(sentences))"
   ],
   "metadata": {
    "collapsed": false,
    "pycharm": {
     "name": "#%%\n"
    }
   }
  },
  {
   "cell_type": "code",
   "execution_count": 82,
   "outputs": [],
   "source": [
    "def contains_word(s, w):\n",
    "    return f' {w} ' in f' {s} '\n",
    "\n",
    "sentences_with_scope = list()\n",
    "\n",
    "for sentence in sentences:\n",
    "    if contains_word(sentence.lower(),'scope 1'):\n",
    "        sentences_with_scope.append(sentence)"
   ],
   "metadata": {
    "collapsed": false,
    "pycharm": {
     "name": "#%%\n"
    }
   }
  },
  {
   "cell_type": "code",
   "execution_count": 83,
   "outputs": [
    {
     "data": {
      "text/plain": "['This is mainly related to COVID-19 impacts on our global operations but also related to the implementation of some energy efficiency projects.Primary Energy(1,000 gigajoules)Fiscal year20202019Natural gas/liquid petroleum gas1,9202,377Fuel oil, coal, gasoline/diesel263352Other55Total2,1882,734Secondary Energy(1,000 gigajoules)Fiscal year20202019Electricity2,9023,383Thereof electricity from renewable sources2,2562,007District Heating713843Total3,6154,226Over the reporting period, Siemens Energy collected the following data regarding the level of scope 1 and 2 emissions related to its business activities.Scope 1 (direct) emissionsDirect greenhouse gas emissions arise from sources in the company’s ownership or under its control.Scope 2 (indirect) emissionsIndirect greenhouse gas emissions refer to the consump-tion of purchased electrical energy and district heating.In fiscal year 2020 we achieved to reduce our scope 1 and 2 emissions by around one third or 148,000 metric tons.',\n 'In fiscal year 2020, SGRE voluntarily cancelled Certified  Emission Reductions (CERs) on behalf of the Bii Nee Stipa project where energy could not be reduced or renewables could not be sourced.SGRE plans to engage more with key suppliers to en-courage them to reduce their Scope 1 and Scope 2 emissions related to products and services they supply to SGRE.',\n 'These include a 10% increase in energy efficiency and waste efficiency, as well as a 10% reduction in waste to landfill and a 10% reduction of hazardous waste by 2025.\\ue645 Product stewardship \\ue645 Conservation of resources \\ue645 Decarbonization In fiscal year 2020 we achieved to reduce our scope 1 and 2 emissions by around one third or 148,000 metric tons of CO2 equivalents.',\n 'The total scope 1 and 2 emissions amounted to 292,000 metric tons of CO2 equivalents.']"
     },
     "execution_count": 83,
     "metadata": {},
     "output_type": "execute_result"
    }
   ],
   "source": [
    "sentences_with_scope"
   ],
   "metadata": {
    "collapsed": false,
    "pycharm": {
     "name": "#%%\n"
    }
   }
  }
 ],
 "metadata": {
  "kernelspec": {
   "display_name": "Python 3",
   "language": "python",
   "name": "python3"
  },
  "language_info": {
   "codemirror_mode": {
    "name": "ipython",
    "version": 2
   },
   "file_extension": ".py",
   "mimetype": "text/x-python",
   "name": "python",
   "nbconvert_exporter": "python",
   "pygments_lexer": "ipython2",
   "version": "2.7.6"
  }
 },
 "nbformat": 4,
 "nbformat_minor": 0
}