{
 "cells": [
  {
   "cell_type": "code",
   "execution_count": 6,
   "metadata": {
    "collapsed": true,
    "pycharm": {
     "name": "#%%\n"
    }
   },
   "outputs": [],
   "source": [
    "from Functions import *\n",
    "import pdfplumber\n",
    "import re"
   ]
  },
  {
   "cell_type": "code",
   "execution_count": 7,
   "outputs": [],
   "source": [
    "from config import *\n",
    "path = siemens_page_27"
   ],
   "metadata": {
    "collapsed": false,
    "pycharm": {
     "name": "#%%\n"
    }
   }
  },
  {
   "cell_type": "code",
   "execution_count": 8,
   "outputs": [
    {
     "name": "stdout",
     "output_type": "stream",
     "text": [
      "text: Decarbonizing our business 27\n",
      "Energy consumption and greenhouse  Scope 1 and 2 emissions  FY 2020\n",
      "gas emissions 1000 metric tons of CO equivalent\n",
      "2\n",
      "We monitor energy consumption at our office locations \n",
      "Scope 1 221\n",
      "and manufacturing facilities. It is calculated by adding \n",
      "266\n",
      "the primary and secondary consumption of fuels and \n",
      "electricity and enables us to track the success of our \n",
      "Thereof SF₆  66\n",
      "climate neutral program. emissions\n",
      "73\n",
      "Siemens Energy’s total energy consumption during the  Scope 2 1  71\n",
      "reporting period was 5.8 million gigajoules. Compared  175\n",
      "with fiscal year 2019, this is a reduction of 16.6%. This \n",
      "is mainly related to COVID-19 impacts on our global  Total 292\n",
      "operations but also related to the implementation of  440\n",
      "some energy efficiency projects.\n",
      "FY 2020 FY 2019\n",
      "1   We calculate our emissions resulting from electrical consumption based on carbon \n",
      "Fiscal year emission factors of our local sites according to the market-based approach.\n",
      "Primary Energy\n",
      "(1,000 gigajoules) 2020 2019\n",
      "Natural gas/liquid petroleum gas 1,920 2,377 Atmospheric Pollutant Emissions 20\n",
      "0\n",
      "2\n",
      "Fuel oil, coal, gasoline/diesel 263 352 Other atmospheric pollutant emissions also have  ort \n",
      " negative impacts on the environment. These include  ep\n",
      "R\n",
      "Other 5 5 Volatile Organic Compounds (VOC) and Ozone Depleting  bility \n",
      "Total 2,188 2,734 Substances (ODS). VOC contribute to the formation of  na\n",
      "ai\n",
      "ozone close to the earth’s surface. The types of sub- ust\n",
      "S\n",
      "stances and materials that are in use and contain  ―  \n",
      "Fiscal year  organic compounds include: solvents, paints and     y\n",
      "Secondary Energy g\n",
      "(1,000 gigajoules) 2020 2019  adhesives. ODS are monitored to comply with the  ner\n",
      "E\n",
      " Montreal Protocol, the international convention on the  ns \n",
      "Electricity 2,902 3,383 protection of the ozone layer, as well as with coun- eme\n",
      "Si\n",
      "Thereof electricity from renewable sources 2,256 2,007 try-specific regulation. The volume of emissions from \n",
      "the use of volatile organic compounds during the \n",
      "District Heating 713 843\n",
      " reporting period equates to 434 metric tons. The \n",
      "Total 3,615 4,226\n",
      "volume of emissions from the use of ozone depleting \n",
      "substances during the reporting period equates to \n",
      "Over the reporting period, Siemens Energy collected  0.013 metric tons.\n",
      "the following data regarding the level of scope 1 and \n",
      "2 emissions related to its business activities. In calculating nitrogen oxides, we have assumed typical \n",
      "combustion conditions in the relevant thermal pro-\n",
      "Scope 1 (direct) emissions cesses, resulting in a figure of 74 metric tons for envi-\n",
      "Direct greenhouse gas emissions arise from sources in  ronmentally relevant locations in the year under \n",
      "the company’s ownership or under its control. review. The figure includes nitrogen oxides released \n",
      "during the incineration of fuels reported in the section \n",
      "Scope 2 (indirect) emissions on primary energy.\n",
      "Indirect greenhouse gas emissions refer to the consump-\n",
      "tion of purchased electrical energy and district heating.\n",
      "In fiscal year 2020 we achieved to reduce our scope 1 \n",
      "and 2 emissions by around one third or 148,000 metric \n",
      "tons. The main levers were the increase of renewable \n",
      "electricity share, some energy efficiency projects as \n",
      "well as COVID-19 related impacts on our global oper-\n",
      "ations. \n",
      "-----------------------------------\n",
      "text_cleaned: Decarbonizing our business 27 Energy consumption and greenhouse  Scope 1 and 2 emissions  FY 2020 gas emissions 1000 metric tons of CO equivalent 2 We monitor energy consumption at our office locations  Scope 1 221 and manufacturing facilities. It is calculated by adding  266 the primary and secondary consumption of fuels and  electricity and enables us to track the success of our  Thereof SF₆  66 climate neutral program. emissions 73 Siemens Energy’s total energy consumption during the  Scope 2 1  71 reporting period was 5.8 million gigajoules. Compared  175 with fiscal year 2019, this is a reduction of 16.6%. This  is mainly related to COVID-19 impacts on our global  Total 292 operations but also related to the implementation of  440 some energy efficiency projects. FY 2020 FY 2019 1   We calculate our emissions resulting from electrical consumption based on carbon  Fiscal year emission factors of our local sites according to the market-based approach. Primary Energy (1,000 gigajoules) 2020 2019 Natural gas/liquid petroleum gas 1,920 2,377 Atmospheric Pollutant Emissions 20 0 2 Fuel oil, coal, gasoline/diesel 263 352 Other atmospheric pollutant emissions also have  ort   negative impacts on the environment. These include  ep R Other 5 5 Volatile Organic Compounds (VOC) and Ozone Depleting  bility  Total 2,188 2,734 Substances (ODS). VOC contribute to the formation of  na ai ozone close to the earth’s surface. The types of sub- ust S stances and materials that are in use and contain  ―   Fiscal year  organic compounds include: solvents, paints and     y Secondary Energy g (1,000 gigajoules) 2020 2019  adhesives. ODS are monitored to comply with the  ner E  Montreal Protocol, the international convention on the  ns  Electricity 2,902 3,383 protection of the ozone layer, as well as with coun- eme Si Thereof electricity from renewable sources 2,256 2,007 try-specific regulation. The volume of emissions from  the use of volatile organic compounds during the  District Heating 713 843  reporting period equates to 434 metric tons. The  Total 3,615 4,226 volume of emissions from the use of ozone depleting  substances during the reporting period equates to  Over the reporting period, Siemens Energy collected  0.013 metric tons. the following data regarding the level of scope 1 and  2 emissions related to its business activities. In calculating nitrogen oxides, we have assumed typical  combustion conditions in the relevant thermal pro- Scope 1 (direct) emissions cesses, resulting in a figure of 74 metric tons for envi- Direct greenhouse gas emissions arise from sources in  ronmentally relevant locations in the year under  the company’s ownership or under its control. review. The figure includes nitrogen oxides released  during the incineration of fuels reported in the section  Scope 2 (indirect) emissions on primary energy. Indirect greenhouse gas emissions refer to the consump- tion of purchased electrical energy and district heating. In fiscal year 2020 we achieved to reduce our scope 1  and 2 emissions by around one third or 148,000 metric  tons. The main levers were the increase of renewable  electricity share, some energy efficiency projects as  well as COVID-19 related impacts on our global oper- ations. \n",
      "sentences_marks: []\n"
     ]
    }
   ],
   "source": [
    "search_terms = ['Scope 1', 'Scope 2']\n",
    "replacements = {'\\n\\n':'. ', '\\n':' '}\n",
    "\n",
    "match_sentences = list()\n",
    "\n",
    "pages = get_pdfplumber_pages(path)\n",
    "\n",
    "for page in pages:\n",
    "    text = get_pdfplumber_page_text(page)\n",
    "    if text is not None:\n",
    "        text_cleaned = replace_substrings_in_string(replacements, text)\n",
    "        print('text:', text)\n",
    "        print('-----------------------------------')\n",
    "        print('text_cleaned:', text_cleaned)\n",
    "        sentences_marks = split_text_into_sentences_separate_by_marks(text_cleaned)\n",
    "        print('sentences_marks:', sentences_marks)\n",
    "        sentences_newline = split_text_into_sentences_separate_by_new_line(text)\n",
    "        for sentence_mark in sentences_marks:\n",
    "            if contains_word(search_terms, sentence_mark):\n",
    "                match_sentences.append({'Document': path, 'Page': page.page_number, 'Sentence': sentence_mark.strip(), 'Method': 'Marks'})\n",
    "        for sentence_newline in sentences_newline:\n",
    "            if contains_word(search_terms, sentence_newline):\n",
    "                match_sentences.append({'Document': path, 'Page': page.page_number, 'Sentence': sentence_newline.strip(), 'Method': 'New_Line'})"
   ],
   "metadata": {
    "collapsed": false,
    "pycharm": {
     "name": "#%%\n"
    }
   }
  },
  {
   "cell_type": "code",
   "execution_count": 9,
   "outputs": [],
   "source": [
    "# text = 0\n",
    "#\n",
    "# for page in pages:\n",
    "#     text = get_pdfplumber_page_text(page)\n",
    "#\n",
    "# text\n",
    "# text_cleaned = replace_substrings_in_string(replacements, text)\n",
    "# sentences_newline = split_text_into_sentences_separate_by_new_line(text)\n",
    "# sentences_newline"
   ],
   "metadata": {
    "collapsed": false,
    "pycharm": {
     "name": "#%%\n"
    }
   }
  },
  {
   "cell_type": "code",
   "execution_count": 10,
   "outputs": [
    {
     "data": {
      "text/plain": "[{'Document': '../1_Reports/Sample_Reports/SiemensPage27.pdf',\n  'Page': 1,\n  'Sentence': 'Energy consumption and greenhouse  Scope 1 and 2 emissions  FY 2020',\n  'Method': 'New_Line'},\n {'Document': '../1_Reports/Sample_Reports/SiemensPage27.pdf',\n  'Page': 1,\n  'Sentence': 'Scope 1 221',\n  'Method': 'New_Line'},\n {'Document': '../1_Reports/Sample_Reports/SiemensPage27.pdf',\n  'Page': 1,\n  'Sentence': 'Siemens Energy’s total energy consumption during the  Scope 2 1  71',\n  'Method': 'New_Line'},\n {'Document': '../1_Reports/Sample_Reports/SiemensPage27.pdf',\n  'Page': 1,\n  'Sentence': 'the following data regarding the level of scope 1 and',\n  'Method': 'New_Line'},\n {'Document': '../1_Reports/Sample_Reports/SiemensPage27.pdf',\n  'Page': 1,\n  'Sentence': 'Scope 1 (direct) emissions cesses, resulting in a figure of 74 metric tons for envi-',\n  'Method': 'New_Line'},\n {'Document': '../1_Reports/Sample_Reports/SiemensPage27.pdf',\n  'Page': 1,\n  'Sentence': 'Scope 2 (indirect) emissions on primary energy.',\n  'Method': 'New_Line'},\n {'Document': '../1_Reports/Sample_Reports/SiemensPage27.pdf',\n  'Page': 1,\n  'Sentence': 'In fiscal year 2020 we achieved to reduce our scope 1',\n  'Method': 'New_Line'}]"
     },
     "execution_count": 10,
     "metadata": {},
     "output_type": "execute_result"
    }
   ],
   "source": [
    "match_sentences"
   ],
   "metadata": {
    "collapsed": false,
    "pycharm": {
     "name": "#%%\n"
    }
   }
  }
 ],
 "metadata": {
  "kernelspec": {
   "display_name": "Python 3",
   "language": "python",
   "name": "python3"
  },
  "language_info": {
   "codemirror_mode": {
    "name": "ipython",
    "version": 2
   },
   "file_extension": ".py",
   "mimetype": "text/x-python",
   "name": "python",
   "nbconvert_exporter": "python",
   "pygments_lexer": "ipython2",
   "version": "2.7.6"
  }
 },
 "nbformat": 4,
 "nbformat_minor": 0
}