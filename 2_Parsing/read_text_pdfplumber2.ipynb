{
 "cells": [
  {
   "cell_type": "code",
   "execution_count": 87,
   "metadata": {
    "collapsed": true
   },
   "outputs": [],
   "source": [
    "import pdfplumber\n",
    "import re"
   ]
  },
  {
   "cell_type": "code",
   "execution_count": 88,
   "outputs": [],
   "source": [
    "from config import *\n",
    "path = siemens_pdf\n",
    "page_num = 106"
   ],
   "metadata": {
    "collapsed": false,
    "pycharm": {
     "name": "#%%\n"
    }
   }
  },
  {
   "cell_type": "code",
   "execution_count": 89,
   "outputs": [
    {
     "name": "stdout",
     "output_type": "stream",
     "text": [
      "Metadata: {'CreationDate': 'D:20210505135253Z', 'Creator': 'Adobe InDesign 15.1 (Macintosh)', 'ModDate': 'D:20210518153446Z', 'Producer': 'Adobe PDF Library 15.0', 'Subject': 'Sustainability Report 2020', 'Title': 'Allianz Group Sustainability Report 2020', 'Trapped': 'false'}\n",
      "<class 'list'>\n"
     ]
    }
   ],
   "source": [
    "# Class PDF\n",
    "pdf = pdfplumber.open(path)\n",
    "# Metadata\n",
    "print('Metadata:', pdf.metadata)\n",
    "# All pages in a list containing pdfplumber \"page\" objects\n",
    "print(type(pdf.pages))"
   ],
   "metadata": {
    "collapsed": false,
    "pycharm": {
     "name": "#%%\n"
    }
   }
  },
  {
   "cell_type": "code",
   "execution_count": 90,
   "outputs": [
    {
     "name": "stdout",
     "output_type": "stream",
     "text": [
      "Page number: 107\n",
      "dict_keys(['curve', 'char', 'line'])\n"
     ]
    }
   ],
   "source": [
    "# Class page\n",
    "single_page = pdf.pages[page_num]\n",
    "print('Page number:', single_page.page_number)\n",
    "\n",
    "# All data in dictionaries\n",
    "print(single_page.objects.keys())"
   ],
   "metadata": {
    "collapsed": false,
    "pycharm": {
     "name": "#%%\n"
    }
   }
  },
  {
   "cell_type": "code",
   "execution_count": 91,
   "outputs": [
    {
     "name": "stdout",
     "output_type": "stream",
     "text": [
      "Sustainability Report 2020\n",
      "05.6 Metrics and targets\n",
      "Regional corporate bonds portfolio indicators\n",
      "01\n",
      "Introduction\n",
      "Region Unit 2020 Δ y-o-y 2019\n",
      "Europe Region AuM € bn  90.92 1.2 %  89.87\n",
      "02\n",
      "Sustainability strategy  Absolute emissions mn t CO₂e  9.77 -7.9 %  10.60\n",
      "and governance\n",
      "Relative emissions t CO₂e/€ mn invested  46.00 -13.1 %  52.93\n",
      "Weighted average carbon intensity t CO₂e/€ mn sales  75.28 -0.5 %  75.63\n",
      "03\n",
      "Sustainability in our core  North America Region AuM € bn  74.44 2.3 %  72.80\n",
      "business activities\n",
      "Absolute emissions mn t CO₂e  7.58 5.5 %  7.19\n",
      "04 Relative emissions t CO₂e/€ mn invested  35.72 -0.5 %  35.89\n",
      "Sustainability in our organization\n",
      "Weighted average carbon intensity t CO₂e/€ mn sales  118.14 3.4 %  114.27\n",
      "Asia/Pacific Region AuM € bn  6.52 -2.0 %  6.65\n",
      "05\n",
      "Allianz’s climate-related  Absolute emissions mn t CO₂e  0.35 -34.6 %  0.53\n",
      "financial disclosure\n",
      "Relative emissions t CO₂e/€ mn invested  1.64 -38.3 %  2.66\n",
      "05.1  Highlights\n",
      "Weighted average carbon intensity t CO₂e/€ mn sales  5.28 9.3 % 4.83\n",
      "05.2  Governance\n",
      "Emerging Markets Region AuM € bn  13.39 11.6 %  12.01\n",
      "  Overarching and board-level governance\n",
      "   Business and management- Absolute emissions mn t CO₂e  2.91 -8.7 %  3.19\n",
      "level governance\n",
      "Relative emissions t CO₂e/€ mn invested  13.73 -13.9 %  15.94\n",
      "   Board remuneration and \n",
      "climate competence\n",
      "Weighted average carbon intensity t CO₂e/€ mn sales  28.49 -1.6 %  28.95\n",
      "05.3  Strategy\n",
      "Portfolio values as of December 31.\n",
      "  Our climate change strategy\n",
      "  Climate-related risks and opportunities\n",
      "Greenhouse gas emissions of Allianz Group\n",
      "  Our response\n",
      "05.4   Strategy resilience, stress-tests and  Indicator Unit 2020 Δ y-o-y 2019\n",
      "climate scenario analysis\n",
      "Scope 1 – direct GHG emissions t CO₂e 28,714 -31.7 % 42,011\n",
      "05.5  Risk and opportunity management\n",
      "  Overarching risk governance Scope 2 – indirect GHG emissions (market-based) t CO₂e 100,722 -29.3 % 142,563\n",
      "  Natural catastrophe risk governance\n",
      "Scope 2 – indirect GHG emissions (location-based) t CO₂e 180,826 -19.4 % 224,315\n",
      "  Climate and ESG related risk governance\n",
      "Scope 3 – other indirect GHG emissions excl. cat 15 t CO₂e 73,916 -50.5 % 149,459\n",
      "05.6  Metrics and targets\n",
      "  Targets and target performance Scope 3 – category 15 (financed emissions of listed equity and corporate bonds portfolio) t CO₂e 23,241,052 -9.1 % 25,561,949\n",
      "      Metrics\n",
      "Portfolio values as of December 31.\n",
      "06\n",
      "Data and performance\n",
      "106\n"
     ]
    }
   ],
   "source": [
    "# Extract text\n",
    "text = single_page.extract_text()\n",
    "#print(text, file=open('test.txt', 'w', encoding='utf-8'))\n",
    "print(text)"
   ],
   "metadata": {
    "collapsed": false,
    "pycharm": {
     "name": "#%%\n"
    }
   }
  },
  {
   "cell_type": "code",
   "execution_count": 91,
   "outputs": [],
   "source": [],
   "metadata": {
    "collapsed": false,
    "pycharm": {
     "name": "#%%\n"
    }
   }
  },
  {
   "cell_type": "code",
   "execution_count": 92,
   "outputs": [
    {
     "name": "stdout",
     "output_type": "stream",
     "text": [
      "Anzahl geparster Sätze: 4\n",
      "----------------------------\n",
      " Sustainability Report 2020\n",
      "05.6 Metrics and targets\n",
      "Regional corporate bonds portfolio indicators\n",
      "01\n",
      "Introduction\n",
      "Region Unit 2020 Δ y-o-y 2019\n",
      "Europe Region AuM € bn  90.92 1.2 %  89.87\n",
      "02\n",
      "Sustainability strategy  Absolute emissions mn t CO₂e  9.77 -7.9 %  10.60\n",
      "and governance\n",
      "Relative emissions t CO₂e/€ mn invested  46.00 -13.1 %  52.93\n",
      "Weighted average carbon intensity t CO₂e/€ mn sales  75.28 -0.5 %  75.63\n",
      "03\n",
      "Sustainability in our core  North America Region AuM € bn  74.44 2.3 %  72.80\n",
      "business activities\n",
      "Absolute emissions mn t CO₂e  7.58 5.5 %  7.19\n",
      "04 Relative emissions t CO₂e/€ mn invested  35.72 -0.5 %  35.89\n",
      "Sustainability in our organization\n",
      "Weighted average carbon intensity t CO₂e/€ mn sales  118.14 3.4 %  114.27\n",
      "Asia/Pacific Region AuM € bn  6.52 -2.0 %  6.65\n",
      "05\n",
      "Allianz’s climate-related  Absolute emissions mn t CO₂e  0.35 -34.6 %  0.53\n",
      "financial disclosure\n",
      "Relative emissions t CO₂e/€ mn invested  1.64 -38.3 %  2.66\n",
      "05.1  Highlights\n",
      "Weighted average carbon intensity t CO₂e/€ mn sales  5.28 9.3 % 4.83\n",
      "05.2  Governance\n",
      "Emerging Markets Region AuM € bn  13.39 11.6 %  12.01\n",
      "  Overarching and board-level governance\n",
      "   Business and management- Absolute emissions mn t CO₂e  2.91 -8.7 %  3.19\n",
      "level governance\n",
      "Relative emissions t CO₂e/€ mn invested  13.73 -13.9 %  15.94\n",
      "   Board remuneration and \n",
      "climate competence\n",
      "Weighted average carbon intensity t CO₂e/€ mn sales  28.49 -1.6 %  28.95\n",
      "05.3  Strategy\n",
      "Portfolio values as of December 31.\n",
      "----------------------------\n",
      " Our climate change strategy\n",
      "  Climate-related risks and opportunities\n",
      "Greenhouse gas emissions of Allianz Group\n",
      "  Our response\n",
      "05.4   Strategy resilience, stress-tests and  Indicator Unit 2020 Δ y-o-y 2019\n",
      "climate scenario analysis\n",
      "Scope 1 – direct GHG emissions t CO₂e 28,714 -31.7 % 42,011\n",
      "05.5  Risk and opportunity management\n",
      "  Overarching risk governance Scope 2 – indirect GHG emissions (market-based) t CO₂e 100,722 -29.3 % 142,563\n",
      "  Natural catastrophe risk governance\n",
      "Scope 2 – indirect GHG emissions (location-based) t CO₂e 180,826 -19.4 % 224,315\n",
      "  Climate and ESG related risk governance\n",
      "Scope 3 – other indirect GHG emissions excl.\n",
      "----------------------------\n",
      " cat 15 t CO₂e 73,916 -50.5 % 149,459\n",
      "05.6  Metrics and targets\n",
      "  Targets and target performance Scope 3 – category 15 (financed emissions of listed equity and corporate bonds portfolio) t CO₂e 23,241,052 -9.1 % 25,561,949\n",
      "      Metrics\n",
      "Portfolio values as of December 31.\n",
      "----------------------------\n",
      " 06\n",
      "Data and performance\n",
      "106\n"
     ]
    }
   ],
   "source": [
    "re1 = r'(?<!\\w\\.\\w.)(?<![A-Z][a-z]\\.)(?<=\\.|\\?|\\!|\\:)\\s'\n",
    "re11 = r'((?<!\\w\\.\\w.)(?<![A-Z][a-z]\\.)(?<=\\.|\\?|\\!|\\:)\\s)|[\\\\][n][\\\\][n]'\n",
    "re2 = r'(?<![A-Z][a-z])([!?.\\n])(?=\\s*[A-Z])\\s*'\n",
    "re3 = r'\\n'\n",
    "sentences = re.split(re1, text)\n",
    "print('Anzahl geparster Sätze:', len(sentences))\n",
    "for sentence in sentences:\n",
    "    print('----------------------------\\n', sentence.strip())"
   ],
   "metadata": {
    "collapsed": false,
    "pycharm": {
     "name": "#%%\n"
    }
   }
  },
  {
   "cell_type": "code",
   "execution_count": 93,
   "outputs": [
    {
     "name": "stdout",
     "output_type": "stream",
     "text": [
      "Sentence is: Sustainability Report 2020\n",
      "05.6 Metrics and targets\n",
      "Regional corporate bonds portfolio indicators\n",
      "01\n",
      "Introduction\n",
      "Region Unit 2020 Δ y-o-y 2019\n",
      "Europe Region AuM € bn  90.92 1.2 %  89.87\n",
      "02\n",
      "Sustainability strategy  Absolute emissions mn t CO₂e  9.77 -7.9 %  10.60\n",
      "and governance\n",
      "Relative emissions t CO₂e/€ mn invested  46.00 -13.1 %  52.93\n",
      "Weighted average carbon intensity t CO₂e/€ mn sales  75.28 -0.5 %  75.63\n",
      "03\n",
      "Sustainability in our core  North America Region AuM € bn  74.44 2.3 %  72.80\n",
      "business activities\n",
      "Absolute emissions mn t CO₂e  7.58 5.5 %  7.19\n",
      "04 Relative emissions t CO₂e/€ mn invested  35.72 -0.5 %  35.89\n",
      "Sustainability in our organization\n",
      "Weighted average carbon intensity t CO₂e/€ mn sales  118.14 3.4 %  114.27\n",
      "Asia/Pacific Region AuM € bn  6.52 -2.0 %  6.65\n",
      "05\n",
      "Allianz’s climate-related  Absolute emissions mn t CO₂e  0.35 -34.6 %  0.53\n",
      "financial disclosure\n",
      "Relative emissions t CO₂e/€ mn invested  1.64 -38.3 %  2.66\n",
      "05.1  Highlights\n",
      "Weighted average carbon intensity t CO₂e/€ mn sales  5.28 9.3 % 4.83\n",
      "05.2  Governance\n",
      "Emerging Markets Region AuM € bn  13.39 11.6 %  12.01\n",
      "  Overarching and board-level governance\n",
      "   Business and management- Absolute emissions mn t CO₂e  2.91 -8.7 %  3.19\n",
      "level governance\n",
      "Relative emissions t CO₂e/€ mn invested  13.73 -13.9 %  15.94\n",
      "   Board remuneration and \n",
      "climate competence\n",
      "Weighted average carbon intensity t CO₂e/€ mn sales  28.49 -1.6 %  28.95\n",
      "05.3  Strategy\n",
      "Portfolio values as of December 31.\n",
      "-------------------------------\n",
      "Sentence is:   Our climate change strategy\n",
      "  Climate-related risks and opportunities\n",
      "Greenhouse gas emissions of Allianz Group\n",
      "  Our response\n",
      "05.4   Strategy resilience, stress-tests and  Indicator Unit 2020 Δ y-o-y 2019\n",
      "climate scenario analysis\n",
      "Scope 1 – direct GHG emissions t CO₂e 28,714 -31.7 % 42,011\n",
      "05.5  Risk and opportunity management\n",
      "  Overarching risk governance Scope 2 – indirect GHG emissions (market-based) t CO₂e 100,722 -29.3 % 142,563\n",
      "  Natural catastrophe risk governance\n",
      "Scope 2 – indirect GHG emissions (location-based) t CO₂e 180,826 -19.4 % 224,315\n",
      "  Climate and ESG related risk governance\n",
      "Scope 3 – other indirect GHG emissions excl.\n",
      "-------------------------------\n",
      "Sentence is: cat 15 t CO₂e 73,916 -50.5 % 149,459\n",
      "05.6  Metrics and targets\n",
      "  Targets and target performance Scope 3 – category 15 (financed emissions of listed equity and corporate bonds portfolio) t CO₂e 23,241,052 -9.1 % 25,561,949\n",
      "      Metrics\n",
      "Portfolio values as of December 31.\n",
      "-------------------------------\n",
      "Sentence is: 06\n",
      "Data and performance\n",
      "106\n",
      "-------------------------------\n"
     ]
    }
   ],
   "source": [
    "def contains_word(search_list: list, sentence: str):\n",
    "    return any([item.lower() in sentence.lower() for item in search_list])\n",
    "\n",
    "sentences_with_scope = list()\n",
    "search_terms = ['Scope 1', 'Scope 2']\n",
    "\n",
    "for sentence in sentences:\n",
    "    print('Sentence is:', sentence)\n",
    "\n",
    "    if contains_word(search_terms, sentence):\n",
    "        sentences_with_scope.append(sentence.strip())\n",
    "\n",
    "    print('-------------------------------')"
   ],
   "metadata": {
    "collapsed": false,
    "pycharm": {
     "name": "#%%\n"
    }
   }
  },
  {
   "cell_type": "code",
   "execution_count": 94,
   "outputs": [
    {
     "data": {
      "text/plain": "['Our climate change strategy\\n  Climate-related risks and opportunities\\nGreenhouse gas emissions of Allianz Group\\n  Our response\\n05.4   Strategy resilience, stress-tests and  Indicator Unit 2020 Δ y-o-y 2019\\nclimate scenario analysis\\nScope 1 – direct GHG emissions t CO₂e 28,714 -31.7 % 42,011\\n05.5  Risk and opportunity management\\n  Overarching risk governance Scope 2 – indirect GHG emissions (market-based) t CO₂e 100,722 -29.3 % 142,563\\n  Natural catastrophe risk governance\\nScope 2 – indirect GHG emissions (location-based) t CO₂e 180,826 -19.4 % 224,315\\n  Climate and ESG related risk governance\\nScope 3 – other indirect GHG emissions excl.']"
     },
     "execution_count": 94,
     "metadata": {},
     "output_type": "execute_result"
    }
   ],
   "source": [
    "sentences_with_scope\n",
    "\n",
    "\n"
   ],
   "metadata": {
    "collapsed": false,
    "pycharm": {
     "name": "#%%\n"
    }
   }
  }
 ],
 "metadata": {
  "kernelspec": {
   "display_name": "Python 3",
   "language": "python",
   "name": "python3"
  },
  "language_info": {
   "codemirror_mode": {
    "name": "ipython",
    "version": 2
   },
   "file_extension": ".py",
   "mimetype": "text/x-python",
   "name": "python",
   "nbconvert_exporter": "python",
   "pygments_lexer": "ipython2",
   "version": "2.7.6"
  }
 },
 "nbformat": 4,
 "nbformat_minor": 0
}