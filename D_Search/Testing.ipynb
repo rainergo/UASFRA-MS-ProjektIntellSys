{
 "cells": [
  {
   "cell_type": "code",
   "execution_count": null,
   "metadata": {
    "collapsed": true
   },
   "outputs": [],
   "source": [
    "import os\n",
    "import logging\n",
    "from A_Configuration_and_Logs import conf_and_log\n",
    "\n",
    "\n",
    "def search_words():\n",
    "    conf_log = conf_and_log.ConfLog()\n",
    "    path = conf_log.path_to_reports_for_analysis_directory\n",
    "    for orig_pdf in os.scandir(path=path):\n",
    "        filename = os.fsdecode(orig_pdf)\n",
    "        if filename.endswith(\".pdf\"):\n",
    "            try:\n",
    "                input_file_path_and_name_plus_suffix = os.path.abspath(orig_pdf)\n",
    "                print(input_file_path_and_name_plus_suffix)\n",
    "            except Exception as e:\n",
    "                # logging.error(e, exc_info=True)\n",
    "                print(e)\n",
    "\n",
    "\n",
    "search_words()\n",
    "\n"
   ]
  }
 ],
 "metadata": {
  "kernelspec": {
   "display_name": "Python 3",
   "language": "python",
   "name": "python3"
  },
  "language_info": {
   "codemirror_mode": {
    "name": "ipython",
    "version": 2
   },
   "file_extension": ".py",
   "mimetype": "text/x-python",
   "name": "python",
   "nbconvert_exporter": "python",
   "pygments_lexer": "ipython2",
   "version": "2.7.6"
  }
 },
 "nbformat": 4,
 "nbformat_minor": 0
}