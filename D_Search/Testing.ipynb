{
 "cells": [
  {
   "cell_type": "code",
   "execution_count": 1,
   "metadata": {
    "collapsed": true
   },
   "outputs": [
    {
     "name": "stdout",
     "output_type": "stream",
     "text": [
      "Soso: D:/A_STUDIUM/PYTHON/UASFRA-MS-ProjektIntellSys/A_Configuration_and_Logs/error.log\n",
      "D:/A_STUDIUM/PYTHON/UASFRA-MS-ProjektIntellSys/B_Reports/Annual_Reports\n"
     ]
    }
   ],
   "source": [
    "# import os\n",
    "# import logging\n",
    "from A_Configuration_and_Logs.conf_and_log import *\n",
    "\n",
    "\n",
    "# def search_words():\n",
    "#     conf_log = conf_and_log.ConfLog()\n",
    "#     path = conf_log.path_to_reports_for_analysis_directory\n",
    "#     for orig_pdf in os.scandir(path=path):\n",
    "#         filename = os.fsdecode(orig_pdf)\n",
    "#         if filename.endswith(\".pdf\"):\n",
    "#             try:\n",
    "#                 input_file_path_and_name_plus_suffix = os.path.abspath(orig_pdf)\n",
    "#                 print(input_file_path_and_name_plus_suffix)\n",
    "#             except Exception as e:\n",
    "#                 # logging.error(e, exc_info=True)\n",
    "#                 print(e)\n",
    "\n",
    "\n",
    "# search_words()\n",
    "\n",
    "c = ConfLog()\n",
    "print(c.path_to_input_directory)"
   ]
  }
 ],
 "metadata": {
  "kernelspec": {
   "display_name": "Python 3",
   "language": "python",
   "name": "python3"
  },
  "language_info": {
   "codemirror_mode": {
    "name": "ipython",
    "version": 2
   },
   "file_extension": ".py",
   "mimetype": "text/x-python",
   "name": "python",
   "nbconvert_exporter": "python",
   "pygments_lexer": "ipython2",
   "version": "2.7.6"
  }
 },
 "nbformat": 4,
 "nbformat_minor": 0
}