{
 "cells": [
  {
   "cell_type": "code",
   "execution_count": null,
   "metadata": {
    "collapsed": true
   },
   "outputs": [],
   "source": [
    "import pandas as pd\n",
    "\n",
    "\n",
    "# GNS\n",
    "d = [{'page_number': 4,\n",
    "  'short_text_and_number': (1,2,3),\n",
    "  'text_for_word2vec': (1,2,3),\n",
    "  'table_values': (1,2,3)},\n",
    " {'page_number': 19,\n",
    "  'short_text_and_number': (1,2,3),\n",
    "  'text_for_word2vec': (1,2,3),\n",
    "  'table_values': (1,2,3)},\n",
    " {'page_number': 45,\n",
    "  'short_text_and_number': {'FY19 (restated) Tonnes of CO2e',\n",
    "   'FY20 (restated) Tonnes of CO2e',\n",
    "   'FY21 Tonnes of CO2e'},\n",
    "  'text_for_word2vec': {'Primary intensity ratio – Scope 1 and 2   (tCO2e/tonne animal weight) Secondary intensity ratio – Scope 1, 2 and 3  (tCO2e/turnover)'},\n",
    "  'table_values': {'167.9',\n",
    "   '187.6',\n",
    "   '2,626',\n",
    "   '2,630',\n",
    "   '2,756',\n",
    "   '2,798',\n",
    "   '72,314',\n",
    "   '77,673',\n",
    "   '79,009',\n",
    "   '8.31',\n",
    "   '8.33',\n",
    "   '84,523'}}]\n",
    "\n",
    "\n",
    "\n",
    "df = pd.DataFrame(data=d)\n",
    "df"
   ]
  },
  {
   "cell_type": "code",
   "execution_count": null,
   "outputs": [],
   "source": [
    "# Siemens\n",
    "\n",
    "l = [{'page_number': 23,\n",
    "  'short_text_and_number': {'292,000 t CO2 emissions   (Scope 1 and 2)'},\n",
    "  'text_for_word2vec': set(),\n",
    "  'table_values': set()},\n",
    " {'page_number': 27,\n",
    "  'short_text_and_number': set(),\n",
    "  'text_for_word2vec': {'Scope 1 and 2 emissions  1000 metric tons of CO2 equivalent'},\n",
    "  'table_values': set()},\n",
    " {'page_number': 28,\n",
    "  'short_text_and_number': set(),\n",
    "  'text_for_word2vec': set(),\n",
    "  'table_values': set()},\n",
    " {'page_number': 76,\n",
    "  'short_text_and_number': set(),\n",
    "  'text_for_word2vec': {' The  total scope 1 and 2 emissions amounted to  292,000 metric tons of CO2 equivalents',\n",
    "  'In fiscal year 2020 we achieved to reduce our  scope 1 and 2 emissions by around one third or  148,000 metric tons of CO2 equivalents'},\n",
    "  'table_values': set()}]"
   ],
   "metadata": {
    "collapsed": false,
    "pycharm": {
     "name": "#%%\n"
    }
   }
  },
  {
   "cell_type": "code",
   "execution_count": null,
   "outputs": [],
   "source": [
    "t = ['hhhh', '123', '1980', '2020']\n",
    "\n",
    "for el in t:\n",
    " if len(el) == 4 and el.isdigit() and el.startswith('20'):\n",
    "  print(el)"
   ],
   "metadata": {
    "collapsed": false,
    "pycharm": {
     "name": "#%%\n"
    }
   }
  },
  {
   "cell_type": "code",
   "execution_count": null,
   "outputs": [],
   "source": [
    "ll = ['292,000 t CO2 emissions   (Scope 1 and 2)', 'Scope 1 and 2 Blah', '292,000 t CO2 emissions   (Scope 1 and 2)']\n",
    "\n",
    "ll_"
   ],
   "metadata": {
    "collapsed": false,
    "pycharm": {
     "name": "#%%\n"
    }
   }
  }
 ],
 "metadata": {
  "kernelspec": {
   "display_name": "Python 3",
   "language": "python",
   "name": "python3"
  },
  "language_info": {
   "codemirror_mode": {
    "name": "ipython",
    "version": 2
   },
   "file_extension": ".py",
   "mimetype": "text/x-python",
   "name": "python",
   "nbconvert_exporter": "python",
   "pygments_lexer": "ipython2",
   "version": "2.7.6"
  }
 },
 "nbformat": 4,
 "nbformat_minor": 0
}