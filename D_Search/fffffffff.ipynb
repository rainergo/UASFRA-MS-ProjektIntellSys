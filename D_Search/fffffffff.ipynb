{
 "cells": [
  {
   "cell_type": "code",
   "execution_count": 1,
   "metadata": {
    "collapsed": true
   },
   "outputs": [
    {
     "data": {
      "text/plain": "[{'page_number': 4,\n  'keywords_key': 'Scope 1 and 2',\n  'short_text_and_number': set(),\n  'text_for_word2vec': set(),\n  'table_values': set()},\n {'page_number': 19,\n  'keywords_key': 'Scope 1 and 2',\n  'short_text_and_number': set(),\n  'text_for_word2vec': set(),\n  'table_values': set()},\n {'page_number': 45,\n  'keywords_key': 'Scope 1 and 2',\n  'short_text_and_number': {'FY19 (restated) Tonnes of CO2e',\n   'FY20 (restated) Tonnes of CO2e',\n   'FY21 Tonnes of CO2e'},\n  'text_for_word2vec': {'Primary intensity ratio – Scope 1 and 2   (tCO2e/tonne animal weight) Secondary intensity ratio – Scope 1, 2 and 3  (tCO2e/turnover)'},\n  'table_values': {'167.9',\n   '187.6',\n   '2,626',\n   '2,630',\n   '2,756',\n   '2,798',\n   '72,314',\n   '77,673',\n   '79,009',\n   '8.31',\n   '8.33',\n   '84,523'}}]"
     },
     "execution_count": 1,
     "metadata": {},
     "output_type": "execute_result"
    }
   ],
   "source": [
    "[{'page_number': 4,\n",
    "  'keywords_key': 'Scope 1 and 2',\n",
    "  'short_text_and_number': set(),\n",
    "  'text_for_word2vec': set(),\n",
    "  'table_values': set()},\n",
    " {'page_number': 19,\n",
    "  'keywords_key': 'Scope 1 and 2',\n",
    "  'short_text_and_number': set(),\n",
    "  'text_for_word2vec': set(),\n",
    "  'table_values': set()},\n",
    " {'page_number': 45,\n",
    "  'keywords_key': 'Scope 1 and 2',\n",
    "  'short_text_and_number': {'FY19 (restated) Tonnes of CO2e',\n",
    "   'FY20 (restated) Tonnes of CO2e',\n",
    "   'FY21 Tonnes of CO2e'},\n",
    "  'text_for_word2vec': {'Primary intensity ratio – Scope 1 and 2   (tCO2e/tonne animal weight) Secondary intensity ratio – Scope 1, 2 and 3  (tCO2e/turnover)'},\n",
    "  'table_values': {'167.9',\n",
    "   '187.6',\n",
    "   '2,626',\n",
    "   '2,630',\n",
    "   '2,756',\n",
    "   '2,798',\n",
    "   '72,314',\n",
    "   '77,673',\n",
    "   '79,009',\n",
    "   '8.31',\n",
    "   '8.33',\n",
    "   '84,523'}}]"
   ]
  },
  {
   "cell_type": "code",
   "execution_count": 1,
   "outputs": [
    {
     "data": {
      "text/plain": "{'page_number': 4,\n 'Scope 1 and 2': {'short_text_and_number': set(),\n  'text_for_word2vec': set(),\n  'table_values': set()},\n 'Scope1': {'Scope 1': {'short_text_and_number': set(),\n   'text_for_word2vec': set(),\n   'table_values': set()}}}"
     },
     "execution_count": 1,
     "metadata": {},
     "output_type": "execute_result"
    }
   ],
   "source": [
    "dic = {'page_number': 4,\n",
    "  'Scope 1 and 2': {'short_text_and_number': set(),\n",
    "   'text_for_word2vec': set(),\n",
    "   'table_values': set()}}\n",
    "\n",
    "\n",
    "\n",
    "page_fin = {'Scope 1': {'short_text_and_number': set(),\n",
    "   'text_for_word2vec': set(),\n",
    "   'table_values': set()}}\n",
    "\n",
    "dic['Scope1'] = page_fin\n",
    "\n",
    "dic"
   ],
   "metadata": {
    "collapsed": false,
    "pycharm": {
     "name": "#%%\n"
    }
   }
  }
 ],
 "metadata": {
  "kernelspec": {
   "display_name": "Python 3",
   "language": "python",
   "name": "python3"
  },
  "language_info": {
   "codemirror_mode": {
    "name": "ipython",
    "version": 2
   },
   "file_extension": ".py",
   "mimetype": "text/x-python",
   "name": "python",
   "nbconvert_exporter": "python",
   "pygments_lexer": "ipython2",
   "version": "2.7.6"
  }
 },
 "nbformat": 4,
 "nbformat_minor": 0
}