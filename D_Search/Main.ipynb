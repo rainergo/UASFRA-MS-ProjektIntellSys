{
 "cells": [
  {
   "cell_type": "code",
   "execution_count": 1,
   "metadata": {
    "collapsed": true
   },
   "outputs": [],
   "source": [
    "from PDFMiner import PDFMiner\n",
    "from config import *\n",
    "\n",
    "#path = siemens_pdf\n",
    "path = gns_printed\n",
    "# path = acroform\n",
    "# pages = extract_pages(path)\n",
    "# show_ltitem_hierarchy(pages)"
   ]
  },
  {
   "cell_type": "code",
   "execution_count": 2,
   "outputs": [],
   "source": [
    "# miner = PDFMiner(path=path)\n",
    "# res = miner.find_word(word='scope 1', line_tolerance=0.20)\n",
    "# res\n"
   ],
   "metadata": {
    "collapsed": false,
    "pycharm": {
     "name": "#%%\n"
    }
   }
  },
  {
   "cell_type": "code",
   "execution_count": 3,
   "outputs": [],
   "source": [
    "# miner = PDFMiner(path=path)\n",
    "#\n",
    "# # miner.process_pages()\n",
    "# # miner.extract_text()\n",
    "# res = miner.find_word_2(word='scope', search_word_list=['Scope 1', 'Scope 2', 'Scope 3', 'Scope 1 and 2','CO2', 'CO₂', 'CO₂e'], line_tolerance=0.20)\n",
    "# # res = miner.find_word(word='scope 1', line_tolerance=0.20)\n",
    "# res\n",
    "\n",
    "#miner.resolve_acroforms()"
   ],
   "metadata": {
    "collapsed": false,
    "pycharm": {
     "name": "#%%\n"
    }
   }
  },
  {
   "cell_type": "code",
   "execution_count": 4,
   "outputs": [
    {
     "data": {
      "text/plain": "[{'page_number': 4,\n  'short_text_and_number': set(),\n  'text_for_word2vec': set(),\n  'table_values': set()},\n {'page_number': 19,\n  'short_text_and_number': set(),\n  'text_for_word2vec': set(),\n  'table_values': set()},\n {'page_number': 45,\n  'short_text_and_number': {'FY19 (restated) Tonnes of CO2e',\n   'FY20 (restated) Tonnes of CO2e',\n   'FY21 Tonnes of CO2e'},\n  'text_for_word2vec': {'Primary intensity ratio – Scope 1 and 2   (tCO2e/tonne animal weight) Secondary intensity ratio – Scope 1, 2 and 3  (tCO2e/turnover)'},\n  'table_values': {'167.9',\n   '187.6',\n   '2,626',\n   '2,630',\n   '2,756',\n   '2,798',\n   '72,314',\n   '77,673',\n   '79,009',\n   '8.31',\n   '8.33',\n   '84,523'}}]"
     },
     "execution_count": 4,
     "metadata": {},
     "output_type": "execute_result"
    }
   ],
   "source": [
    "# keyword = ['FY20', '2020']\n",
    "miner = PDFMiner(path=path)\n",
    "res = miner.find_word(keywords=['Scope 1', 'scope 1'], search_word_list=['tCO2e', '(t) CO2e', 't CO2', 't CO₂', 'tons CO2', 'tons CO₂', 't CO₂e', 'CO₂e', 'CO2e',  'CO2 equivalent', 'CO₂ equivalent'],\n",
    "                      table_keywords=['FY21'],neighbour_tolerance=1.50)\n",
    "res"
   ],
   "metadata": {
    "collapsed": false,
    "pycharm": {
     "name": "#%%\n"
    }
   }
  },
  {
   "cell_type": "code",
   "execution_count": 5,
   "outputs": [],
   "source": [
    "# metadata_obj_id = miner.document.catalog['Metadata'].objid\n",
    "# pdf_stream = miner.document.getobj(metadata_obj_id)\n",
    "# hh = pdf_stream.get_data()\n",
    "# hh\n"
   ],
   "metadata": {
    "collapsed": false,
    "pycharm": {
     "name": "#%%\n"
    }
   }
  }
 ],
 "metadata": {
  "kernelspec": {
   "display_name": "Python 3",
   "language": "python",
   "name": "python3"
  },
  "language_info": {
   "codemirror_mode": {
    "name": "ipython",
    "version": 2
   },
   "file_extension": ".py",
   "mimetype": "text/x-python",
   "name": "python",
   "nbconvert_exporter": "python",
   "pygments_lexer": "ipython2",
   "version": "2.7.6"
  }
 },
 "nbformat": 4,
 "nbformat_minor": 0
}