{
 "cells": [
  {
   "cell_type": "code",
   "execution_count": 1,
   "metadata": {
    "collapsed": true
   },
   "outputs": [],
   "source": [
    "from PDFMiner import PDFMiner\n",
    "from PDFMinerOrig import PDFMinerOrig\n",
    "\n",
    "from config import *\n",
    "\n",
    "path = siemens_pdf\n",
    "# pages = extract_pages(path)\n",
    "# show_ltitem_hierarchy(pages)"
   ]
  },
  {
   "cell_type": "code",
   "execution_count": 2,
   "outputs": [
    {
     "data": {
      "text/plain": "[{'page_number': 23,\n  'Scope 1': {'short_text_and_number': {'292,000 t CO2 emissions   (Scope 1 and 2)'},\n   'text_for_word2vec': set(),\n   'table_values': set()},\n  'Scope 1 and 2': {'short_text_and_number': {'292,000 t CO2 emissions   (Scope 1 and 2)'},\n   'text_for_word2vec': set(),\n   'table_values': set()}},\n {'page_number': 27,\n  'Scope 1': {'short_text_and_number': set(),\n   'text_for_word2vec': {'Scope 1 and 2 emissions  1000 metric tons of CO2 equivalent'},\n   'table_values': {'FY 2020', 'Scope 1', 'Scope 1 and 2 emissions'}},\n  'Scope 1 and 2': {'short_text_and_number': set(),\n   'text_for_word2vec': {'Scope 1 and 2 emissions  1000 metric tons of CO2 equivalent'},\n   'table_values': {'FY 2020', 'Scope 1 and 2 emissions'}}},\n {'page_number': 28,\n  'Scope 1': {'short_text_and_number': set(),\n   'text_for_word2vec': set(),\n   'table_values': set()}},\n {'page_number': 76,\n  'Scope 1': {'short_text_and_number': set(),\n   'text_for_word2vec': {' The  total scope 1 and 2 emissions amounted to  292,000 metric tons of CO2 equivalents',\n    'In fiscal year 2020 we achieved to reduce our  scope 1 and 2 emissions by around one third or  148,000 metric tons of CO2 equivalents'},\n   'table_values': set()},\n  'Scope 1 and 2': {'short_text_and_number': set(),\n   'text_for_word2vec': {' The  total scope 1 and 2 emissions amounted to  292,000 metric tons of CO2 equivalents',\n    'In fiscal year 2020 we achieved to reduce our  scope 1 and 2 emissions by around one third or  148,000 metric tons of CO2 equivalents'},\n   'table_values': set()}}]"
     },
     "execution_count": 2,
     "metadata": {},
     "output_type": "execute_result"
    }
   ],
   "source": [
    "# keyword = ['FY20', '2020']\n",
    "miner = PDFMiner(path=path)\n",
    "table_keywords = miner.get_year_and_fy_from_first_page()\n",
    "res = miner.find_word(keywords_dict_of_list={'Scope 1':['Scope 1', 'scope 1'], 'Scope 1 and 2':['Scope 1 and 2', 'scope 1 and 2']}, search_word_list=['tCO2e', '(t) CO2e', 't CO2', 't CO₂', 'tons CO2', 'tons CO₂', 't CO₂e', 'CO₂e', 'CO2e',  'CO2 equivalent', 'CO₂ equivalent'],\n",
    "                      table_keywords=table_keywords,neighbour_tolerance=1.50)\n",
    "res"
   ],
   "metadata": {
    "collapsed": false,
    "pycharm": {
     "name": "#%%\n"
    }
   }
  },
  {
   "cell_type": "code",
   "execution_count": 3,
   "outputs": [
    {
     "data": {
      "text/plain": "[{'page_number': 23,\n  'short_text_and_number': {'292,000 t CO2 emissions   (Scope 1 and 2)'},\n  'text_for_word2vec': set(),\n  'table_values': set()},\n {'page_number': 27,\n  'short_text_and_number': set(),\n  'text_for_word2vec': {'Scope 1 and 2 emissions  1000 metric tons of CO2 equivalent'},\n  'table_values': {'FY 2020', 'Scope 1', 'Scope 1 and 2 emissions'}},\n {'page_number': 28,\n  'short_text_and_number': set(),\n  'text_for_word2vec': set(),\n  'table_values': set()},\n {'page_number': 76,\n  'short_text_and_number': set(),\n  'text_for_word2vec': {' The  total scope 1 and 2 emissions amounted to  292,000 metric tons of CO2 equivalents',\n   'In fiscal year 2020 we achieved to reduce our  scope 1 and 2 emissions by around one third or  148,000 metric tons of CO2 equivalents'},\n  'table_values': set()}]"
     },
     "execution_count": 3,
     "metadata": {},
     "output_type": "execute_result"
    }
   ],
   "source": [
    "miner2 = PDFMinerOrig(path=path)\n",
    "res2 = miner2.find_word(keywords=['Scope 1', 'scope 1'], search_word_list=['tCO2e', '(t) CO2e', 't CO2', 't CO₂', 'tons CO2', 'tons CO₂', 't CO₂e', 'CO₂e', 'CO2e',  'CO2 equivalent', 'CO₂ equivalent'],\n",
    "                      table_keywords=table_keywords,neighbour_tolerance=1.50)\n",
    "res2\n",
    "\n",
    "\n"
   ],
   "metadata": {
    "collapsed": false,
    "pycharm": {
     "name": "#%%\n"
    }
   }
  }
 ],
 "metadata": {
  "kernelspec": {
   "display_name": "Python 3",
   "language": "python",
   "name": "python3"
  },
  "language_info": {
   "codemirror_mode": {
    "name": "ipython",
    "version": 2
   },
   "file_extension": ".py",
   "mimetype": "text/x-python",
   "name": "python",
   "nbconvert_exporter": "python",
   "pygments_lexer": "ipython2",
   "version": "2.7.6"
  }
 },
 "nbformat": 4,
 "nbformat_minor": 0
}