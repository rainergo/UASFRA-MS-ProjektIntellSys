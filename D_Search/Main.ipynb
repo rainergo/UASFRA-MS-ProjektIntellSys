{
 "cells": [
  {
   "cell_type": "code",
   "execution_count": 1,
   "metadata": {
    "collapsed": true
   },
   "outputs": [],
   "source": [
    "from PDFMinerTEST import PDFMiner\n",
    "\n",
    "\n",
    "from config import *\n",
    "\n",
    "path = siemens_page_27\n",
    "# pages = extract_pages(path)\n",
    "# show_ltitem_hierarchy(pages)"
   ]
  },
  {
   "cell_type": "code",
   "execution_count": 2,
   "outputs": [
    {
     "name": "stdout",
     "output_type": "stream",
     "text": [
      "keyword_coordinates_in_text_line: {(304.7, 675.2, 328.9, 682.2)}\n",
      "keyword_coordinates_in_text_line: {(304.7, 704.8, 338.9, 713.8)}\n",
      "keyword_coordinates_in_text_line: {(245.6, 267.4, 274.3, 275.9)}\n",
      "keyword_coordinates_in_text_line: {(93.3, 229.9, 124.0, 238.4)}\n",
      "keyword_coordinates_in_text_line: {(262.0, 129.9, 290.5, 138.4)}\n",
      "keyword_coordinates_in_text_line: {(304.7, 704.8, 365.8, 713.8)}\n"
     ]
    },
    {
     "data": {
      "text/plain": "{(93.3, 229.9, 124.0, 238.4),\n (245.6, 267.4, 274.3, 275.9),\n (262.0, 129.9, 290.5, 138.4),\n (304.7, 675.2, 328.9, 682.2),\n (304.7, 704.8, 338.9, 713.8),\n (304.7, 704.8, 365.8, 713.8)}"
     },
     "execution_count": 2,
     "metadata": {},
     "output_type": "execute_result"
    }
   ],
   "source": [
    "# search_word_list=['tCO2e', '(t) CO2e', 't CO2', 't CO₂', 'tons CO2', 'tons CO₂', 't CO₂e', 'CO₂e', 'CO2e',  'CO2 equivalent', 'CO₂ equivalent']\n",
    "# keyword = ['FY20', '2020']\n",
    "miner = PDFMiner(path=path)\n",
    "table_keywords = ['2020']\n",
    "\n",
    "res = miner.check(keywords_dict_of_list={'Scope 1':['Scope 1', 'scope 1'], 'Scope 1 and 2':['Scope 1 and 2', 'scope 1 and 2']}, search_word_list=['tCO2e', '(t) CO2e', 't CO2', 't CO₂', 'tons CO2', 'tons CO₂', 't CO₂e', 'CO₂e', 'CO2e',  'CO2 equivalent', 'CO₂ equivalent'],\n",
    "                      table_keywords=table_keywords,neighbour_tolerance=1.50)\n",
    "res"
   ],
   "metadata": {
    "collapsed": false,
    "pycharm": {
     "name": "#%%\n"
    }
   }
  },
  {
   "cell_type": "code",
   "execution_count": 3,
   "outputs": [],
   "source": [
    "# sentence = 'This is not the end of the world or the end'\n",
    "# keyword = 'end'\n",
    "#\n",
    "# res = get_index_of_keyword_first_char_in_sentence(sentence=sentence, keyword=keyword)\n",
    "# res\n",
    "\n"
   ],
   "metadata": {
    "collapsed": false,
    "pycharm": {
     "name": "#%%\n"
    }
   }
  }
 ],
 "metadata": {
  "kernelspec": {
   "display_name": "Python 3",
   "language": "python",
   "name": "python3"
  },
  "language_info": {
   "codemirror_mode": {
    "name": "ipython",
    "version": 2
   },
   "file_extension": ".py",
   "mimetype": "text/x-python",
   "name": "python",
   "nbconvert_exporter": "python",
   "pygments_lexer": "ipython2",
   "version": "2.7.6"
  }
 },
 "nbformat": 4,
 "nbformat_minor": 0
}