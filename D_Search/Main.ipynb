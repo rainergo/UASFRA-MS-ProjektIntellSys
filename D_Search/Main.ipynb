{
 "cells": [
  {
   "cell_type": "code",
   "execution_count": null,
   "metadata": {
    "collapsed": true
   },
   "outputs": [],
   "source": [
    "from PDFMiner import PDFMiner\n",
    "from PDFMinerOrig import PDFMinerOrig\n",
    "\n",
    "from config import *\n",
    "\n",
    "path = siemens_pdf\n",
    "# pages = extract_pages(path)\n",
    "# show_ltitem_hierarchy(pages)"
   ]
  },
  {
   "cell_type": "code",
   "execution_count": null,
   "outputs": [],
   "source": [
    "# search_word_list=['tCO2e', '(t) CO2e', 't CO2', 't CO₂', 'tons CO2', 'tons CO₂', 't CO₂e', 'CO₂e', 'CO2e',  'CO2 equivalent', 'CO₂ equivalent']\n",
    "# keyword = ['FY20', '2020']\n",
    "miner = PDFMiner(path=path)\n",
    "table_keywords = miner.get_year_and_fy()\n",
    "table_keywords\n",
    "res = miner.find_word(keywords_dict_of_list={'Scope 1':['Scope 1', 'scope 1'], 'Scope 1 and 2':['Scope 1 and 2', 'scope 1 and 2']}, search_word_list=['tCO2e', '(t) CO2e', 't CO2', 't CO₂', 'tons CO2', 'tons CO₂', 't CO₂e', 'CO₂e', 'CO2e',  'CO2 equivalent', 'CO₂ equivalent'],\n",
    "                      table_keywords=table_keywords,neighbour_tolerance=1.50)\n",
    "res\n"
   ],
   "metadata": {
    "collapsed": false,
    "pycharm": {
     "name": "#%%\n"
    }
   }
  }
 ],
 "metadata": {
  "kernelspec": {
   "display_name": "Python 3",
   "language": "python",
   "name": "python3"
  },
  "language_info": {
   "codemirror_mode": {
    "name": "ipython",
    "version": 2
   },
   "file_extension": ".py",
   "mimetype": "text/x-python",
   "name": "python",
   "nbconvert_exporter": "python",
   "pygments_lexer": "ipython2",
   "version": "2.7.6"
  }
 },
 "nbformat": 4,
 "nbformat_minor": 0
}