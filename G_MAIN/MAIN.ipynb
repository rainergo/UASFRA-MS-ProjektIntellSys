{
 "cells": [
  {
   "cell_type": "code",
   "execution_count": 1,
   "metadata": {
    "collapsed": true,
    "pycharm": {
     "name": "#%%\n"
    }
   },
   "outputs": [
    {
     "name": "stdout",
     "output_type": "stream",
     "text": [
      "table_keywords: ['2018', 'FY18', 'FY2018']\n",
      "Search Results:\n",
      " [{'page_number': 36, 'Scope1': {'text_for_word2vec': {'Logista’s 2017 relative Scope 1 and 2 emissions comprise \\n39 tonnes (2016: 47) of CO2 equivalents per £million of 2017 \\ndistribution fees (our non-GAAP revenue measure for Logista)', 'CO2e Scope 1\\n', 'CO2 equivalent emissions (Tonnes) \\n \\n \\n', ' We report on the seven main greenhouse \\ngases and report in terms of tonnes of CO2 equivalent (CO2e)', 'CO2e Scope 2\\n'}, 'neighbour_values': {39.0}, 'table_values': set()}, 'Scope 2': {'text_for_word2vec': {'Logista’s 2017 relative Scope 1 and 2 emissions comprise \\n39 tonnes (2016: 47) of CO2 equivalents per £million of 2017 \\ndistribution fees (our non-GAAP revenue measure for Logista)', 'CO2e Scope 1\\n', 'CO2 equivalent emissions (Tonnes) \\n \\n \\n', ' We report on the seven main greenhouse \\ngases and report in terms of tonnes of CO2 equivalent (CO2e)', 'CO2e Scope 2\\n'}, 'neighbour_values': set(), 'table_values': set()}}]\n",
      "Wall time: 36.2 s\n"
     ]
    },
    {
     "data": {
      "text/plain": "  Vorname  Scope1 Scope 2   AbsSeiten  Jahr Gewichtseinheit  \\\n0  Rainer  [39.0]      []  [[36], []]  2018          Tonnen   \n\n                                             NamePDF  \n0  IMB - Imperial Brands Plc (IMT-GB) - Annual Re...  ",
      "text/html": "<div>\n<style scoped>\n    .dataframe tbody tr th:only-of-type {\n        vertical-align: middle;\n    }\n\n    .dataframe tbody tr th {\n        vertical-align: top;\n    }\n\n    .dataframe thead th {\n        text-align: right;\n    }\n</style>\n<table border=\"1\" class=\"dataframe\">\n  <thead>\n    <tr style=\"text-align: right;\">\n      <th></th>\n      <th>Vorname</th>\n      <th>Scope1</th>\n      <th>Scope 2</th>\n      <th>AbsSeiten</th>\n      <th>Jahr</th>\n      <th>Gewichtseinheit</th>\n      <th>NamePDF</th>\n    </tr>\n  </thead>\n  <tbody>\n    <tr>\n      <th>0</th>\n      <td>Rainer</td>\n      <td>[39.0]</td>\n      <td>[]</td>\n      <td>[[36], []]</td>\n      <td>2018</td>\n      <td>Tonnen</td>\n      <td>IMB - Imperial Brands Plc (IMT-GB) - Annual Re...</td>\n    </tr>\n  </tbody>\n</table>\n</div>"
     },
     "execution_count": 1,
     "metadata": {},
     "output_type": "execute_result"
    }
   ],
   "source": [
    "%%time\n",
    "\n",
    "from F_Extract.Extract import analyze_pdfs\n",
    "\n",
    "result = analyze_pdfs()\n",
    "result"
   ]
  },
  {
   "cell_type": "code",
   "execution_count": 2,
   "outputs": [],
   "source": [
    "result.to_excel('test.xlsx')"
   ],
   "metadata": {
    "collapsed": false,
    "pycharm": {
     "name": "#%%\n"
    }
   }
  }
 ],
 "metadata": {
  "kernelspec": {
   "display_name": "Python 3",
   "language": "python",
   "name": "python3"
  },
  "language_info": {
   "codemirror_mode": {
    "name": "ipython",
    "version": 2
   },
   "file_extension": ".py",
   "mimetype": "text/x-python",
   "name": "python",
   "nbconvert_exporter": "python",
   "pygments_lexer": "ipython2",
   "version": "2.7.6"
  }
 },
 "nbformat": 4,
 "nbformat_minor": 0
}