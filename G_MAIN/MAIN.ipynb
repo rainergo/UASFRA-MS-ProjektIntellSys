{
 "cells": [
  {
   "cell_type": "code",
   "execution_count": 1,
   "metadata": {
    "collapsed": true,
    "pycharm": {
     "name": "#%%\n"
    }
   },
   "outputs": [
    {
     "name": "stdout",
     "output_type": "stream",
     "text": [
      "table_numbers_and_pages: {'Scope1': {'values': [], 'pages': []}, 'Scope 2': {'values': [], 'pages': []}}\n",
      "neighbour_numbers_and_pages: {'Scope1': {'values': [148000.0, 1000.0, 266.0, 221.0, 292000.0], 'pages': [27, 76]}, 'Scope 2': {'values': [175.0, 5.8, 71.0], 'pages': [27]}}\n",
      "text_numbers_and_pages: {'Scope1': {'values': [], 'pages': [23, 27, 76]}, 'Scope 2': {'values': [], 'pages': []}}\n",
      "Wall time: 9.06 s\n"
     ]
    },
    {
     "data": {
      "text/plain": "  Vorname                     Scope1             Scope 2         AbsSeiten  \\\n0  Rainer  [148000.0, 1000.0, 266.0]  [175.0, 5.8, 71.0]  [[27, 76], [27]]   \n\n   Jahr Gewichtseinheit                                        NamePDF  \n0  2020          Tonnen  Siemens Energy-sustainability-report-2020.pdf  ",
      "text/html": "<div>\n<style scoped>\n    .dataframe tbody tr th:only-of-type {\n        vertical-align: middle;\n    }\n\n    .dataframe tbody tr th {\n        vertical-align: top;\n    }\n\n    .dataframe thead th {\n        text-align: right;\n    }\n</style>\n<table border=\"1\" class=\"dataframe\">\n  <thead>\n    <tr style=\"text-align: right;\">\n      <th></th>\n      <th>Vorname</th>\n      <th>Scope1</th>\n      <th>Scope 2</th>\n      <th>AbsSeiten</th>\n      <th>Jahr</th>\n      <th>Gewichtseinheit</th>\n      <th>NamePDF</th>\n    </tr>\n  </thead>\n  <tbody>\n    <tr>\n      <th>0</th>\n      <td>Rainer</td>\n      <td>[148000.0, 1000.0, 266.0]</td>\n      <td>[175.0, 5.8, 71.0]</td>\n      <td>[[27, 76], [27]]</td>\n      <td>2020</td>\n      <td>Tonnen</td>\n      <td>Siemens Energy-sustainability-report-2020.pdf</td>\n    </tr>\n  </tbody>\n</table>\n</div>"
     },
     "execution_count": 1,
     "metadata": {},
     "output_type": "execute_result"
    }
   ],
   "source": [
    "%%time\n",
    "\n",
    "from F_Extract.Extract import analyze_pdfs\n",
    "\n",
    "result = analyze_pdfs()\n",
    "result"
   ]
  },
  {
   "cell_type": "code",
   "execution_count": 2,
   "outputs": [],
   "source": [
    "#result.to_excel('NEWResult.xlsx')"
   ],
   "metadata": {
    "collapsed": false,
    "pycharm": {
     "name": "#%%\n"
    }
   }
  }
 ],
 "metadata": {
  "kernelspec": {
   "display_name": "Python 3",
   "language": "python",
   "name": "python3"
  },
  "language_info": {
   "codemirror_mode": {
    "name": "ipython",
    "version": 2
   },
   "file_extension": ".py",
   "mimetype": "text/x-python",
   "name": "python",
   "nbconvert_exporter": "python",
   "pygments_lexer": "ipython2",
   "version": "2.7.6"
  }
 },
 "nbformat": 4,
 "nbformat_minor": 0
}