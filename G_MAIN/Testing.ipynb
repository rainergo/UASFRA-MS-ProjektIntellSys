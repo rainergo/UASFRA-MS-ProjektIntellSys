{
 "cells": [
  {
   "cell_type": "code",
   "execution_count": 4,
   "metadata": {
    "collapsed": true,
    "pycharm": {
     "name": "#%%\n"
    }
   },
   "outputs": [
    {
     "name": "stdout",
     "output_type": "stream",
     "text": [
      "unit_dict: {'tons': 0, 'metric tons': 0, 'million tons': 1, '1000 metric tons': 2}\n"
     ]
    },
    {
     "data": {
      "text/plain": "'1000 metric tons'"
     },
     "execution_count": 4,
     "metadata": {},
     "output_type": "execute_result"
    }
   ],
   "source": [
    "import re\n",
    "from operator import itemgetter\n",
    "from typing import List, Tuple, Set\n",
    "\n",
    "text_set = {'This is a sentence that contains Scope 1 and the value of 292,000 1000 metric tons CO2.', 'But there is another one that does not contain any 1000 metric tons. Scope 1 CO2 million tons.'}\n",
    "keywords_list = ['Scope 1']\n",
    "unit_list = ['tons', 'metric tons', 'million tons', '1000 metric tons']\n",
    "\n",
    "\n",
    "def concat_strings_in_set(my_set_of_strings: Set[str]) -> str:\n",
    "    text = ''\n",
    "    for sentence in my_set_of_strings:\n",
    "        text += sentence\n",
    "    return text\n",
    "\n",
    "\n",
    "def instantiate_unit_dict_from_list(my_list: List[str]) -> dict:\n",
    "    dictionary = dict()\n",
    "    for list_item in my_list:\n",
    "        dictionary[list_item] = 0\n",
    "    return dictionary\n",
    "\n",
    "def sort_dictionary_by_key_len(dictionary: dict):\n",
    "    sorted_dictionary = {}\n",
    "    for k in sorted(dictionary, key=len, reverse=True):\n",
    "        sorted_dictionary[k] = dictionary[k]\n",
    "    return sorted_dictionary\n",
    "\n",
    "\n",
    "def unit_counter(set_of_strings: Set[str], unit_list: List[str]) -> dict:\n",
    "    sentence = concat_strings_in_set(my_set_of_strings=set_of_strings)\n",
    "    unit_dict = instantiate_unit_dict_from_list(unit_list)\n",
    "    sorted_dict = sort_dictionary_by_key_len(unit_dict)\n",
    "    for key in sorted_dict.keys():\n",
    "        matches = re.finditer(key, sentence)\n",
    "        for match in matches:\n",
    "            sentence = sentence.replace(match.group(),'')\n",
    "            unit_dict[key] += 1\n",
    "    print('unit_dict:', unit_dict)\n",
    "    return unit_dict\n",
    "\n",
    "def get_most_likely_unit(set_of_strings: Set[str], unit_list: List[str]):\n",
    "    unit_dict = unit_counter(set_of_strings=set_of_strings, unit_list=unit_list)\n",
    "    return max(unit_dict.items(), key=itemgetter(1))[0]\n",
    "\n",
    "\n",
    "res = get_most_likely_unit(set_of_strings=text_set, unit_list=unit_list)\n",
    "res"
   ]
  },
  {
   "cell_type": "code",
   "execution_count": 4,
   "outputs": [],
   "source": [
    "\n",
    "\n",
    "\n",
    "\n"
   ],
   "metadata": {
    "collapsed": false,
    "pycharm": {
     "name": "#%%\n"
    }
   }
  }
 ],
 "metadata": {
  "kernelspec": {
   "display_name": "Python 3",
   "language": "python",
   "name": "python3"
  },
  "language_info": {
   "codemirror_mode": {
    "name": "ipython",
    "version": 2
   },
   "file_extension": ".py",
   "mimetype": "text/x-python",
   "name": "python",
   "nbconvert_exporter": "python",
   "pygments_lexer": "ipython2",
   "version": "2.7.6"
  }
 },
 "nbformat": 4,
 "nbformat_minor": 0
}