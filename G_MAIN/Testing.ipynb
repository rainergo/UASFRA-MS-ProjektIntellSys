{
 "cells": [
  {
   "cell_type": "code",
   "execution_count": 13,
   "metadata": {
    "collapsed": true
   },
   "outputs": [
    {
     "data": {
      "text/plain": "[(0, 4),\n (5, 7),\n (8, 11),\n (12, 17),\n (18, 23),\n (24, 28),\n (29, 32),\n (33, 40),\n (41, 44),\n (45, 51),\n (52, 58),\n (59, 64),\n (65, 66),\n (67, 70),\n (71, 74),\n (75, 78),\n (79, 80),\n (81, 84),\n (85, 91),\n (92, 98)]"
     },
     "execution_count": 13,
     "metadata": {},
     "output_type": "execute_result"
    }
   ],
   "source": [
    "import re\n",
    "from typing import List, Tuple\n",
    "\n",
    "text_in_text_container = 'Dies is der erste Satz. Dies der zweite. Der dritte entält Scope 2 und Gas und . Der vierte nicht.'\n",
    "\n",
    "\n",
    "def get_first_last_indices_of_all_words_in_string(sentence: str) -> List[Tuple]:\n",
    "    \"\"\" This function will return the start and end indices of ALL words in a string as a list of tuples \"\"\"\n",
    "    return [(element.start(), element.end()) for element in re.finditer(r'\\S+', sentence)]\n",
    "\n",
    "\n",
    "res = get_first_last_indices_of_all_words_in_string(text_in_text_container)\n",
    "res"
   ]
  },
  {
   "cell_type": "code",
   "execution_count": 14,
   "outputs": [
    {
     "data": {
      "text/plain": "3"
     },
     "execution_count": 14,
     "metadata": {},
     "output_type": "execute_result"
    }
   ],
   "source": [
    "num = '323.21'\n",
    "\n",
    "import math\n",
    "digits = int(math.log10(float(num)))+1\n",
    "digits\n"
   ],
   "metadata": {
    "collapsed": false,
    "pycharm": {
     "name": "#%%\n"
    }
   }
  },
  {
   "cell_type": "code",
   "execution_count": 1,
   "outputs": [
    {
     "data": {
      "text/plain": "'\"Believe\" is the first element of our 4Bs blu adoption model. This is about triggering connections and raising awareness of the brand amongst adult smokers through a variety of methods, including responsible marketing.'"
     },
     "execution_count": 1,
     "metadata": {},
     "output_type": "execute_result"
    }
   ],
   "source": [
    "m = '\"Believe\" is the first element of our 4Bs blu  adoption model. This is about triggering  connections and raising awareness of the brand  amongst adult smokers through a variety of  methods, including responsible marketing.'\n",
    "\n",
    "l = ' '.join(m.split())\n",
    "l"
   ],
   "metadata": {
    "collapsed": false,
    "pycharm": {
     "name": "#%%\n"
    }
   }
  }
 ],
 "metadata": {
  "kernelspec": {
   "display_name": "Python 3",
   "language": "python",
   "name": "python3"
  },
  "language_info": {
   "codemirror_mode": {
    "name": "ipython",
    "version": 2
   },
   "file_extension": ".py",
   "mimetype": "text/x-python",
   "name": "python",
   "nbconvert_exporter": "python",
   "pygments_lexer": "ipython2",
   "version": "2.7.6"
  }
 },
 "nbformat": 4,
 "nbformat_minor": 0
}