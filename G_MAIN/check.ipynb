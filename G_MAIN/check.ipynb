{
 "cells": [
  {
   "cell_type": "code",
   "execution_count": null,
   "metadata": {
    "collapsed": true,
    "pycharm": {
     "name": "#%%\n"
    }
   },
   "outputs": [],
   "source": [
    "f = [{'page_number': 22,\n",
    "      'Scope1': {'text_for_word2vec': {'•  Develop operative implementation plan to reach minus \\n25 percent CO2 emissions (scope 1 & 2 of investee \\ncompanies according to GHG Protocol) absolute reduction \\non public equity and listed corporate debt by 2025 from \\na\\xa02019 baseline'},\n",
    "                 'neighbour_values': set(),\n",
    "                 'table_values': set()},\n",
    "      'Scope1und2': {'text_for_word2vec': {'•  Develop operative implementation plan to reach minus \\n25 percent CO2 emissions (scope 1 & 2 of investee \\ncompanies according to GHG Protocol) absolute reduction \\non public equity and listed corporate debt by 2025 from \\na\\xa02019 baseline'},\n",
    "                     'neighbour_values': set(),\n",
    "                     'table_values': set()}},\n",
    "     {'page_number': 41, 'Scope1': {'text_for_word2vec': {'Oil & Gas:\\n•  Supporting the commitment set out by the Oil and Gas Climate \\nInitiative (OGCI) to limit the upstream intensity for Scope 1 and \\n2 emissions of O&G companies to less than 20 kg CO2e/barrel \\nand aligning our O&G exposure on average listed equity and \\ncorporate bonds portfolio level to this intensity level'},\n",
    "                                    'neighbour_values': {2050.0},\n",
    "                                    'table_values': set()},\n",
    "      'Scope1und2': {'text_for_word2vec': {'Oil & Gas:\\n•  Supporting the commitment set out by the Oil and Gas Climate \\nInitiative (OGCI) to limit the upstream intensity for Scope 1 and \\n2 emissions of O&G companies to less than 20 kg CO2e/barrel \\nand aligning our O&G exposure on average listed equity and \\ncorporate bonds portfolio level to this intensity level'},\n",
    "                     'neighbour_values': {2050.0},\n",
    "                     'table_values': set()}},\n",
    "     {'page_number': 73,\n",
    "      'Scope1': {'text_for_word2vec': set(),\n",
    "                 'neighbour_values': set(),\n",
    "                 'table_values': set()}},\n",
    "     {'page_number': 74, 'Scope1': {'text_for_word2vec': {' In 2020, we retired carbon \\ncredits equivalent to 203,352 t CO₂ (2019: 334,033 t CO2) by \\ninvesting in low-carbon initiatives, each credit accounting for one \\nmetric ton of carbon'},\n",
    "                                    'neighbour_values': set(),\n",
    "                                    'table_values': set()},\n",
    "      'Scope1und2': {'text_for_word2vec': {' In 2020, we retired carbon \\ncredits equivalent to 203,352 t CO₂ (2019: 334,033 t CO2) by \\ninvesting in low-carbon initiatives, each credit accounting for one \\nmetric ton of carbon'},\n",
    "                     'neighbour_values': set(),\n",
    "                     'table_values': set()}},\n",
    "     {'page_number': 92,\n",
    "      'Scope1': {'text_for_word2vec': {' Carbon prices projected for 2030 \\nrange from € 45 to 115 per tonne CO2e in 2°C-aligned scenarios, \\nand increase to € 95 to 374 per tonne CO2e in 1'},\n",
    "                 'neighbour_values': {56.0},\n",
    "                 'table_values': set()},\n",
    "      'Scope1und2': {'text_for_word2vec': {' Carbon prices projected for 2030 \\nrange from € 45 to 115 per tonne CO2e in 2°C-aligned scenarios, \\nand increase to € 95 to 374 per tonne CO2e in 1'},\n",
    "                     'neighbour_values': {56.0},\n",
    "                     'table_values': set()}},\n",
    "     {'page_number': 93,\n",
    "      'Scope1': {'text_for_word2vec': set(),\n",
    "                 'neighbour_values': set(),\n",
    "                 'table_values': set()},\n",
    "      'Scope1und2': {'text_for_word2vec': set(),\n",
    "                     'neighbour_values': set(),\n",
    "                     'table_values': set()}},\n",
    "     {'page_number': 99,\n",
    "      'Scope1': {'text_for_word2vec': {'85 % per year (IRENA2 global pathway)\\n•  Scope 1&2 <20kg CO2e / barrel\\n•  50% of AuM to set net-zero 2050 targets for Scope 1+2 emissions\\n•  Engagement with Top 30 (non-aligned) emitters in\\xa0portfolio\\n•  Full participation in all available AOA organized sector and asset manager engagements\\n•  Blended finance: 4-5 new vehicles\\n•  Climate-positive solutions: Start investing into e'},\n",
    "                 'neighbour_values': {585.0, 2050.0},\n",
    "                 'table_values': set()},\n",
    "      'Scope1und2': {'text_for_word2vec': {'85 % per year (IRENA2 global pathway)\\n•  Scope 1&2 <20kg CO2e / barrel\\n•  50% of AuM to set net-zero 2050 targets for Scope 1+2 emissions\\n•  Engagement with Top 30 (non-aligned) emitters in\\xa0portfolio\\n•  Full participation in all available AOA organized sector and asset manager engagements\\n•  Blended finance: 4-5 new vehicles\\n•  Climate-positive solutions: Start investing into e'},\n",
    "                     'neighbour_values': {585.0, 2050.0},\n",
    "                     'table_values': set()}},\n",
    "     {'page_number': 107,\n",
    "      'Scope1': {'text_for_word2vec': set(),\n",
    "                 'neighbour_values': set(),\n",
    "                 'table_values': {28714.0}}},\n",
    "     {'page_number': 118,\n",
    "      'Scope1': {'text_for_word2vec': {'), report in metric tonnes of carbon dioxide equivalent (tCO2e) \\nGHG Protocol Scope 1 and Scope 2 emissions'},\n",
    "                 'neighbour_values': set(),\n",
    "                 'table_values': set()},\n",
    "      'Scope1und2': {'text_for_word2vec': {'), report in metric tonnes of carbon dioxide equivalent (tCO2e) \\nGHG Protocol Scope 1 and Scope 2 emissions'},\n",
    "                     'neighbour_values': set(),\n",
    "                     'table_values': set()}},\n",
    "     {'page_number': 124, 'Scope1': {'text_for_word2vec': set(),\n",
    "                                     'neighbour_values': set(),\n",
    "                                     'table_values': {203352.0, 28714.0}}}]"
   ]
  }
 ],
 "metadata": {
  "kernelspec": {
   "display_name": "Python 3",
   "language": "python",
   "name": "python3"
  },
  "language_info": {
   "codemirror_mode": {
    "name": "ipython",
    "version": 2
   },
   "file_extension": ".py",
   "mimetype": "text/x-python",
   "name": "python",
   "nbconvert_exporter": "python",
   "pygments_lexer": "ipython2",
   "version": "2.7.6"
  }
 },
 "nbformat": 4,
 "nbformat_minor": 0
}