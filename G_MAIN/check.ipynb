{
 "cells": [
  {
   "cell_type": "code",
   "execution_count": null,
   "metadata": {
    "collapsed": true,
    "pycharm": {
     "name": "#%%\n"
    }
   },
   "outputs": [],
   "source": [
    "f = {'Scope1':\n",
    "         {'values':\n",
    "              ['292,000 t CO2 emissions (Scope 1 and 2)',\n",
    "               'In fiscal year 2020 we achieved to reduce our scope 1 and 2 emissions by around one third or 148,000 metric tons',\n",
    "               'Scope 1 and 2 emissions 1000 metric tons of CO2 equivalent',\n",
    "               ' The total scope 1 and 2 emissions amounted to 292,000 metric tons of CO2 equivalents',\n",
    "               'In fiscal year 2020 we achieved to reduce our scope 1 and 2 emissions by around one third or 148,000 metric tons of CO2 equivalents'],\n",
    "          'pages': [23, 27, 76]},\n",
    "     'Scope 2': {'values': [], 'pages': []}}"
   ]
  }
 ],
 "metadata": {
  "kernelspec": {
   "display_name": "Python 3",
   "language": "python",
   "name": "python3"
  },
  "language_info": {
   "codemirror_mode": {
    "name": "ipython",
    "version": 2
   },
   "file_extension": ".py",
   "mimetype": "text/x-python",
   "name": "python",
   "nbconvert_exporter": "python",
   "pygments_lexer": "ipython2",
   "version": "2.7.6"
  }
 },
 "nbformat": 4,
 "nbformat_minor": 0
}